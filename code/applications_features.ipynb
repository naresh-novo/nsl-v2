{
 "cells": [
  {
   "cell_type": "code",
   "execution_count": 1,
   "metadata": {},
   "outputs": [],
   "source": [
    "# path variables\n",
    "import sys\n",
    "project_path = '/Users/naresh/Downloads/DS/growth/nsl_v2/nsl_v2_final/'\n",
    "\n",
    "# core libraries\n",
    "import datetime\n",
    "import pandas as pd\n",
    "from IPython.display import display\n",
    "import numpy as np\n",
    "import re\n",
    "import nltk\n",
    "import spacy\n",
    "import pickle\n",
    "from nltk.corpus import stopwords\n",
    "from nltk.stem import WordNetLemmatizer, PorterStemmer\n",
    "stop_words = stopwords.words('english')\n",
    "nlp = spacy.load(\"en_core_web_lg\")\n",
    "import warnings\n",
    "warnings.filterwarnings(\"ignore\")\n",
    "pd.set_option('display.max_rows', 500)\n",
    "pd.set_option('display.max_columns', 500)\n",
    "\n",
    "# load custom modules\n",
    "from model_building import split_test_train"
   ]
  },
  {
   "cell_type": "code",
   "execution_count": 2,
   "metadata": {},
   "outputs": [
    {
     "data": {
      "text/plain": [
       "(124703, 163)"
      ]
     },
     "execution_count": 2,
     "metadata": {},
     "output_type": "execute_result"
    }
   ],
   "source": [
    "# raw data\n",
    "file = 'nsl_raw_dataset_2023-05-30.pkl'\n",
    "path = project_path + 'data/'\n",
    "df_raw = pd.read_pickle(path + file)\n",
    "df_raw.shape"
   ]
  },
  {
   "cell_type": "code",
   "execution_count": 3,
   "metadata": {},
   "outputs": [
    {
     "data": {
      "text/plain": [
       "(124703, 6)"
      ]
     },
     "execution_count": 3,
     "metadata": {},
     "output_type": "execute_result"
    }
   ],
   "source": [
    "# train test flag\n",
    "file = 'nsl_train_test_flag_2023-05-30.pkl'\n",
    "path = project_path + 'data/'\n",
    "df_train_test = pd.read_pickle(path + file)\n",
    "df_train_test.shape"
   ]
  },
  {
   "cell_type": "code",
   "execution_count": 4,
   "metadata": {},
   "outputs": [],
   "source": [
    "# processed business pitch\n",
    "file = 'nsl_bp_processed_dataset_2023-05-19.pkl'\n",
    "path = project_path + 'data/'\n",
    "df_bp = pd.read_pickle(path + file)\n",
    "df_raw = pd.merge(df_raw, df_bp[['application_id','business_pitch_lema_spacy']], on='application_id', how='left')"
   ]
  },
  {
   "cell_type": "code",
   "execution_count": 5,
   "metadata": {},
   "outputs": [],
   "source": [
    "df = pd.merge(df_train_test[['application_id', 'train_flag', 'test_flag']],df_raw, on='application_id', how='left')\n",
    "x_train = df[df['train_flag'] == 1]\n",
    "y_train = df[df['train_flag'] == 1]['ns_flag']\n",
    "x_test = df[df['test_flag'] == 1]\n",
    "y_test = df[df['test_flag'] == 1]['ns_flag']"
   ]
  },
  {
   "cell_type": "code",
   "execution_count": 6,
   "metadata": {},
   "outputs": [
    {
     "data": {
      "text/plain": [
       "(87292, 166)"
      ]
     },
     "execution_count": 6,
     "metadata": {},
     "output_type": "execute_result"
    }
   ],
   "source": [
    "df = x_train.copy(deep=True)\n",
    "df.shape"
   ]
  },
  {
   "cell_type": "code",
   "execution_count": 7,
   "metadata": {},
   "outputs": [],
   "source": [
    "cat_columns = ['number_of_employees', 'ein_ssn', 'estimated_monthly_revenue', 'incoming_ach_payments', 'check_deposit_amount', 'incoming_wire_transfer'\n",
    "               , 'outgoing_ach_and_checks', 'outgoing_wire_transfers', 'email_domain', 'purpose_of_account', 'current_bank', 'industry_category_name', 'business_type',\n",
    "               'business_address_city', 'business_address_state', 'website']"
   ]
  },
  {
   "cell_type": "code",
   "execution_count": 8,
   "metadata": {},
   "outputs": [],
   "source": [
    "# Categorical\n",
    "df_impute_apps = df[cat_columns].mode().T\n",
    "df_impute_apps = df_impute_apps.reset_index().rename(columns={'index':'feature', 0:'impute_value'})\n",
    "df_impute_apps.to_pickle(project_path+'models/df_impute_apps.pkl') # Save the impute values as df\n"
   ]
  },
  {
   "cell_type": "markdown",
   "metadata": {},
   "source": [
    "#### Raw features"
   ]
  },
  {
   "cell_type": "code",
   "execution_count": 9,
   "metadata": {},
   "outputs": [],
   "source": [
    "# convert all string features to lowercase\n",
    "string_features = ['email_domain',\n",
    " 'purpose_of_account',\n",
    " 'current_bank',\n",
    " 'industry_category_name',\n",
    " 'business_type',\n",
    " 'business_address_city',\n",
    " 'business_address_state',\n",
    " 'website']\n",
    "\n",
    "for col in string_features:\n",
    "    df[col] = df[col].str.lower()"
   ]
  },
  {
   "cell_type": "markdown",
   "metadata": {},
   "source": [
    "#### Business type"
   ]
  },
  {
   "cell_type": "code",
   "execution_count": 10,
   "metadata": {},
   "outputs": [
    {
     "data": {
      "text/plain": [
       "non-sp    59318\n",
       "sp        27974\n",
       "Name: business_group, dtype: int64"
      ]
     },
     "execution_count": 10,
     "metadata": {},
     "output_type": "execute_result"
    }
   ],
   "source": [
    "df['business_group'] = np.where(df['business_type'] == 'sole_proprietorship', 'sp', 'non-sp')\n",
    "df['business_group'].value_counts()"
   ]
  },
  {
   "cell_type": "code",
   "execution_count": 11,
   "metadata": {},
   "outputs": [
    {
     "data": {
      "text/html": [
       "<div>\n",
       "<style scoped>\n",
       "    .dataframe tbody tr th:only-of-type {\n",
       "        vertical-align: middle;\n",
       "    }\n",
       "\n",
       "    .dataframe tbody tr th {\n",
       "        vertical-align: top;\n",
       "    }\n",
       "\n",
       "    .dataframe thead th {\n",
       "        text-align: right;\n",
       "    }\n",
       "</style>\n",
       "<table border=\"1\" class=\"dataframe\">\n",
       "  <thead>\n",
       "    <tr style=\"text-align: right;\">\n",
       "      <th>ns_flag</th>\n",
       "      <th>0</th>\n",
       "      <th>1</th>\n",
       "    </tr>\n",
       "    <tr>\n",
       "      <th>business_group</th>\n",
       "      <th></th>\n",
       "      <th></th>\n",
       "    </tr>\n",
       "  </thead>\n",
       "  <tbody>\n",
       "    <tr>\n",
       "      <th>non-sp</th>\n",
       "      <td>0.896743</td>\n",
       "      <td>0.103257</td>\n",
       "    </tr>\n",
       "    <tr>\n",
       "      <th>sp</th>\n",
       "      <td>0.952098</td>\n",
       "      <td>0.047902</td>\n",
       "    </tr>\n",
       "  </tbody>\n",
       "</table>\n",
       "</div>"
      ],
      "text/plain": [
       "ns_flag                0         1\n",
       "business_group                    \n",
       "non-sp          0.896743  0.103257\n",
       "sp              0.952098  0.047902"
      ]
     },
     "execution_count": 11,
     "metadata": {},
     "output_type": "execute_result"
    }
   ],
   "source": [
    "pd.crosstab(df['business_group'], df['ns_flag'], normalize='index')"
   ]
  },
  {
   "cell_type": "markdown",
   "metadata": {},
   "source": [
    "#### Email Domain"
   ]
  },
  {
   "cell_type": "code",
   "execution_count": 12,
   "metadata": {},
   "outputs": [
    {
     "data": {
      "text/plain": [
       "major_domain     60868\n",
       "custom_domain    26424\n",
       "Name: email_domain_bucket, dtype: int64"
      ]
     },
     "execution_count": 12,
     "metadata": {},
     "output_type": "execute_result"
    }
   ],
   "source": [
    "df['email_domain_bucket'] = np.where(df['email_domain'].isin(list(df.groupby(\"email_domain\").filter(lambda x: (len(x) >= 10))['email_domain'].unique())), 'major_domain', 'custom_domain')\n",
    "                            # np.where(df['email_domain'].isin(list(df.groupby(\"email_domain\").filter(lambda x: ((len(x) > 1) & (len(x) < 10)))['email_domain'].unique())), 'franchise_domain', 'personal_domain'))\n",
    "df['email_domain_bucket'].value_counts()"
   ]
  },
  {
   "cell_type": "code",
   "execution_count": 13,
   "metadata": {},
   "outputs": [],
   "source": [
    "pd.DataFrame(list(df.groupby(\"email_domain\").filter(lambda x: (len(x) >= 10))['email_domain'].unique()), columns=['email_domain']).to_pickle(project_path+'models/email_domain_group.pkl')\n"
   ]
  },
  {
   "cell_type": "code",
   "execution_count": 14,
   "metadata": {},
   "outputs": [
    {
     "data": {
      "text/html": [
       "<div>\n",
       "<style scoped>\n",
       "    .dataframe tbody tr th:only-of-type {\n",
       "        vertical-align: middle;\n",
       "    }\n",
       "\n",
       "    .dataframe tbody tr th {\n",
       "        vertical-align: top;\n",
       "    }\n",
       "\n",
       "    .dataframe thead th {\n",
       "        text-align: right;\n",
       "    }\n",
       "</style>\n",
       "<table border=\"1\" class=\"dataframe\">\n",
       "  <thead>\n",
       "    <tr style=\"text-align: right;\">\n",
       "      <th>ns_flag</th>\n",
       "      <th>0</th>\n",
       "      <th>1</th>\n",
       "    </tr>\n",
       "    <tr>\n",
       "      <th>email_domain_bucket</th>\n",
       "      <th></th>\n",
       "      <th></th>\n",
       "    </tr>\n",
       "  </thead>\n",
       "  <tbody>\n",
       "    <tr>\n",
       "      <th>custom_domain</th>\n",
       "      <td>0.881963</td>\n",
       "      <td>0.118037</td>\n",
       "    </tr>\n",
       "    <tr>\n",
       "      <th>major_domain</th>\n",
       "      <td>0.928600</td>\n",
       "      <td>0.071400</td>\n",
       "    </tr>\n",
       "  </tbody>\n",
       "</table>\n",
       "</div>"
      ],
      "text/plain": [
       "ns_flag                     0         1\n",
       "email_domain_bucket                    \n",
       "custom_domain        0.881963  0.118037\n",
       "major_domain         0.928600  0.071400"
      ]
     },
     "execution_count": 14,
     "metadata": {},
     "output_type": "execute_result"
    }
   ],
   "source": [
    "pd.crosstab(df['email_domain_bucket'], df['ns_flag'], normalize='index')"
   ]
  },
  {
   "cell_type": "markdown",
   "metadata": {},
   "source": [
    "#### Estimated Numbers"
   ]
  },
  {
   "cell_type": "code",
   "execution_count": 15,
   "metadata": {},
   "outputs": [
    {
     "name": "stdout",
     "output_type": "stream",
     "text": [
      "$5K-    54091\n",
      "$5K+    33201\n",
      "Name: estimated_monthly_revenue, dtype: int64\n",
      "$5K-    64093\n",
      "$5K+    23199\n",
      "Name: incoming_ach_payments, dtype: int64\n",
      "$5K-    68905\n",
      "$5K+    18387\n",
      "Name: check_deposit_amount, dtype: int64\n",
      "$5K-    73694\n",
      "$5K+    13598\n",
      "Name: incoming_wire_transfer, dtype: int64\n",
      "$5K-    72097\n",
      "$5K+    15195\n",
      "Name: outgoing_ach_and_checks, dtype: int64\n",
      "$5K-    77108\n",
      "$5K+    10184\n",
      "Name: outgoing_wire_transfers, dtype: int64\n"
     ]
    }
   ],
   "source": [
    "estimated_cols = ['estimated_monthly_revenue',\n",
    "                  'incoming_ach_payments',\n",
    "                  'check_deposit_amount',\n",
    "                  'incoming_wire_transfer',\n",
    "                  'outgoing_ach_and_checks',\n",
    "                  'outgoing_wire_transfers']\n",
    "\n",
    "# grouping all responses into 5K+ and 5K-\n",
    "for col in estimated_cols:\n",
    "    df[col] = df[col].str.lower()\n",
    "    df[col] = np.where(df[col].isin(['$5k +', '$50k +']), '$5K+', '$5K-')\n",
    "    print(df[col].value_counts())"
   ]
  },
  {
   "cell_type": "code",
   "execution_count": 16,
   "metadata": {
    "scrolled": true
   },
   "outputs": [
    {
     "data": {
      "text/html": [
       "<div>\n",
       "<style scoped>\n",
       "    .dataframe tbody tr th:only-of-type {\n",
       "        vertical-align: middle;\n",
       "    }\n",
       "\n",
       "    .dataframe tbody tr th {\n",
       "        vertical-align: top;\n",
       "    }\n",
       "\n",
       "    .dataframe thead th {\n",
       "        text-align: right;\n",
       "    }\n",
       "</style>\n",
       "<table border=\"1\" class=\"dataframe\">\n",
       "  <thead>\n",
       "    <tr style=\"text-align: right;\">\n",
       "      <th>ns_flag</th>\n",
       "      <th>0</th>\n",
       "      <th>1</th>\n",
       "    </tr>\n",
       "    <tr>\n",
       "      <th>estimated_monthly_revenue</th>\n",
       "      <th></th>\n",
       "      <th></th>\n",
       "    </tr>\n",
       "  </thead>\n",
       "  <tbody>\n",
       "    <tr>\n",
       "      <th>$5K+</th>\n",
       "      <td>0.847746</td>\n",
       "      <td>0.152254</td>\n",
       "    </tr>\n",
       "    <tr>\n",
       "      <th>$5K-</th>\n",
       "      <td>0.955445</td>\n",
       "      <td>0.044555</td>\n",
       "    </tr>\n",
       "  </tbody>\n",
       "</table>\n",
       "</div>"
      ],
      "text/plain": [
       "ns_flag                           0         1\n",
       "estimated_monthly_revenue                    \n",
       "$5K+                       0.847746  0.152254\n",
       "$5K-                       0.955445  0.044555"
      ]
     },
     "metadata": {},
     "output_type": "display_data"
    },
    {
     "data": {
      "text/html": [
       "<div>\n",
       "<style scoped>\n",
       "    .dataframe tbody tr th:only-of-type {\n",
       "        vertical-align: middle;\n",
       "    }\n",
       "\n",
       "    .dataframe tbody tr th {\n",
       "        vertical-align: top;\n",
       "    }\n",
       "\n",
       "    .dataframe thead th {\n",
       "        text-align: right;\n",
       "    }\n",
       "</style>\n",
       "<table border=\"1\" class=\"dataframe\">\n",
       "  <thead>\n",
       "    <tr style=\"text-align: right;\">\n",
       "      <th>ns_flag</th>\n",
       "      <th>0</th>\n",
       "      <th>1</th>\n",
       "    </tr>\n",
       "    <tr>\n",
       "      <th>incoming_ach_payments</th>\n",
       "      <th></th>\n",
       "      <th></th>\n",
       "    </tr>\n",
       "  </thead>\n",
       "  <tbody>\n",
       "    <tr>\n",
       "      <th>$5K+</th>\n",
       "      <td>0.836071</td>\n",
       "      <td>0.163929</td>\n",
       "    </tr>\n",
       "    <tr>\n",
       "      <th>$5K-</th>\n",
       "      <td>0.942864</td>\n",
       "      <td>0.057136</td>\n",
       "    </tr>\n",
       "  </tbody>\n",
       "</table>\n",
       "</div>"
      ],
      "text/plain": [
       "ns_flag                       0         1\n",
       "incoming_ach_payments                    \n",
       "$5K+                   0.836071  0.163929\n",
       "$5K-                   0.942864  0.057136"
      ]
     },
     "metadata": {},
     "output_type": "display_data"
    },
    {
     "data": {
      "text/html": [
       "<div>\n",
       "<style scoped>\n",
       "    .dataframe tbody tr th:only-of-type {\n",
       "        vertical-align: middle;\n",
       "    }\n",
       "\n",
       "    .dataframe tbody tr th {\n",
       "        vertical-align: top;\n",
       "    }\n",
       "\n",
       "    .dataframe thead th {\n",
       "        text-align: right;\n",
       "    }\n",
       "</style>\n",
       "<table border=\"1\" class=\"dataframe\">\n",
       "  <thead>\n",
       "    <tr style=\"text-align: right;\">\n",
       "      <th>ns_flag</th>\n",
       "      <th>0</th>\n",
       "      <th>1</th>\n",
       "    </tr>\n",
       "    <tr>\n",
       "      <th>check_deposit_amount</th>\n",
       "      <th></th>\n",
       "      <th></th>\n",
       "    </tr>\n",
       "  </thead>\n",
       "  <tbody>\n",
       "    <tr>\n",
       "      <th>$5K+</th>\n",
       "      <td>0.864034</td>\n",
       "      <td>0.135966</td>\n",
       "    </tr>\n",
       "    <tr>\n",
       "      <th>$5K-</th>\n",
       "      <td>0.927944</td>\n",
       "      <td>0.072056</td>\n",
       "    </tr>\n",
       "  </tbody>\n",
       "</table>\n",
       "</div>"
      ],
      "text/plain": [
       "ns_flag                      0         1\n",
       "check_deposit_amount                    \n",
       "$5K+                  0.864034  0.135966\n",
       "$5K-                  0.927944  0.072056"
      ]
     },
     "metadata": {},
     "output_type": "display_data"
    },
    {
     "data": {
      "text/html": [
       "<div>\n",
       "<style scoped>\n",
       "    .dataframe tbody tr th:only-of-type {\n",
       "        vertical-align: middle;\n",
       "    }\n",
       "\n",
       "    .dataframe tbody tr th {\n",
       "        vertical-align: top;\n",
       "    }\n",
       "\n",
       "    .dataframe thead th {\n",
       "        text-align: right;\n",
       "    }\n",
       "</style>\n",
       "<table border=\"1\" class=\"dataframe\">\n",
       "  <thead>\n",
       "    <tr style=\"text-align: right;\">\n",
       "      <th>ns_flag</th>\n",
       "      <th>0</th>\n",
       "      <th>1</th>\n",
       "    </tr>\n",
       "    <tr>\n",
       "      <th>incoming_wire_transfer</th>\n",
       "      <th></th>\n",
       "      <th></th>\n",
       "    </tr>\n",
       "  </thead>\n",
       "  <tbody>\n",
       "    <tr>\n",
       "      <th>$5K+</th>\n",
       "      <td>0.869613</td>\n",
       "      <td>0.130387</td>\n",
       "    </tr>\n",
       "    <tr>\n",
       "      <th>$5K-</th>\n",
       "      <td>0.922762</td>\n",
       "      <td>0.077238</td>\n",
       "    </tr>\n",
       "  </tbody>\n",
       "</table>\n",
       "</div>"
      ],
      "text/plain": [
       "ns_flag                        0         1\n",
       "incoming_wire_transfer                    \n",
       "$5K+                    0.869613  0.130387\n",
       "$5K-                    0.922762  0.077238"
      ]
     },
     "metadata": {},
     "output_type": "display_data"
    },
    {
     "data": {
      "text/html": [
       "<div>\n",
       "<style scoped>\n",
       "    .dataframe tbody tr th:only-of-type {\n",
       "        vertical-align: middle;\n",
       "    }\n",
       "\n",
       "    .dataframe tbody tr th {\n",
       "        vertical-align: top;\n",
       "    }\n",
       "\n",
       "    .dataframe thead th {\n",
       "        text-align: right;\n",
       "    }\n",
       "</style>\n",
       "<table border=\"1\" class=\"dataframe\">\n",
       "  <thead>\n",
       "    <tr style=\"text-align: right;\">\n",
       "      <th>ns_flag</th>\n",
       "      <th>0</th>\n",
       "      <th>1</th>\n",
       "    </tr>\n",
       "    <tr>\n",
       "      <th>outgoing_ach_and_checks</th>\n",
       "      <th></th>\n",
       "      <th></th>\n",
       "    </tr>\n",
       "  </thead>\n",
       "  <tbody>\n",
       "    <tr>\n",
       "      <th>$5K+</th>\n",
       "      <td>0.825403</td>\n",
       "      <td>0.174597</td>\n",
       "    </tr>\n",
       "    <tr>\n",
       "      <th>$5K-</th>\n",
       "      <td>0.933257</td>\n",
       "      <td>0.066743</td>\n",
       "    </tr>\n",
       "  </tbody>\n",
       "</table>\n",
       "</div>"
      ],
      "text/plain": [
       "ns_flag                         0         1\n",
       "outgoing_ach_and_checks                    \n",
       "$5K+                     0.825403  0.174597\n",
       "$5K-                     0.933257  0.066743"
      ]
     },
     "metadata": {},
     "output_type": "display_data"
    },
    {
     "data": {
      "text/html": [
       "<div>\n",
       "<style scoped>\n",
       "    .dataframe tbody tr th:only-of-type {\n",
       "        vertical-align: middle;\n",
       "    }\n",
       "\n",
       "    .dataframe tbody tr th {\n",
       "        vertical-align: top;\n",
       "    }\n",
       "\n",
       "    .dataframe thead th {\n",
       "        text-align: right;\n",
       "    }\n",
       "</style>\n",
       "<table border=\"1\" class=\"dataframe\">\n",
       "  <thead>\n",
       "    <tr style=\"text-align: right;\">\n",
       "      <th>ns_flag</th>\n",
       "      <th>0</th>\n",
       "      <th>1</th>\n",
       "    </tr>\n",
       "    <tr>\n",
       "      <th>outgoing_wire_transfers</th>\n",
       "      <th></th>\n",
       "      <th></th>\n",
       "    </tr>\n",
       "  </thead>\n",
       "  <tbody>\n",
       "    <tr>\n",
       "      <th>$5K+</th>\n",
       "      <td>0.870679</td>\n",
       "      <td>0.129321</td>\n",
       "    </tr>\n",
       "    <tr>\n",
       "      <th>$5K-</th>\n",
       "      <td>0.920268</td>\n",
       "      <td>0.079732</td>\n",
       "    </tr>\n",
       "  </tbody>\n",
       "</table>\n",
       "</div>"
      ],
      "text/plain": [
       "ns_flag                         0         1\n",
       "outgoing_wire_transfers                    \n",
       "$5K+                     0.870679  0.129321\n",
       "$5K-                     0.920268  0.079732"
      ]
     },
     "metadata": {},
     "output_type": "display_data"
    }
   ],
   "source": [
    "for col in estimated_cols:\n",
    "    display(pd.crosstab(df[col], df['ns_flag'], normalize='index'))"
   ]
  },
  {
   "cell_type": "markdown",
   "metadata": {},
   "source": [
    "#### Number of employees"
   ]
  },
  {
   "cell_type": "code",
   "execution_count": 17,
   "metadata": {},
   "outputs": [
    {
     "data": {
      "text/plain": [
       "1      57621\n",
       "2-5    26459\n",
       "5+      3212\n",
       "Name: number_of_employees_bin, dtype: int64"
      ]
     },
     "execution_count": 17,
     "metadata": {},
     "output_type": "execute_result"
    }
   ],
   "source": [
    "df[\"number_of_employees\"] = pd.to_numeric(df[\"number_of_employees\"])\n",
    "df['number_of_employees_bin'] = df[\"number_of_employees\"]\n",
    "df['number_of_employees_bin'] = np.where((df['number_of_employees']>=2) & (df['number_of_employees']<=5), '2-5', \n",
    "                                np.where((df['number_of_employees']>5), '5+', df['number_of_employees_bin']))\n",
    "df['number_of_employees_bin'].value_counts()"
   ]
  },
  {
   "cell_type": "code",
   "execution_count": 18,
   "metadata": {},
   "outputs": [
    {
     "data": {
      "text/html": [
       "<div>\n",
       "<style scoped>\n",
       "    .dataframe tbody tr th:only-of-type {\n",
       "        vertical-align: middle;\n",
       "    }\n",
       "\n",
       "    .dataframe tbody tr th {\n",
       "        vertical-align: top;\n",
       "    }\n",
       "\n",
       "    .dataframe thead th {\n",
       "        text-align: right;\n",
       "    }\n",
       "</style>\n",
       "<table border=\"1\" class=\"dataframe\">\n",
       "  <thead>\n",
       "    <tr style=\"text-align: right;\">\n",
       "      <th>ns_flag</th>\n",
       "      <th>0</th>\n",
       "      <th>1</th>\n",
       "    </tr>\n",
       "    <tr>\n",
       "      <th>number_of_employees_bin</th>\n",
       "      <th></th>\n",
       "      <th></th>\n",
       "    </tr>\n",
       "  </thead>\n",
       "  <tbody>\n",
       "    <tr>\n",
       "      <th>1</th>\n",
       "      <td>0.917096</td>\n",
       "      <td>0.082904</td>\n",
       "    </tr>\n",
       "    <tr>\n",
       "      <th>2-5</th>\n",
       "      <td>0.912695</td>\n",
       "      <td>0.087305</td>\n",
       "    </tr>\n",
       "    <tr>\n",
       "      <th>5+</th>\n",
       "      <td>0.882316</td>\n",
       "      <td>0.117684</td>\n",
       "    </tr>\n",
       "  </tbody>\n",
       "</table>\n",
       "</div>"
      ],
      "text/plain": [
       "ns_flag                         0         1\n",
       "number_of_employees_bin                    \n",
       "1                        0.917096  0.082904\n",
       "2-5                      0.912695  0.087305\n",
       "5+                       0.882316  0.117684"
      ]
     },
     "execution_count": 18,
     "metadata": {},
     "output_type": "execute_result"
    }
   ],
   "source": [
    "pd.crosstab(df['number_of_employees_bin'], df['ns_flag'], normalize='index')"
   ]
  },
  {
   "cell_type": "markdown",
   "metadata": {},
   "source": [
    "#### Purpose of account"
   ]
  },
  {
   "cell_type": "code",
   "execution_count": 19,
   "metadata": {},
   "outputs": [
    {
     "data": {
      "text/plain": [
       "3-    63904\n",
       "3+    23388\n",
       "Name: purpose_of_account_options_selected, dtype: int64"
      ]
     },
     "execution_count": 19,
     "metadata": {},
     "output_type": "execute_result"
    }
   ],
   "source": [
    "# Purpose of account - options selected\n",
    "df['purpose_of_account_options_selected'] = df['purpose_of_account'].str.count(',')+1\n",
    "df['purpose_of_account_options_selected'] = np.where(df['purpose_of_account_options_selected']<=3, '3-', '3+')\n",
    "df['purpose_of_account_options_selected'].value_counts()"
   ]
  },
  {
   "cell_type": "code",
   "execution_count": 20,
   "metadata": {},
   "outputs": [
    {
     "data": {
      "text/html": [
       "<div>\n",
       "<style scoped>\n",
       "    .dataframe tbody tr th:only-of-type {\n",
       "        vertical-align: middle;\n",
       "    }\n",
       "\n",
       "    .dataframe tbody tr th {\n",
       "        vertical-align: top;\n",
       "    }\n",
       "\n",
       "    .dataframe thead th {\n",
       "        text-align: right;\n",
       "    }\n",
       "</style>\n",
       "<table border=\"1\" class=\"dataframe\">\n",
       "  <thead>\n",
       "    <tr style=\"text-align: right;\">\n",
       "      <th>ns_flag</th>\n",
       "      <th>0</th>\n",
       "      <th>1</th>\n",
       "    </tr>\n",
       "    <tr>\n",
       "      <th>purpose_of_account_options_selected</th>\n",
       "      <th></th>\n",
       "      <th></th>\n",
       "    </tr>\n",
       "  </thead>\n",
       "  <tbody>\n",
       "    <tr>\n",
       "      <th>3+</th>\n",
       "      <td>0.903241</td>\n",
       "      <td>0.096759</td>\n",
       "    </tr>\n",
       "    <tr>\n",
       "      <th>3-</th>\n",
       "      <td>0.918597</td>\n",
       "      <td>0.081403</td>\n",
       "    </tr>\n",
       "  </tbody>\n",
       "</table>\n",
       "</div>"
      ],
      "text/plain": [
       "ns_flag                                     0         1\n",
       "purpose_of_account_options_selected                    \n",
       "3+                                   0.903241  0.096759\n",
       "3-                                   0.918597  0.081403"
      ]
     },
     "execution_count": 20,
     "metadata": {},
     "output_type": "execute_result"
    }
   ],
   "source": [
    "pd.crosstab(df['purpose_of_account_options_selected'], df['ns_flag'], normalize='index')"
   ]
  },
  {
   "cell_type": "markdown",
   "metadata": {},
   "source": [
    "#### Industry type"
   ]
  },
  {
   "cell_type": "code",
   "execution_count": 21,
   "metadata": {},
   "outputs": [],
   "source": [
    "# industry_df = pd.crosstab(df['industry_category_name'], df['ns_flag'], normalize='index')\n",
    "# hdi_group = industry_df[industry_df[1] > df['ns_flag'].value_counts(normalize=True)[1]].index.to_list()\n",
    "# df['industry_group'] = np.where(df['industry_category_name'].isin(hdi_group), 'hdi_group', 'ldi_group')\n",
    "# df['industry_group'].value_counts()\n",
    "\n",
    "# pd.DataFrame(hdi_group, columns=['value']).to_pickle(project_path+'models/hdi_group.pkl')\n",
    "# pd.crosstab(df['industry_group'], df['ns_flag'], normalize='index')"
   ]
  },
  {
   "cell_type": "code",
   "execution_count": 22,
   "metadata": {},
   "outputs": [],
   "source": [
    "# col = 'industry_category_name'\n",
    "# df[col] = df[col].str.lower()\n",
    "# tmp1 = pd.DataFrame(df[col].value_counts()).reset_index().rename(columns={col:'volume'})\n",
    "# tmp2 = pd.DataFrame(df.groupby([col]).ns_flag.mean()).reset_index().rename(columns={'ns_flag':'target_rate'})\n",
    "\n",
    "# tmp = pd.merge(tmp1, tmp2, left_on='index',right_on=col, how='inner')\n",
    "\n",
    "# tmp['vol_percent'] = tmp['volume'] * 100/df.shape[0]\n",
    "# tmp['target'] = np.round(tmp['volume'] * tmp['target_rate'] , 0)\n",
    "# tmp = tmp[[col]+['volume','vol_percent','target_rate','target']].sort_values(by=['vol_percent'], ascending=False)\n",
    "\n",
    "# high_ns_values = tmp[(tmp.vol_percent>4) & (tmp.target_rate>=df.ns_flag.mean())][col].to_list()\n",
    "# low_ns_values = tmp[(tmp.vol_percent>4) & (tmp.target_rate<df.ns_flag.mean())][col].to_list()\n"
   ]
  },
  {
   "cell_type": "markdown",
   "metadata": {},
   "source": [
    "#### Business Age"
   ]
  },
  {
   "cell_type": "code",
   "execution_count": 23,
   "metadata": {},
   "outputs": [
    {
     "data": {
      "text/plain": [
       "3+      6660\n",
       "1-3    10655\n",
       "1      69977\n",
       "Name: business_age_bucket, dtype: int64"
      ]
     },
     "execution_count": 23,
     "metadata": {},
     "output_type": "execute_result"
    }
   ],
   "source": [
    "df['date_of_establishment_dt'] = pd.to_datetime(df['date_of_establishment'], format='%Y-%m', errors='coerce').dropna()\n",
    "df['business_age'] = round((df['application_start_datetime'] - df['date_of_establishment_dt']) / np.timedelta64(1, 'Y'),2)\n",
    "df['business_age'] = df['business_age'].fillna(0)\n",
    "df['business_age_bucket'] = np.where(df['business_age'] <= 1, '1', \n",
    "                                    np.where((df['business_age']>1) & (df['business_age']<=3), '1-3', '3+'))\n",
    "df['business_age_bucket'].value_counts().sort_values()"
   ]
  },
  {
   "cell_type": "code",
   "execution_count": 24,
   "metadata": {},
   "outputs": [
    {
     "data": {
      "text/html": [
       "<div>\n",
       "<style scoped>\n",
       "    .dataframe tbody tr th:only-of-type {\n",
       "        vertical-align: middle;\n",
       "    }\n",
       "\n",
       "    .dataframe tbody tr th {\n",
       "        vertical-align: top;\n",
       "    }\n",
       "\n",
       "    .dataframe thead th {\n",
       "        text-align: right;\n",
       "    }\n",
       "</style>\n",
       "<table border=\"1\" class=\"dataframe\">\n",
       "  <thead>\n",
       "    <tr style=\"text-align: right;\">\n",
       "      <th>ns_flag</th>\n",
       "      <th>0</th>\n",
       "      <th>1</th>\n",
       "    </tr>\n",
       "    <tr>\n",
       "      <th>business_age_bucket</th>\n",
       "      <th></th>\n",
       "      <th></th>\n",
       "    </tr>\n",
       "  </thead>\n",
       "  <tbody>\n",
       "    <tr>\n",
       "      <th>1</th>\n",
       "      <td>0.921674</td>\n",
       "      <td>0.078326</td>\n",
       "    </tr>\n",
       "    <tr>\n",
       "      <th>1-3</th>\n",
       "      <td>0.912435</td>\n",
       "      <td>0.087565</td>\n",
       "    </tr>\n",
       "    <tr>\n",
       "      <th>3+</th>\n",
       "      <td>0.842192</td>\n",
       "      <td>0.157808</td>\n",
       "    </tr>\n",
       "  </tbody>\n",
       "</table>\n",
       "</div>"
      ],
      "text/plain": [
       "ns_flag                     0         1\n",
       "business_age_bucket                    \n",
       "1                    0.921674  0.078326\n",
       "1-3                  0.912435  0.087565\n",
       "3+                   0.842192  0.157808"
      ]
     },
     "execution_count": 24,
     "metadata": {},
     "output_type": "execute_result"
    }
   ],
   "source": [
    "pd.crosstab(df['business_age_bucket'], df['ns_flag'], normalize='index')"
   ]
  },
  {
   "cell_type": "markdown",
   "metadata": {},
   "source": [
    "#### Website"
   ]
  },
  {
   "cell_type": "code",
   "execution_count": 25,
   "metadata": {},
   "outputs": [
    {
     "data": {
      "text/plain": [
       "0    55520\n",
       "1    31772\n",
       "Name: website_flag, dtype: int64"
      ]
     },
     "execution_count": 25,
     "metadata": {},
     "output_type": "execute_result"
    }
   ],
   "source": [
    "df['website_flag'] = np.where(df['website'].isna(), 0, 1)\n",
    "df['website_flag'].value_counts()"
   ]
  },
  {
   "cell_type": "code",
   "execution_count": 26,
   "metadata": {},
   "outputs": [
    {
     "data": {
      "text/html": [
       "<div>\n",
       "<style scoped>\n",
       "    .dataframe tbody tr th:only-of-type {\n",
       "        vertical-align: middle;\n",
       "    }\n",
       "\n",
       "    .dataframe tbody tr th {\n",
       "        vertical-align: top;\n",
       "    }\n",
       "\n",
       "    .dataframe thead th {\n",
       "        text-align: right;\n",
       "    }\n",
       "</style>\n",
       "<table border=\"1\" class=\"dataframe\">\n",
       "  <thead>\n",
       "    <tr style=\"text-align: right;\">\n",
       "      <th>ns_flag</th>\n",
       "      <th>0</th>\n",
       "      <th>1</th>\n",
       "    </tr>\n",
       "    <tr>\n",
       "      <th>website_flag</th>\n",
       "      <th></th>\n",
       "      <th></th>\n",
       "    </tr>\n",
       "  </thead>\n",
       "  <tbody>\n",
       "    <tr>\n",
       "      <th>0</th>\n",
       "      <td>0.919561</td>\n",
       "      <td>0.080439</td>\n",
       "    </tr>\n",
       "    <tr>\n",
       "      <th>1</th>\n",
       "      <td>0.905609</td>\n",
       "      <td>0.094391</td>\n",
       "    </tr>\n",
       "  </tbody>\n",
       "</table>\n",
       "</div>"
      ],
      "text/plain": [
       "ns_flag              0         1\n",
       "website_flag                    \n",
       "0             0.919561  0.080439\n",
       "1             0.905609  0.094391"
      ]
     },
     "execution_count": 26,
     "metadata": {},
     "output_type": "execute_result"
    }
   ],
   "source": [
    "pd.crosstab(df['website_flag'], df['ns_flag'], normalize='index')"
   ]
  },
  {
   "cell_type": "markdown",
   "metadata": {},
   "source": [
    "#### State"
   ]
  },
  {
   "cell_type": "code",
   "execution_count": 27,
   "metadata": {},
   "outputs": [],
   "source": [
    "# state_df = pd.crosstab(df['business_address_state'], df['ns_flag'], normalize='index')\n",
    "# hds_group = state_df[state_df[1] > df['ns_flag'].value_counts(normalize=True)[1]].index.to_list()\n",
    "# df['state_group'] = np.where(df['business_address_state'].isin(hds_group), 'hds_group', 'lds_group')\n",
    "# df['state_group'].value_counts()"
   ]
  },
  {
   "cell_type": "code",
   "execution_count": 28,
   "metadata": {
    "scrolled": true
   },
   "outputs": [],
   "source": [
    "col = 'business_address_state'\n",
    "df[col] = df[col].str.lower()\n",
    "tmp1 = pd.DataFrame(df[col].value_counts()).reset_index().rename(columns={col:'volume'})\n",
    "tmp2 = pd.DataFrame(df.groupby([col]).ns_flag.mean()).reset_index().rename(columns={'ns_flag':'target_rate'})\n",
    "\n",
    "tmp = pd.merge(tmp1, tmp2, left_on='index',right_on=col, how='inner')\n",
    "\n",
    "tmp['vol_percent'] = tmp['volume'] * 100/df.shape[0]\n",
    "tmp['target'] = np.round(tmp['volume'] * tmp['target_rate'] , 0)\n",
    "tmp = tmp[[col]+['volume','vol_percent','target_rate','target']].sort_values(by=['vol_percent'], ascending=False)"
   ]
  },
  {
   "cell_type": "code",
   "execution_count": 29,
   "metadata": {
    "scrolled": true
   },
   "outputs": [],
   "source": [
    "high_ns_values = tmp[(tmp.vol_percent>2) & (tmp.target_rate>=df.ns_flag.mean())][col].to_list()\n",
    "low_ns_values = tmp[(tmp.vol_percent>2) & (tmp.target_rate<df.ns_flag.mean())][col].to_list()\n",
    "\n",
    "df[col] = df[col].str.lower()\n",
    "idx_1 = df.index[df[col].isin(high_ns_values)].tolist() \n",
    "idx_2 = df.index[df[col].isin(low_ns_values)].tolist() \n",
    "\n",
    "# nulls\n",
    "idx_nulls = df.index[df[col].isnull()].tolist()\n",
    "idx_nulls.extend(df.index[df[col].isna()].tolist())\n",
    "idx_nulls.extend(df.index[df[col]==''].tolist())\n",
    "idx_nulls = list(set(idx_nulls))\n",
    "idx_full = df.index.to_list()\n",
    "# other\n",
    "idx_other = list(set(idx_full) - set(idx_1+idx_2) - set(idx_nulls))\n",
    "\n",
    "# Encoding into categories\n",
    "df.loc[idx_1, col] = 'high_ns'\n",
    "df.loc[idx_2, col] = 'low_ns'\n",
    "df.loc[idx_other, col] = 'other'"
   ]
  },
  {
   "cell_type": "code",
   "execution_count": 30,
   "metadata": {},
   "outputs": [],
   "source": [
    "pd.DataFrame(high_ns_values, columns=[col]).to_pickle(project_path+'models/high_ns_busi_state.pkl')\n",
    "pd.DataFrame(low_ns_values, columns=[col]).to_pickle(project_path+'models/low_ns_busi_state.pkl')"
   ]
  },
  {
   "cell_type": "code",
   "execution_count": 31,
   "metadata": {},
   "outputs": [
    {
     "data": {
      "text/plain": [
       "(nan, nan, 0.08551757320258443)"
      ]
     },
     "execution_count": 31,
     "metadata": {},
     "output_type": "execute_result"
    }
   ],
   "source": [
    "df[df.business_address_state.isin(high_ns_values)].ns_flag.mean(), df[df.business_address_state.isin(low_ns_values)].ns_flag.mean(), df[~(df.business_address_state.isin(high_ns_values+low_ns_values))].ns_flag.mean()\n"
   ]
  },
  {
   "cell_type": "code",
   "execution_count": 32,
   "metadata": {},
   "outputs": [
    {
     "data": {
      "text/plain": [
       "(33.951564862759476, 3079.0)"
      ]
     },
     "execution_count": 32,
     "metadata": {},
     "output_type": "execute_result"
    }
   ],
   "source": [
    "tmp[tmp[col].isin(high_ns_values)].vol_percent.sum(), tmp[tmp[col].isin(high_ns_values)].target.sum()"
   ]
  },
  {
   "cell_type": "code",
   "execution_count": 33,
   "metadata": {},
   "outputs": [
    {
     "data": {
      "text/plain": [
       "(26.645053384044356, 2078.0)"
      ]
     },
     "execution_count": 33,
     "metadata": {},
     "output_type": "execute_result"
    }
   ],
   "source": [
    "tmp[~(tmp[col].isin(high_ns_values+low_ns_values))].vol_percent.sum(), tmp[~(tmp[col].isin(high_ns_values+low_ns_values))].target.sum()\n"
   ]
  },
  {
   "cell_type": "code",
   "execution_count": 34,
   "metadata": {},
   "outputs": [
    {
     "data": {
      "text/plain": [
       "(39.40338175319617, 2308.0)"
      ]
     },
     "execution_count": 34,
     "metadata": {},
     "output_type": "execute_result"
    }
   ],
   "source": [
    "tmp[tmp[col].isin(low_ns_values)].vol_percent.sum(), tmp[tmp[col].isin(low_ns_values)].target.sum()"
   ]
  },
  {
   "cell_type": "code",
   "execution_count": 35,
   "metadata": {},
   "outputs": [],
   "source": [
    "# pd.DataFrame(hds_group, columns=['value']).to_pickle(project_path+'models/hds_group.pkl')"
   ]
  },
  {
   "cell_type": "code",
   "execution_count": 36,
   "metadata": {},
   "outputs": [
    {
     "data": {
      "text/html": [
       "<div>\n",
       "<style scoped>\n",
       "    .dataframe tbody tr th:only-of-type {\n",
       "        vertical-align: middle;\n",
       "    }\n",
       "\n",
       "    .dataframe tbody tr th {\n",
       "        vertical-align: top;\n",
       "    }\n",
       "\n",
       "    .dataframe thead th {\n",
       "        text-align: right;\n",
       "    }\n",
       "</style>\n",
       "<table border=\"1\" class=\"dataframe\">\n",
       "  <thead>\n",
       "    <tr style=\"text-align: right;\">\n",
       "      <th>ns_flag</th>\n",
       "      <th>0</th>\n",
       "      <th>1</th>\n",
       "    </tr>\n",
       "    <tr>\n",
       "      <th>business_address_state</th>\n",
       "      <th></th>\n",
       "      <th></th>\n",
       "    </tr>\n",
       "  </thead>\n",
       "  <tbody>\n",
       "    <tr>\n",
       "      <th>high_ns</th>\n",
       "      <td>0.896110</td>\n",
       "      <td>0.103890</td>\n",
       "    </tr>\n",
       "    <tr>\n",
       "      <th>low_ns</th>\n",
       "      <td>0.932899</td>\n",
       "      <td>0.067101</td>\n",
       "    </tr>\n",
       "    <tr>\n",
       "      <th>other</th>\n",
       "      <td>0.910658</td>\n",
       "      <td>0.089342</td>\n",
       "    </tr>\n",
       "  </tbody>\n",
       "</table>\n",
       "</div>"
      ],
      "text/plain": [
       "ns_flag                        0         1\n",
       "business_address_state                    \n",
       "high_ns                 0.896110  0.103890\n",
       "low_ns                  0.932899  0.067101\n",
       "other                   0.910658  0.089342"
      ]
     },
     "execution_count": 36,
     "metadata": {},
     "output_type": "execute_result"
    }
   ],
   "source": [
    "pd.crosstab(df[col], df['ns_flag'], normalize='index')"
   ]
  },
  {
   "cell_type": "markdown",
   "metadata": {},
   "source": [
    "#### City"
   ]
  },
  {
   "cell_type": "code",
   "execution_count": 37,
   "metadata": {},
   "outputs": [],
   "source": [
    "# city_df = pd.crosstab(df['business_address_city'], df['ns_flag'], normalize='index')\n",
    "# hdc_group = city_df[city_df[1] > df['ns_flag'].value_counts(normalize=True)[1]].index.to_list()\n",
    "# df['city_group'] = np.where(df['business_address_city'].isin(hdc_group), 'hdc_group', 'ldc_group')\n",
    "# df['city_group'].value_counts()"
   ]
  },
  {
   "cell_type": "code",
   "execution_count": null,
   "metadata": {},
   "outputs": [],
   "source": []
  },
  {
   "cell_type": "code",
   "execution_count": 38,
   "metadata": {},
   "outputs": [],
   "source": [
    "col = 'business_address_city'\n",
    "df[col] = df[col].str.lower()\n",
    "tmp1 = pd.DataFrame(df[col].value_counts()).reset_index().rename(columns={col:'volume'})\n",
    "tmp2 = pd.DataFrame(df.groupby([col]).ns_flag.mean()).reset_index().rename(columns={'ns_flag':'target_rate'})\n",
    "\n",
    "tmp = pd.merge(tmp1, tmp2, left_on='index',right_on=col, how='inner')\n",
    "\n",
    "tmp['vol_percent'] = tmp['volume'] * 100/df.shape[0]\n",
    "tmp['target'] = np.round(tmp['volume'] * tmp['target_rate'] , 0)\n",
    "tmp = tmp[[col]+['volume','vol_percent','target_rate','target']].sort_values(by=['vol_percent'], ascending=False)"
   ]
  },
  {
   "cell_type": "code",
   "execution_count": 39,
   "metadata": {},
   "outputs": [],
   "source": [
    "high_ns_values = tmp[(tmp.vol_percent>1) & (tmp.target_rate>=df.ns_flag.mean())][col].to_list()\n",
    "low_ns_values = tmp[(tmp.vol_percent>1) & (tmp.target_rate<df.ns_flag.mean())][col].to_list()\n",
    "\n",
    "df[col] = df[col].str.lower()\n",
    "idx_1 = df.index[df[col].isin(high_ns_values)].tolist() \n",
    "idx_2 = df.index[df[col].isin(low_ns_values)].tolist() \n",
    "\n",
    "# nulls\n",
    "idx_nulls = df.index[df[col].isnull()].tolist()\n",
    "idx_nulls.extend(df.index[df[col].isna()].tolist())\n",
    "idx_nulls.extend(df.index[df[col]==''].tolist())\n",
    "idx_nulls = list(set(idx_nulls))\n",
    "idx_full = df.index.to_list()\n",
    "# other\n",
    "idx_other = list(set(idx_full) - set(idx_1+idx_2) - set(idx_nulls))\n",
    "\n",
    "# Encoding into categories\n",
    "df.loc[idx_1, col] = 'high_ns'\n",
    "df.loc[idx_2, col] = 'low_ns'\n",
    "df.loc[idx_other, col] = 'other'"
   ]
  },
  {
   "cell_type": "code",
   "execution_count": 40,
   "metadata": {},
   "outputs": [],
   "source": [
    "pd.DataFrame(high_ns_values, columns=[col]).to_pickle(project_path+'models/high_ns_busi_city.pkl')\n",
    "pd.DataFrame(low_ns_values, columns=[col]).to_pickle(project_path+'models/low_ns_busi_city.pkl')"
   ]
  },
  {
   "cell_type": "code",
   "execution_count": 41,
   "metadata": {},
   "outputs": [
    {
     "data": {
      "text/plain": [
       "(nan, 0.08551757320258443, nan)"
      ]
     },
     "execution_count": 41,
     "metadata": {},
     "output_type": "execute_result"
    }
   ],
   "source": [
    "df[df.business_address_city.isin(high_ns_values)].ns_flag.mean(), df[~(df.business_address_city.isin(high_ns_values+low_ns_values))].ns_flag.mean(), df[df.business_address_city.isin(low_ns_values)].ns_flag.mean()\n"
   ]
  },
  {
   "cell_type": "code",
   "execution_count": 42,
   "metadata": {},
   "outputs": [],
   "source": [
    "# # save the city group\n",
    "# file = 'hdc_group_list.pkl'\n",
    "# path = project_path + 'data/'\n",
    "# with open(path + file, 'wb') as f:\n",
    "#     pickle.dump(hdc_group, f)"
   ]
  },
  {
   "cell_type": "code",
   "execution_count": 43,
   "metadata": {},
   "outputs": [
    {
     "data": {
      "text/html": [
       "<div>\n",
       "<style scoped>\n",
       "    .dataframe tbody tr th:only-of-type {\n",
       "        vertical-align: middle;\n",
       "    }\n",
       "\n",
       "    .dataframe tbody tr th {\n",
       "        vertical-align: top;\n",
       "    }\n",
       "\n",
       "    .dataframe thead th {\n",
       "        text-align: right;\n",
       "    }\n",
       "</style>\n",
       "<table border=\"1\" class=\"dataframe\">\n",
       "  <thead>\n",
       "    <tr style=\"text-align: right;\">\n",
       "      <th>ns_flag</th>\n",
       "      <th>0</th>\n",
       "      <th>1</th>\n",
       "    </tr>\n",
       "    <tr>\n",
       "      <th>business_address_city</th>\n",
       "      <th></th>\n",
       "      <th></th>\n",
       "    </tr>\n",
       "  </thead>\n",
       "  <tbody>\n",
       "    <tr>\n",
       "      <th>high_ns</th>\n",
       "      <td>0.867580</td>\n",
       "      <td>0.132420</td>\n",
       "    </tr>\n",
       "    <tr>\n",
       "      <th>low_ns</th>\n",
       "      <td>0.928956</td>\n",
       "      <td>0.071044</td>\n",
       "    </tr>\n",
       "    <tr>\n",
       "      <th>other</th>\n",
       "      <td>0.914453</td>\n",
       "      <td>0.085547</td>\n",
       "    </tr>\n",
       "  </tbody>\n",
       "</table>\n",
       "</div>"
      ],
      "text/plain": [
       "ns_flag                       0         1\n",
       "business_address_city                    \n",
       "high_ns                0.867580  0.132420\n",
       "low_ns                 0.928956  0.071044\n",
       "other                  0.914453  0.085547"
      ]
     },
     "execution_count": 43,
     "metadata": {},
     "output_type": "execute_result"
    }
   ],
   "source": [
    "pd.crosstab(df[col], df['ns_flag'], normalize='index')"
   ]
  },
  {
   "cell_type": "markdown",
   "metadata": {},
   "source": [
    "#### Current bank"
   ]
  },
  {
   "cell_type": "code",
   "execution_count": 44,
   "metadata": {},
   "outputs": [
    {
     "data": {
      "text/plain": [
       "ldb_group    80327\n",
       "hdb_group     6965\n",
       "Name: current_bank_group, dtype: int64"
      ]
     },
     "execution_count": 44,
     "metadata": {},
     "output_type": "execute_result"
    }
   ],
   "source": [
    "hdb_group = ['bluevine', 'other-national-bank', 'td-ank', 'chase', 'usaa']\n",
    "df['current_bank_group'] = np.where(df['current_bank'].isin(hdb_group), 'hdb_group', 'ldb_group')\n",
    "df['current_bank_group'].value_counts()"
   ]
  },
  {
   "cell_type": "code",
   "execution_count": 45,
   "metadata": {},
   "outputs": [
    {
     "data": {
      "text/html": [
       "<div>\n",
       "<style scoped>\n",
       "    .dataframe tbody tr th:only-of-type {\n",
       "        vertical-align: middle;\n",
       "    }\n",
       "\n",
       "    .dataframe tbody tr th {\n",
       "        vertical-align: top;\n",
       "    }\n",
       "\n",
       "    .dataframe thead th {\n",
       "        text-align: right;\n",
       "    }\n",
       "</style>\n",
       "<table border=\"1\" class=\"dataframe\">\n",
       "  <thead>\n",
       "    <tr style=\"text-align: right;\">\n",
       "      <th>ns_flag</th>\n",
       "      <th>0</th>\n",
       "      <th>1</th>\n",
       "    </tr>\n",
       "    <tr>\n",
       "      <th>current_bank_group</th>\n",
       "      <th></th>\n",
       "      <th></th>\n",
       "    </tr>\n",
       "  </thead>\n",
       "  <tbody>\n",
       "    <tr>\n",
       "      <th>hdb_group</th>\n",
       "      <td>0.862312</td>\n",
       "      <td>0.137688</td>\n",
       "    </tr>\n",
       "    <tr>\n",
       "      <th>ldb_group</th>\n",
       "      <td>0.919006</td>\n",
       "      <td>0.080994</td>\n",
       "    </tr>\n",
       "  </tbody>\n",
       "</table>\n",
       "</div>"
      ],
      "text/plain": [
       "ns_flag                    0         1\n",
       "current_bank_group                    \n",
       "hdb_group           0.862312  0.137688\n",
       "ldb_group           0.919006  0.080994"
      ]
     },
     "execution_count": 45,
     "metadata": {},
     "output_type": "execute_result"
    }
   ],
   "source": [
    "pd.crosstab(df['current_bank_group'], df['ns_flag'], normalize='index')"
   ]
  },
  {
   "cell_type": "markdown",
   "metadata": {},
   "source": [
    "#### Website is similar to Email Domain"
   ]
  },
  {
   "cell_type": "code",
   "execution_count": 46,
   "metadata": {},
   "outputs": [
    {
     "data": {
      "text/plain": [
       "False    74204\n",
       "True     13088\n",
       "Name: website_email_domain_match, dtype: int64"
      ]
     },
     "execution_count": 46,
     "metadata": {},
     "output_type": "execute_result"
    }
   ],
   "source": [
    "df['website_processed'] = df['website'].fillna('')\n",
    "df['website_email_domain_match'] = df.apply(lambda x: x.email_domain in x.website_processed, axis=1)\n",
    "df['website_email_domain_match'].value_counts()"
   ]
  },
  {
   "cell_type": "code",
   "execution_count": 47,
   "metadata": {},
   "outputs": [
    {
     "data": {
      "text/html": [
       "<div>\n",
       "<style scoped>\n",
       "    .dataframe tbody tr th:only-of-type {\n",
       "        vertical-align: middle;\n",
       "    }\n",
       "\n",
       "    .dataframe tbody tr th {\n",
       "        vertical-align: top;\n",
       "    }\n",
       "\n",
       "    .dataframe thead th {\n",
       "        text-align: right;\n",
       "    }\n",
       "</style>\n",
       "<table border=\"1\" class=\"dataframe\">\n",
       "  <thead>\n",
       "    <tr style=\"text-align: right;\">\n",
       "      <th>ns_flag</th>\n",
       "      <th>0</th>\n",
       "      <th>1</th>\n",
       "    </tr>\n",
       "    <tr>\n",
       "      <th>website_email_domain_match</th>\n",
       "      <th></th>\n",
       "      <th></th>\n",
       "    </tr>\n",
       "  </thead>\n",
       "  <tbody>\n",
       "    <tr>\n",
       "      <th>False</th>\n",
       "      <td>0.920409</td>\n",
       "      <td>0.079591</td>\n",
       "    </tr>\n",
       "    <tr>\n",
       "      <th>True</th>\n",
       "      <td>0.880883</td>\n",
       "      <td>0.119117</td>\n",
       "    </tr>\n",
       "  </tbody>\n",
       "</table>\n",
       "</div>"
      ],
      "text/plain": [
       "ns_flag                            0         1\n",
       "website_email_domain_match                    \n",
       "False                       0.920409  0.079591\n",
       "True                        0.880883  0.119117"
      ]
     },
     "execution_count": 47,
     "metadata": {},
     "output_type": "execute_result"
    }
   ],
   "source": [
    "pd.crosstab(df['website_email_domain_match'], df['ns_flag'], normalize='index')"
   ]
  },
  {
   "cell_type": "markdown",
   "metadata": {},
   "source": [
    "#### Business Pitch"
   ]
  },
  {
   "cell_type": "code",
   "execution_count": 48,
   "metadata": {},
   "outputs": [],
   "source": [
    "# REPLACE_BY_SPACE_RE = re.compile('[/()]{}\\[\\]\\|@,:!*]')\n",
    "# BAD_SYMBOLS_RE = re.compile('[^0-9a-z ]')\n",
    "\n",
    "# def cleaning_gen(data):\n",
    "#     review = re.sub('[^a-zA-z]',' ',data)\n",
    "#     review = review.lower()\n",
    "#     review = BAD_SYMBOLS_RE.sub('',review)\n",
    "#     review = REPLACE_BY_SPACE_RE.sub(' ', review)\n",
    "#     doc = nlp(review)\n",
    "#     tokens = []\n",
    "#     for token in doc:\n",
    "#         tokens.append(token)\n",
    "#     tokens = [token.lemma_ for token in doc if token.pos_ in ['VERB','NOUN']]\n",
    "#     tokens = [c for c in tokens if c not in stop_words]\n",
    "#     tokens = [c for c in tokens if len(c)>1]\n",
    "#     tokens = ' '.join(tokens)\n",
    "#     return (tokens)\n",
    "\n",
    "# df['business_pitch_lema_spacy'] = df['business_pitch'].apply(cleaning_gen)"
   ]
  },
  {
   "cell_type": "code",
   "execution_count": 49,
   "metadata": {},
   "outputs": [
    {
     "data": {
      "text/plain": [
       "'strategy|firm|technology|datum|software|consulting|project|consult|film|practice|development|lease|investment|team|term|system|industry|manage|hold|security|management|hire|growth|basis|contract|partner|agency|value|operation|solution|estate|web|drive|organization|property|application|production|develop|contractor|content|process|rental|marketing|relate|therapy|space|rent|insurance|advertising'"
      ]
     },
     "execution_count": 49,
     "metadata": {},
     "output_type": "execute_result"
    }
   ],
   "source": [
    "# Define ngram and cutoff\n",
    "ngram = 1\n",
    "cutoff = 800\n",
    "\n",
    "# NS\n",
    "words = ' '.join([i for i in df[df.ns_flag == 1]['business_pitch_lema_spacy']]).split()\n",
    "ngram_high_df = pd.Series(nltk.ngrams(words, ngram)).value_counts().rename_axis('ngrams').reset_index(name='high_dep_freq')\n",
    "\n",
    "# NonNs\n",
    "words = ' '.join([i for i in df[df.ns_flag == 0]['business_pitch_lema_spacy']]).split()\n",
    "ngram_low_df = pd.Series(nltk.ngrams(words, ngram)).value_counts().rename_axis('ngrams').reset_index(name='low_dep_freq')\n",
    "\n",
    "# Ngram Ratio \n",
    "ngram_df = ngram_high_df.merge(ngram_low_df, on='ngrams')\n",
    "ngram_df['total_freq'] = ngram_df['high_dep_freq'] + ngram_df['low_dep_freq']\n",
    "ngram_df['high_ratio'] = ngram_df['high_dep_freq']/ngram_df['total_freq']\n",
    "ngram_df = ngram_df[ngram_df['total_freq'] > cutoff].sort_values(by='high_ratio', ascending=False)\n",
    "ngram_tuple = ngram_df[ngram_df['high_ratio']>0.12]['ngrams']\n",
    "bag_of_words = '|'.join(str(v) for v in ngram_tuple)\n",
    "bag_of_words = bag_of_words.replace('(', '').replace(')', '').replace(',', '').replace(\"'\", \"\")\n",
    "bag_of_words"
   ]
  },
  {
   "cell_type": "code",
   "execution_count": 50,
   "metadata": {},
   "outputs": [],
   "source": [
    "# Selected BOW by eliminating few usual/common words\n",
    "bag_of_words = ['software', 'firm', 'technology', 'consulting', 'strategy', 'consult', 'project', 'datum', 'practice'\n",
    "                , 'investment', 'film', 'lease', 'development', 'hire', 'industry', 'management', 'research'\n",
    "                , 'operation', 'term', 'system', 'contract', 'growth', 'partner', 'agency', 'estate', 'production'\n",
    "                , 'therapy', 'property', 'contractor', 'web', 'marketing', 'insurance', 'lead', 'content', 'program']"
   ]
  },
  {
   "cell_type": "code",
   "execution_count": 51,
   "metadata": {
    "scrolled": true
   },
   "outputs": [
    {
     "data": {
      "text/plain": [
       "0    50148\n",
       "1    37144\n",
       "Name: bow_flag, dtype: int64"
      ]
     },
     "execution_count": 51,
     "metadata": {},
     "output_type": "execute_result"
    }
   ],
   "source": [
    "df['bow_flag'] = np.where(df['business_pitch_lema_spacy'].str.contains('|'.join(bag_of_words)), 1, 0)\n",
    "df['bow_flag'].value_counts()"
   ]
  },
  {
   "cell_type": "code",
   "execution_count": 52,
   "metadata": {},
   "outputs": [
    {
     "data": {
      "text/html": [
       "<div>\n",
       "<style scoped>\n",
       "    .dataframe tbody tr th:only-of-type {\n",
       "        vertical-align: middle;\n",
       "    }\n",
       "\n",
       "    .dataframe tbody tr th {\n",
       "        vertical-align: top;\n",
       "    }\n",
       "\n",
       "    .dataframe thead th {\n",
       "        text-align: right;\n",
       "    }\n",
       "</style>\n",
       "<table border=\"1\" class=\"dataframe\">\n",
       "  <thead>\n",
       "    <tr style=\"text-align: right;\">\n",
       "      <th>ns_flag</th>\n",
       "      <th>0</th>\n",
       "      <th>1</th>\n",
       "    </tr>\n",
       "    <tr>\n",
       "      <th>bow_flag</th>\n",
       "      <th></th>\n",
       "      <th></th>\n",
       "    </tr>\n",
       "  </thead>\n",
       "  <tbody>\n",
       "    <tr>\n",
       "      <th>0</th>\n",
       "      <td>0.943946</td>\n",
       "      <td>0.056054</td>\n",
       "    </tr>\n",
       "    <tr>\n",
       "      <th>1</th>\n",
       "      <td>0.874704</td>\n",
       "      <td>0.125296</td>\n",
       "    </tr>\n",
       "  </tbody>\n",
       "</table>\n",
       "</div>"
      ],
      "text/plain": [
       "ns_flag          0         1\n",
       "bow_flag                    \n",
       "0         0.943946  0.056054\n",
       "1         0.874704  0.125296"
      ]
     },
     "execution_count": 52,
     "metadata": {},
     "output_type": "execute_result"
    }
   ],
   "source": [
    "pd.crosstab(df['bow_flag'], df['ns_flag'], normalize='index')"
   ]
  },
  {
   "cell_type": "code",
   "execution_count": 53,
   "metadata": {},
   "outputs": [
    {
     "data": {
      "text/plain": [
       "0    50148\n",
       "1    37144\n",
       "Name: bow_flag, dtype: int64"
      ]
     },
     "execution_count": 53,
     "metadata": {},
     "output_type": "execute_result"
    }
   ],
   "source": [
    "df['bow_flag'].value_counts()"
   ]
  },
  {
   "cell_type": "code",
   "execution_count": 54,
   "metadata": {},
   "outputs": [
    {
     "data": {
      "text/plain": [
       "0    0.574486\n",
       "1    0.425514\n",
       "Name: bow_flag, dtype: float64"
      ]
     },
     "execution_count": 54,
     "metadata": {},
     "output_type": "execute_result"
    }
   ],
   "source": [
    "df['bow_flag'].value_counts(normalize=True)"
   ]
  },
  {
   "cell_type": "code",
   "execution_count": 55,
   "metadata": {},
   "outputs": [],
   "source": [
    "pd.DataFrame(bag_of_words, columns=['bow']).to_pickle(project_path+'models/business_pitch_bow.pkl')"
   ]
  },
  {
   "cell_type": "code",
   "execution_count": null,
   "metadata": {},
   "outputs": [],
   "source": []
  }
 ],
 "metadata": {
  "kernelspec": {
   "display_name": "Python 3 (ipykernel)",
   "language": "python",
   "name": "python3"
  },
  "language_info": {
   "codemirror_mode": {
    "name": "ipython",
    "version": 3
   },
   "file_extension": ".py",
   "mimetype": "text/x-python",
   "name": "python",
   "nbconvert_exporter": "python",
   "pygments_lexer": "ipython3",
   "version": "3.9.2"
  },
  "vscode": {
   "interpreter": {
    "hash": "5fa8e7a0e7c7188de72acea4ae1bc222d1770499c4c3d36ce32843ef46b20053"
   }
  }
 },
 "nbformat": 4,
 "nbformat_minor": 2
}
