{
 "cells": [
  {
   "cell_type": "code",
   "execution_count": 1,
   "metadata": {},
   "outputs": [],
   "source": [
    "# path variables\n",
    "import sys\n",
    "project_path = '/Users/naresh/Downloads/DS/growth/nsl_v2/nsl_v2_final/'\n",
    "sys.path.insert(0, project_path+'config')\n",
    "from config import SQLQuery\n",
    "\n",
    "# core libraries\n",
    "import pickle\n",
    "import warnings\n",
    "warnings.filterwarnings(\"ignore\")\n",
    "import datetime\n",
    "import pandas as pd\n",
    "import numpy as np\n",
    "from datetime import date\n",
    "\n",
    "from sklearn.preprocessing import OrdinalEncoder\n",
    "from sklearn.decomposition import PCA\n",
    "from xgboost import XGBClassifier, plot_importance\n",
    "import matplotlib.pyplot as plt\n",
    "from model_evaluations import model_metrics, cross_validation\n",
    "from model_building import tune_hyperparameters\n",
    "\n",
    "from sklearn.metrics import roc_curve, precision_recall_curve, precision_score, recall_score, roc_auc_score\n",
    "from matplotlib import pyplot"
   ]
  },
  {
   "cell_type": "code",
   "execution_count": 2,
   "metadata": {},
   "outputs": [],
   "source": [
    "%load_ext autoreload\n",
    "%autoreload 2\n",
    "from stability_monitoring import *"
   ]
  },
  {
   "cell_type": "markdown",
   "metadata": {},
   "source": [
    "#### Load data"
   ]
  },
  {
   "cell_type": "code",
   "execution_count": 3,
   "metadata": {
    "scrolled": true
   },
   "outputs": [],
   "source": [
    "# north star customers definition\n",
    "txn_days = 90\n",
    "txn_credit_amount = 15000\n",
    "\n",
    "# from_date = date(2022,10,1)\n",
    "# to_date = date(2023,2,28)"
   ]
  },
  {
   "cell_type": "code",
   "execution_count": 4,
   "metadata": {},
   "outputs": [],
   "source": [
    "q = SQLQuery('snowflake')"
   ]
  },
  {
   "cell_type": "code",
   "execution_count": 16,
   "metadata": {},
   "outputs": [
    {
     "data": {
      "text/plain": [
       "(153396, 167)"
      ]
     },
     "execution_count": 16,
     "metadata": {},
     "output_type": "execute_result"
    }
   ],
   "source": [
    "# query to fetch the required data\n",
    "df_raw_app = q(\"\"\"with \n",
    "\n",
    "TRANSACTIONS AS -- get all credit transactions\n",
    "(\n",
    "    select BUSINESS_ID,\n",
    "           TRANSACTION_DATE,\n",
    "           AMOUNT \n",
    "  from \"PROD_DB\".\"DATA\".\"TRANSACTIONS\" \n",
    "  where type='credit' and status='active'\n",
    "  group by 1,2,3\n",
    "),\n",
    "\n",
    "BUSINESSES as -- get all business accounts created between Oct 2022 and Feb 2023\n",
    "(\n",
    "  select *\n",
    "  from \"PROD_DB\".\"DATA\".\"BUSINESSES\"\n",
    "  where ACCOUNT_CREATE_DATE between '2021-07-01' and '2023-02-28'\n",
    "),\n",
    "\n",
    "ALLOY_PERSONS as -- get all the alloy persons data (max of application_versions_id in case of duplicates)\n",
    "(\n",
    "  select * from (\n",
    "select * ,\n",
    "       row_number() over (partition by APPLICATION_ID order by APPLICATION_VERSION_ID desc) as rank\n",
    "from \"PROD_DB\".\"DATA\".\"ALLOY_EVALUATIONS_PERSONS\") \n",
    "where rank=1\n",
    "),\n",
    "\n",
    "APPLICATIONS as -- get all entries from applications table\n",
    "(\n",
    "  select *\n",
    "  from \"PROD_DB\".\"DATA\".\"APPLICATIONS\"\n",
    "),\n",
    "\n",
    "BASE AS -- create base table with business and transactions\n",
    "(\n",
    "    select b.BUSINESS_ID,b.APPLICATION_ID,sum(t.amount) as total_credit_amount\n",
    "    from BUSINESSES b \n",
    "    inner join TRANSACTIONS t\n",
    "    on b.BUSINESS_ID=t.BUSINESS_ID\n",
    "    where DATEDIFF(day, ACCOUNT_CREATE_DATE, TRANSACTION_DATE) between 0 AND \"\"\" + str(txn_days) + \"\"\"\n",
    "    group by 1,2\n",
    ")\n",
    "\n",
    "    select B.business_id, \n",
    "    coalesce(total_credit_amount,0) as total_deposit, S.nsl_v2_prob,\n",
    "    A.*, P.*\n",
    "    from BUSINESSES B\n",
    "    left join base\n",
    "    on B.business_id = base.business_id\n",
    "    left join APPLICATIONS A\n",
    "    on B.application_id = A.application_id\n",
    "    left join ALLOY_PERSONS P\n",
    "    on B.application_id = P.application_id\n",
    "    left join prod_db.adhoc.nsl_v2_model_scores S\n",
    "    on B.application_id = S.application_id\n",
    "    \"\"\")\n",
    "\n",
    "df_raw_app.shape"
   ]
  },
  {
   "cell_type": "code",
   "execution_count": 17,
   "metadata": {},
   "outputs": [
    {
     "data": {
      "text/plain": [
       "0    138372\n",
       "1      9917\n",
       "Name: ns_flag, dtype: int64"
      ]
     },
     "execution_count": 17,
     "metadata": {},
     "output_type": "execute_result"
    }
   ],
   "source": [
    "# drop null application ids\n",
    "df_raw_app = df_raw_app.dropna(subset='application_id')\n",
    "\n",
    "# tag north star customers\n",
    "df_raw_app['ns_flag'] = np.where(df_raw_app['total_deposit']>=txn_credit_amount, 1, 0)\n",
    "\n",
    "# get non-ns vs ns accounts split\n",
    "df_raw_app['ns_flag'].value_counts(dropna=False)"
   ]
  },
  {
   "cell_type": "code",
   "execution_count": 18,
   "metadata": {},
   "outputs": [
    {
     "data": {
      "text/plain": [
       "(148289, 167)"
      ]
     },
     "execution_count": 18,
     "metadata": {},
     "output_type": "execute_result"
    }
   ],
   "source": [
    "# drop duplicate columns\n",
    "df_raw_app = df_raw_app.loc[:,~df_raw_app.columns.duplicated()].copy()\n",
    "df_raw_app.shape"
   ]
  },
  {
   "cell_type": "code",
   "execution_count": 19,
   "metadata": {},
   "outputs": [
    {
     "name": "stdout",
     "output_type": "stream",
     "text": [
      "Applications with $0 deposit: 49797\n",
      "Applications with deposit less than 5K : 125659\n",
      "Applications with $15K deposit or more: 9917\n",
      "Applications with deposit between $0 and $15K : 88575\n"
     ]
    }
   ],
   "source": [
    "print('Applications with $0 deposit:', df_raw_app[df_raw_app['total_deposit'] == 0].shape[0])\n",
    "print('Applications with deposit less than 5K :', df_raw_app[(df_raw_app['total_deposit'] <= 5000)].shape[0])\n",
    "print('Applications with $15K deposit or more:', df_raw_app[df_raw_app['total_deposit'] >= txn_credit_amount].shape[0])\n",
    "print('Applications with deposit between $0 and $15K :', df_raw_app[(df_raw_app['total_deposit'] > 0) & (df_raw_app['total_deposit'] < txn_credit_amount)].shape[0])\n"
   ]
  },
  {
   "cell_type": "code",
   "execution_count": 36,
   "metadata": {},
   "outputs": [],
   "source": [
    "# raw data\n",
    "file = 'threshold_decision_app_scoring_dataset.pkl'\n",
    "path = project_path + 'data/'\n",
    "# df_raw_app.reset_index(inplace=True)\n",
    "# df_raw_app.to_pickle(path+file)\n",
    "\n",
    "# df_raw_app = pd.read_pickle(path+file)"
   ]
  },
  {
   "cell_type": "code",
   "execution_count": 37,
   "metadata": {},
   "outputs": [],
   "source": [
    "df_raw_app['nsl_v2_prob'] = df_raw_app['nsl_v2_prob'].astype('float')\n",
    "df_raw_app['proba'] = df_raw_app['nsl_v2_prob']\n"
   ]
  },
  {
   "cell_type": "code",
   "execution_count": null,
   "metadata": {},
   "outputs": [],
   "source": []
  },
  {
   "cell_type": "code",
   "execution_count": null,
   "metadata": {},
   "outputs": [],
   "source": []
  },
  {
   "cell_type": "markdown",
   "metadata": {},
   "source": [
    "#### Both SP & Non-SP"
   ]
  },
  {
   "cell_type": "code",
   "execution_count": 38,
   "metadata": {
    "scrolled": true
   },
   "outputs": [
    {
     "data": {
      "text/html": [
       "<div>\n",
       "<style scoped>\n",
       "    .dataframe tbody tr th:only-of-type {\n",
       "        vertical-align: middle;\n",
       "    }\n",
       "\n",
       "    .dataframe tbody tr th {\n",
       "        vertical-align: top;\n",
       "    }\n",
       "\n",
       "    .dataframe thead th {\n",
       "        text-align: right;\n",
       "    }\n",
       "</style>\n",
       "<table border=\"1\" class=\"dataframe\">\n",
       "  <thead>\n",
       "    <tr style=\"text-align: right;\">\n",
       "      <th></th>\n",
       "      <th>ns_flag</th>\n",
       "      <th>volume</th>\n",
       "      <th>volume%</th>\n",
       "    </tr>\n",
       "    <tr>\n",
       "      <th>DecileRank</th>\n",
       "      <th></th>\n",
       "      <th></th>\n",
       "      <th></th>\n",
       "    </tr>\n",
       "  </thead>\n",
       "  <tbody>\n",
       "    <tr>\n",
       "      <th>(0.0, 0.2]</th>\n",
       "      <td>0.013225</td>\n",
       "      <td>65557</td>\n",
       "      <td>0.44</td>\n",
       "    </tr>\n",
       "    <tr>\n",
       "      <th>(0.2, 0.4]</th>\n",
       "      <td>0.043872</td>\n",
       "      <td>42123</td>\n",
       "      <td>0.28</td>\n",
       "    </tr>\n",
       "    <tr>\n",
       "      <th>(0.4, 0.6]</th>\n",
       "      <td>0.110498</td>\n",
       "      <td>23756</td>\n",
       "      <td>0.16</td>\n",
       "    </tr>\n",
       "    <tr>\n",
       "      <th>(0.6, 0.8]</th>\n",
       "      <td>0.239126</td>\n",
       "      <td>13817</td>\n",
       "      <td>0.09</td>\n",
       "    </tr>\n",
       "    <tr>\n",
       "      <th>(0.8, 1.0]</th>\n",
       "      <td>0.427563</td>\n",
       "      <td>2975</td>\n",
       "      <td>0.02</td>\n",
       "    </tr>\n",
       "  </tbody>\n",
       "</table>\n",
       "</div>"
      ],
      "text/plain": [
       "             ns_flag  volume  volume%\n",
       "DecileRank                           \n",
       "(0.0, 0.2]  0.013225   65557     0.44\n",
       "(0.2, 0.4]  0.043872   42123     0.28\n",
       "(0.4, 0.6]  0.110498   23756     0.16\n",
       "(0.6, 0.8]  0.239126   13817     0.09\n",
       "(0.8, 1.0]  0.427563    2975     0.02"
      ]
     },
     "execution_count": 38,
     "metadata": {},
     "output_type": "execute_result"
    }
   ],
   "source": [
    "df_oot = df_raw_app.copy()\n",
    "\n",
    "# custom_bins = [0,0.1,0.2,0.3,0.4,0.5,0.6,0.7,0.8,0.9,1]\n",
    "custom_bins = [0,0.2,0.4,0.6,0.8,1]\n",
    "\n",
    "df_oot['proba'] = np.round(df_oot['proba'], 3)\n",
    "df_oot['DecileRank']= pd.cut(df_oot['proba'], bins=custom_bins)\n",
    "df_stats = pd.DataFrame(df_oot.groupby(by='DecileRank')['ns_flag'].mean())\n",
    "df_stats['volume'] = df_oot.groupby(by='DecileRank')['ns_flag'].count()\n",
    "df_stats['volume%'] = np.round((df_stats['volume'] / df_stats['volume'].sum()), 2)\n",
    "df_stats"
   ]
  },
  {
   "cell_type": "markdown",
   "metadata": {},
   "source": [
    "#### Only Non-SP"
   ]
  },
  {
   "cell_type": "code",
   "execution_count": 39,
   "metadata": {},
   "outputs": [
    {
     "data": {
      "text/html": [
       "<div>\n",
       "<style scoped>\n",
       "    .dataframe tbody tr th:only-of-type {\n",
       "        vertical-align: middle;\n",
       "    }\n",
       "\n",
       "    .dataframe tbody tr th {\n",
       "        vertical-align: top;\n",
       "    }\n",
       "\n",
       "    .dataframe thead th {\n",
       "        text-align: right;\n",
       "    }\n",
       "</style>\n",
       "<table border=\"1\" class=\"dataframe\">\n",
       "  <thead>\n",
       "    <tr style=\"text-align: right;\">\n",
       "      <th></th>\n",
       "      <th>ns_flag</th>\n",
       "      <th>volume</th>\n",
       "      <th>volume%</th>\n",
       "    </tr>\n",
       "    <tr>\n",
       "      <th>DecileRank</th>\n",
       "      <th></th>\n",
       "      <th></th>\n",
       "      <th></th>\n",
       "    </tr>\n",
       "  </thead>\n",
       "  <tbody>\n",
       "    <tr>\n",
       "      <th>(0.0, 0.2]</th>\n",
       "      <td>0.015892</td>\n",
       "      <td>35994</td>\n",
       "      <td>0.36</td>\n",
       "    </tr>\n",
       "    <tr>\n",
       "      <th>(0.2, 0.4]</th>\n",
       "      <td>0.048590</td>\n",
       "      <td>29039</td>\n",
       "      <td>0.29</td>\n",
       "    </tr>\n",
       "    <tr>\n",
       "      <th>(0.4, 0.6]</th>\n",
       "      <td>0.114818</td>\n",
       "      <td>20502</td>\n",
       "      <td>0.20</td>\n",
       "    </tr>\n",
       "    <tr>\n",
       "      <th>(0.6, 0.8]</th>\n",
       "      <td>0.242446</td>\n",
       "      <td>12708</td>\n",
       "      <td>0.13</td>\n",
       "    </tr>\n",
       "    <tr>\n",
       "      <th>(0.8, 1.0]</th>\n",
       "      <td>0.429655</td>\n",
       "      <td>2900</td>\n",
       "      <td>0.03</td>\n",
       "    </tr>\n",
       "  </tbody>\n",
       "</table>\n",
       "</div>"
      ],
      "text/plain": [
       "             ns_flag  volume  volume%\n",
       "DecileRank                           \n",
       "(0.0, 0.2]  0.015892   35994     0.36\n",
       "(0.2, 0.4]  0.048590   29039     0.29\n",
       "(0.4, 0.6]  0.114818   20502     0.20\n",
       "(0.6, 0.8]  0.242446   12708     0.13\n",
       "(0.8, 1.0]  0.429655    2900     0.03"
      ]
     },
     "execution_count": 39,
     "metadata": {},
     "output_type": "execute_result"
    }
   ],
   "source": [
    "df_oot = df_raw_app[df_raw_app.business_type!='sole_proprietorship'].copy()\n",
    "df_oot.reset_index(inplace=True, drop=True)\n",
    "\n",
    "# custom_bins = [0,0.1,0.2,0.3,0.4,0.5,0.6,0.7,0.8,0.9,1]\n",
    "custom_bins = [0,0.2,0.4,0.6,0.8,1]\n",
    "\n",
    "df_oot['proba'] = np.round(df_oot['proba'], 3)\n",
    "df_oot['DecileRank']= pd.cut(df_oot['proba'], bins=custom_bins)\n",
    "df_stats = pd.DataFrame(df_oot.groupby(by='DecileRank')['ns_flag'].mean())\n",
    "df_stats['volume'] = df_oot.groupby(by='DecileRank')['ns_flag'].count()\n",
    "df_stats['volume%'] = np.round((df_stats['volume'] / df_stats['volume'].sum()), 2)\n",
    "df_stats"
   ]
  },
  {
   "cell_type": "markdown",
   "metadata": {},
   "source": [
    "#### Only SP"
   ]
  },
  {
   "cell_type": "code",
   "execution_count": 40,
   "metadata": {},
   "outputs": [
    {
     "data": {
      "text/html": [
       "<div>\n",
       "<style scoped>\n",
       "    .dataframe tbody tr th:only-of-type {\n",
       "        vertical-align: middle;\n",
       "    }\n",
       "\n",
       "    .dataframe tbody tr th {\n",
       "        vertical-align: top;\n",
       "    }\n",
       "\n",
       "    .dataframe thead th {\n",
       "        text-align: right;\n",
       "    }\n",
       "</style>\n",
       "<table border=\"1\" class=\"dataframe\">\n",
       "  <thead>\n",
       "    <tr style=\"text-align: right;\">\n",
       "      <th></th>\n",
       "      <th>ns_flag</th>\n",
       "      <th>volume</th>\n",
       "      <th>volume%</th>\n",
       "    </tr>\n",
       "    <tr>\n",
       "      <th>DecileRank</th>\n",
       "      <th></th>\n",
       "      <th></th>\n",
       "      <th></th>\n",
       "    </tr>\n",
       "  </thead>\n",
       "  <tbody>\n",
       "    <tr>\n",
       "      <th>(0.0, 0.2]</th>\n",
       "      <td>0.009979</td>\n",
       "      <td>29563</td>\n",
       "      <td>0.63</td>\n",
       "    </tr>\n",
       "    <tr>\n",
       "      <th>(0.2, 0.4]</th>\n",
       "      <td>0.033400</td>\n",
       "      <td>13084</td>\n",
       "      <td>0.28</td>\n",
       "    </tr>\n",
       "    <tr>\n",
       "      <th>(0.4, 0.6]</th>\n",
       "      <td>0.083282</td>\n",
       "      <td>3254</td>\n",
       "      <td>0.07</td>\n",
       "    </tr>\n",
       "    <tr>\n",
       "      <th>(0.6, 0.8]</th>\n",
       "      <td>0.201082</td>\n",
       "      <td>1109</td>\n",
       "      <td>0.02</td>\n",
       "    </tr>\n",
       "    <tr>\n",
       "      <th>(0.8, 1.0]</th>\n",
       "      <td>0.346667</td>\n",
       "      <td>75</td>\n",
       "      <td>0.00</td>\n",
       "    </tr>\n",
       "  </tbody>\n",
       "</table>\n",
       "</div>"
      ],
      "text/plain": [
       "             ns_flag  volume  volume%\n",
       "DecileRank                           \n",
       "(0.0, 0.2]  0.009979   29563     0.63\n",
       "(0.2, 0.4]  0.033400   13084     0.28\n",
       "(0.4, 0.6]  0.083282    3254     0.07\n",
       "(0.6, 0.8]  0.201082    1109     0.02\n",
       "(0.8, 1.0]  0.346667      75     0.00"
      ]
     },
     "execution_count": 40,
     "metadata": {},
     "output_type": "execute_result"
    }
   ],
   "source": [
    "df_oot = df_raw_app[df_raw_app.business_type=='sole_proprietorship'].copy()\n",
    "df_oot.reset_index(inplace=True, drop=True)\n",
    "\n",
    "# custom_bins = [0,0.1,0.2,0.3,0.4,0.5,0.6,0.7,0.8,0.9,1]\n",
    "custom_bins = [0,0.2,0.4,0.6,0.8,1]\n",
    "\n",
    "df_oot['proba'] = np.round(df_oot['proba'], 3)\n",
    "df_oot['DecileRank']= pd.cut(df_oot['proba'], bins=custom_bins)\n",
    "df_stats = pd.DataFrame(df_oot.groupby(by='DecileRank')['ns_flag'].mean())\n",
    "df_stats['volume'] = df_oot.groupby(by='DecileRank')['ns_flag'].count()\n",
    "df_stats['volume%'] = np.round((df_stats['volume'] / df_stats['volume'].sum()), 2)\n",
    "df_stats"
   ]
  },
  {
   "cell_type": "code",
   "execution_count": null,
   "metadata": {},
   "outputs": [],
   "source": []
  },
  {
   "cell_type": "code",
   "execution_count": null,
   "metadata": {},
   "outputs": [],
   "source": []
  },
  {
   "cell_type": "markdown",
   "metadata": {},
   "source": [
    "#### LTV"
   ]
  },
  {
   "cell_type": "code",
   "execution_count": 27,
   "metadata": {},
   "outputs": [],
   "source": [
    "ltv_df = q(\"\"\"\n",
    "\n",
    "WITH\n",
    "TRANSACTIONS AS -- get all credit transactions\n",
    "(\n",
    "    select BUSINESS_ID,\n",
    "           TRANSACTION_DATE,\n",
    "           AMOUNT \n",
    "  from \"PROD_DB\".\"DATA\".\"TRANSACTIONS\" \n",
    "  where type='credit' and status='active'\n",
    "  group by 1,2,3\n",
    "),\n",
    "\n",
    "BUSINESSES as -- get all business accounts created between Jul 2020 and Dec 2021\n",
    "(\n",
    "  select *\n",
    "  from \"PROD_DB\".\"DATA\".\"BUSINESSES\"\n",
    "  where ACCOUNT_CREATE_DATE between '2021-07-01' and '2023-02-28'\n",
    "),\n",
    "\n",
    "-- APPLICATION_DETAIL as -- get all entries from applications table\n",
    "-- (\n",
    "--   select *\n",
    "--   from \"PROD_DB\".\"DATA\".\"APPLICATIONS\"\n",
    "-- ),\n",
    "\n",
    "HDI_MODEL as\n",
    "(\n",
    "  select *\n",
    "  from \"PROD_DB\".\"MODELS\".\"ONBOARDING_MODEL_RESULTS\"\n",
    "),\n",
    "\n",
    "NSQL_MODEL as\n",
    "(\n",
    "  select *\n",
    "  from \"PROD_DB\".\"MODELS\".\"NSQL_SCORING_LATEST\"\n",
    "),\n",
    "\n",
    "LTV_MODEL as\n",
    "(\n",
    "  select *\n",
    "  from \"PROD_DB\".\"MODELS\".\"LIFETIME_VALUE_V2_LATEST\"\n",
    "),\n",
    "\n",
    "BASE as -- create base table with business and transactions\n",
    "(\n",
    "    select b.BUSINESS_ID,b.APPLICATION_ID,sum(t.amount) as total_credit_amount\n",
    "    from BUSINESSES b \n",
    "    inner join TRANSACTIONS t\n",
    "    on b.BUSINESS_ID=t.BUSINESS_ID\n",
    "    where DATEDIFF(day, ACCOUNT_CREATE_DATE, TRANSACTION_DATE) between 0 AND 90\n",
    "    group by 1,2\n",
    ")    \n",
    "\n",
    "select businesses.business_id,\n",
    "       businesses.application_id,\n",
    "       coalesce(total_credit_amount,0) as total_deposit,\n",
    "       fraud_score,\n",
    "       deposit_score,\n",
    "       pred_prob as nsl_v1_score,\n",
    "       revenue_ltv\n",
    "from businesses\n",
    "left join base\n",
    "on businesses.application_id = base.application_id\n",
    "left join hdi_model\n",
    "on businesses.application_id = hdi_model.application_id\n",
    "left join nsql_model\n",
    "on businesses.application_id = nsql_model.application_id\n",
    "left join ltv_model\n",
    "on businesses.business_id = ltv_model.business_id\n",
    "\n",
    "\"\"\")"
   ]
  },
  {
   "cell_type": "code",
   "execution_count": null,
   "metadata": {},
   "outputs": [],
   "source": []
  },
  {
   "cell_type": "code",
   "execution_count": 106,
   "metadata": {},
   "outputs": [
    {
     "data": {
      "text/plain": [
       "0.0668761674837648"
      ]
     },
     "execution_count": 106,
     "metadata": {},
     "output_type": "execute_result"
    }
   ],
   "source": [
    "sum(df_oot2.ns_flag)/df_oot2.shape[0]"
   ]
  },
  {
   "cell_type": "code",
   "execution_count": null,
   "metadata": {},
   "outputs": [],
   "source": []
  },
  {
   "cell_type": "code",
   "execution_count": 41,
   "metadata": {},
   "outputs": [],
   "source": [
    "df_oot2 = pd.merge(df_raw_app.drop(columns=['total_deposit','business_id']), ltv_df, on='application_id', how='left')"
   ]
  },
  {
   "cell_type": "code",
   "execution_count": 43,
   "metadata": {
    "scrolled": true
   },
   "outputs": [
    {
     "data": {
      "text/plain": [
       "((148289, 169), (148289, 173))"
      ]
     },
     "execution_count": 43,
     "metadata": {},
     "output_type": "execute_result"
    }
   ],
   "source": [
    "df_raw_app.shape, df_oot2.shape"
   ]
  },
  {
   "cell_type": "markdown",
   "metadata": {},
   "source": [
    "#### Plot Precision vs Recall"
   ]
  },
  {
   "cell_type": "code",
   "execution_count": 64,
   "metadata": {},
   "outputs": [],
   "source": [
    "def precision_recall_threshold_plot(y_true:np.array, yhat:np.array, thresholds:list):\n",
    "    # keep probabilities for the positive outcome only\n",
    "    precision_vals = []\n",
    "    recall_vals = []\n",
    "    for threshold in thresholds:\n",
    "        yhat2 = []\n",
    "        for val in yhat:\n",
    "            if val>threshold:\n",
    "                yhat2.append(1)\n",
    "            else:\n",
    "                yhat2.append(0)\n",
    "        yhat2 = np.array(yhat2)    \n",
    "        pr = precision_score(y_true, yhat2, average='binary')\n",
    "        rec = recall_score(y_true, yhat2, average='binary')\n",
    "        roc_auc = roc_auc_score(y_true, yhat2, average=None)\n",
    "        \n",
    "        print('threshold:', threshold, ' predicted:', sum(yhat2), ' pred NS Rate:', np.round(yhat2.mean(),3),\n",
    "             ' precision:', np.round(pr,3), ' recall:',np.round(rec,3), ' auc:',np.round(roc_auc,3))\n",
    "        precision_vals.append(pr)\n",
    "        recall_vals.append(rec)\n",
    "\n",
    "    plt.figure(figsize=(5,5))\n",
    "    # plot the roc curve for the model\n",
    "    pyplot.plot(precision_vals, recall_vals, marker='.')\n",
    "    # axis labels\n",
    "    pyplot.xlabel('Precision')\n",
    "    pyplot.ylabel('Recall')\n",
    "    pyplot.grid(True)\n",
    "    pyplot.show()\n"
   ]
  },
  {
   "cell_type": "code",
   "execution_count": 65,
   "metadata": {
    "scrolled": true
   },
   "outputs": [
    {
     "data": {
      "text/html": [
       "<div>\n",
       "<style scoped>\n",
       "    .dataframe tbody tr th:only-of-type {\n",
       "        vertical-align: middle;\n",
       "    }\n",
       "\n",
       "    .dataframe tbody tr th {\n",
       "        vertical-align: top;\n",
       "    }\n",
       "\n",
       "    .dataframe thead th {\n",
       "        text-align: right;\n",
       "    }\n",
       "</style>\n",
       "<table border=\"1\" class=\"dataframe\">\n",
       "  <thead>\n",
       "    <tr style=\"text-align: right;\">\n",
       "      <th></th>\n",
       "      <th>ns_flag</th>\n",
       "      <th>volume</th>\n",
       "      <th>volume%</th>\n",
       "      <th>ltv</th>\n",
       "      <th>avg_ltv</th>\n",
       "    </tr>\n",
       "    <tr>\n",
       "      <th>DecileRank</th>\n",
       "      <th></th>\n",
       "      <th></th>\n",
       "      <th></th>\n",
       "      <th></th>\n",
       "      <th></th>\n",
       "    </tr>\n",
       "  </thead>\n",
       "  <tbody>\n",
       "    <tr>\n",
       "      <th>(0.0, 0.1]</th>\n",
       "      <td>0.004992</td>\n",
       "      <td>22637</td>\n",
       "      <td>0.15</td>\n",
       "      <td>1.131327e+07</td>\n",
       "      <td>499.768929</td>\n",
       "    </tr>\n",
       "    <tr>\n",
       "      <th>(0.1, 0.2]</th>\n",
       "      <td>0.017568</td>\n",
       "      <td>42920</td>\n",
       "      <td>0.29</td>\n",
       "      <td>2.283760e+07</td>\n",
       "      <td>532.097006</td>\n",
       "    </tr>\n",
       "    <tr>\n",
       "      <th>(0.2, 0.3]</th>\n",
       "      <td>0.034062</td>\n",
       "      <td>26276</td>\n",
       "      <td>0.18</td>\n",
       "      <td>1.859152e+07</td>\n",
       "      <td>707.547688</td>\n",
       "    </tr>\n",
       "    <tr>\n",
       "      <th>(0.3, 0.4]</th>\n",
       "      <td>0.060138</td>\n",
       "      <td>15847</td>\n",
       "      <td>0.11</td>\n",
       "      <td>1.238863e+07</td>\n",
       "      <td>781.764975</td>\n",
       "    </tr>\n",
       "    <tr>\n",
       "      <th>(0.4, 0.5]</th>\n",
       "      <td>0.090306</td>\n",
       "      <td>12956</td>\n",
       "      <td>0.09</td>\n",
       "      <td>1.301118e+07</td>\n",
       "      <td>1004.259180</td>\n",
       "    </tr>\n",
       "    <tr>\n",
       "      <th>(0.5, 0.6]</th>\n",
       "      <td>0.134722</td>\n",
       "      <td>10800</td>\n",
       "      <td>0.07</td>\n",
       "      <td>1.328848e+07</td>\n",
       "      <td>1230.414958</td>\n",
       "    </tr>\n",
       "    <tr>\n",
       "      <th>(0.6, 0.7]</th>\n",
       "      <td>0.198166</td>\n",
       "      <td>8180</td>\n",
       "      <td>0.06</td>\n",
       "      <td>1.431837e+07</td>\n",
       "      <td>1750.411580</td>\n",
       "    </tr>\n",
       "    <tr>\n",
       "      <th>(0.7, 0.8]</th>\n",
       "      <td>0.298563</td>\n",
       "      <td>5637</td>\n",
       "      <td>0.04</td>\n",
       "      <td>1.390408e+07</td>\n",
       "      <td>2466.574403</td>\n",
       "    </tr>\n",
       "    <tr>\n",
       "      <th>(0.8, 0.9]</th>\n",
       "      <td>0.420960</td>\n",
       "      <td>2834</td>\n",
       "      <td>0.02</td>\n",
       "      <td>9.529239e+06</td>\n",
       "      <td>3362.469646</td>\n",
       "    </tr>\n",
       "    <tr>\n",
       "      <th>(0.9, 1.0]</th>\n",
       "      <td>0.560284</td>\n",
       "      <td>141</td>\n",
       "      <td>0.00</td>\n",
       "      <td>5.272077e+05</td>\n",
       "      <td>3739.061357</td>\n",
       "    </tr>\n",
       "  </tbody>\n",
       "</table>\n",
       "</div>"
      ],
      "text/plain": [
       "             ns_flag  volume  volume%           ltv      avg_ltv\n",
       "DecileRank                                                      \n",
       "(0.0, 0.1]  0.004992   22637     0.15  1.131327e+07   499.768929\n",
       "(0.1, 0.2]  0.017568   42920     0.29  2.283760e+07   532.097006\n",
       "(0.2, 0.3]  0.034062   26276     0.18  1.859152e+07   707.547688\n",
       "(0.3, 0.4]  0.060138   15847     0.11  1.238863e+07   781.764975\n",
       "(0.4, 0.5]  0.090306   12956     0.09  1.301118e+07  1004.259180\n",
       "(0.5, 0.6]  0.134722   10800     0.07  1.328848e+07  1230.414958\n",
       "(0.6, 0.7]  0.198166    8180     0.06  1.431837e+07  1750.411580\n",
       "(0.7, 0.8]  0.298563    5637     0.04  1.390408e+07  2466.574403\n",
       "(0.8, 0.9]  0.420960    2834     0.02  9.529239e+06  3362.469646\n",
       "(0.9, 1.0]  0.560284     141     0.00  5.272077e+05  3739.061357"
      ]
     },
     "execution_count": 65,
     "metadata": {},
     "output_type": "execute_result"
    }
   ],
   "source": [
    "# Both\n",
    "df_oot = df_oot2.copy()\n",
    "\n",
    "custom_bins = [0,0.1,0.2,0.3,0.4,0.5,0.6,0.7,0.8,0.9,1]\n",
    "# custom_bins = [0,0.2,0.4,0.6,0.8,1]\n",
    "\n",
    "df_oot['proba'] = np.round(df_oot['proba'], 3)\n",
    "# df_oot['DecileRank']= pd.qcut(df_oot['proba'], q=5)\n",
    "df_oot['DecileRank']= pd.cut(df_oot['proba'], bins=custom_bins)\n",
    "df_stats = pd.DataFrame(df_oot.groupby(by='DecileRank')['ns_flag'].mean())\n",
    "df_stats['volume'] = df_oot.groupby(by='DecileRank')['ns_flag'].count()\n",
    "df_stats['volume%'] = np.round((df_stats['volume'] / df_stats['volume'].sum()), 2)\n",
    "df_stats['ltv'] = df_oot.groupby(by='DecileRank')['revenue_ltv'].sum()\n",
    "df_stats['avg_ltv'] = df_stats['ltv'] / df_stats['volume']\n",
    "\n",
    "df_stats"
   ]
  },
  {
   "cell_type": "code",
   "execution_count": 66,
   "metadata": {},
   "outputs": [
    {
     "name": "stdout",
     "output_type": "stream",
     "text": [
      "Data Size: 148289  True DS NS: 9917\n",
      "threshold: 0.1  predicted: 125810  pred NS Rate: 0.848  precision: 0.078  recall: 0.989  auc: 0.575\n",
      "threshold: 0.2  predicted: 82863  pred NS Rate: 0.559  precision: 0.109  recall: 0.913  auc: 0.69\n",
      "threshold: 0.3  predicted: 56490  pred NS Rate: 0.381  precision: 0.144  recall: 0.823  auc: 0.737\n",
      "threshold: 0.4  predicted: 40619  pred NS Rate: 0.274  precision: 0.177  recall: 0.727  auc: 0.743\n",
      "threshold: 0.5  predicted: 27659  pred NS Rate: 0.187  precision: 0.218  recall: 0.609  auc: 0.727\n",
      "threshold: 0.6  predicted: 16831  pred NS Rate: 0.114  precision: 0.272  recall: 0.462  auc: 0.687\n",
      "threshold: 0.7  predicted: 8640  pred NS Rate: 0.058  precision: 0.343  recall: 0.299  auc: 0.629\n",
      "threshold: 0.8  predicted: 2999  pred NS Rate: 0.02  precision: 0.427  recall: 0.129  auc: 0.558\n",
      "threshold: 0.9  predicted: 147  pred NS Rate: 0.001  precision: 0.571  recall: 0.008  auc: 0.504\n"
     ]
    },
    {
     "data": {
      "image/png": "[encoded data removed]",
      "text/plain": [
       "<Figure size 360x360 with 1 Axes>"
      ]
     },
     "metadata": {
      "needs_background": "light"
     },
     "output_type": "display_data"
    }
   ],
   "source": [
    "yhat = df_oot.nsl_v2_prob.values\n",
    "y_true = df_oot.ns_flag.values\n",
    "thresholds = [0.1,0.2,0.3,0.4,0.5,0.6,0.7,0.8,0.9]\n",
    "\n",
    "print('Data Size:',y_true.shape[0],' True DS NS:',sum(y_true))    \n",
    "precision_recall_threshold_plot(y_true=y_true, yhat=yhat, thresholds=thresholds)\n"
   ]
  },
  {
   "cell_type": "code",
   "execution_count": 103,
   "metadata": {},
   "outputs": [
    {
     "data": {
      "text/html": [
       "<div>\n",
       "<style scoped>\n",
       "    .dataframe tbody tr th:only-of-type {\n",
       "        vertical-align: middle;\n",
       "    }\n",
       "\n",
       "    .dataframe tbody tr th {\n",
       "        vertical-align: top;\n",
       "    }\n",
       "\n",
       "    .dataframe thead th {\n",
       "        text-align: right;\n",
       "    }\n",
       "</style>\n",
       "<table border=\"1\" class=\"dataframe\">\n",
       "  <thead>\n",
       "    <tr style=\"text-align: right;\">\n",
       "      <th></th>\n",
       "      <th>ns_flag</th>\n",
       "      <th>volume</th>\n",
       "      <th>volume%</th>\n",
       "      <th>ltv</th>\n",
       "      <th>avg_ltv</th>\n",
       "    </tr>\n",
       "    <tr>\n",
       "      <th>DecileRank</th>\n",
       "      <th></th>\n",
       "      <th></th>\n",
       "      <th></th>\n",
       "      <th></th>\n",
       "      <th></th>\n",
       "    </tr>\n",
       "  </thead>\n",
       "  <tbody>\n",
       "    <tr>\n",
       "      <th>(0.0, 0.1]</th>\n",
       "      <td>0.006299</td>\n",
       "      <td>10478</td>\n",
       "      <td>0.10</td>\n",
       "      <td>5.460778e+06</td>\n",
       "      <td>521.166107</td>\n",
       "    </tr>\n",
       "    <tr>\n",
       "      <th>(0.1, 0.2]</th>\n",
       "      <td>0.019831</td>\n",
       "      <td>25516</td>\n",
       "      <td>0.25</td>\n",
       "      <td>1.480329e+07</td>\n",
       "      <td>580.157148</td>\n",
       "    </tr>\n",
       "    <tr>\n",
       "      <th>(0.2, 0.3]</th>\n",
       "      <td>0.037960</td>\n",
       "      <td>17492</td>\n",
       "      <td>0.17</td>\n",
       "      <td>1.419564e+07</td>\n",
       "      <td>811.550301</td>\n",
       "    </tr>\n",
       "    <tr>\n",
       "      <th>(0.3, 0.4]</th>\n",
       "      <td>0.064692</td>\n",
       "      <td>11547</td>\n",
       "      <td>0.11</td>\n",
       "      <td>9.908274e+06</td>\n",
       "      <td>858.082062</td>\n",
       "    </tr>\n",
       "    <tr>\n",
       "      <th>(0.4, 0.45]</th>\n",
       "      <td>0.085667</td>\n",
       "      <td>5463</td>\n",
       "      <td>0.05</td>\n",
       "      <td>5.155258e+06</td>\n",
       "      <td>943.667940</td>\n",
       "    </tr>\n",
       "    <tr>\n",
       "      <th>(0.45, 0.5]</th>\n",
       "      <td>0.103594</td>\n",
       "      <td>5425</td>\n",
       "      <td>0.05</td>\n",
       "      <td>6.296081e+06</td>\n",
       "      <td>1160.567977</td>\n",
       "    </tr>\n",
       "    <tr>\n",
       "      <th>(0.5, 0.6]</th>\n",
       "      <td>0.137716</td>\n",
       "      <td>9614</td>\n",
       "      <td>0.10</td>\n",
       "      <td>1.214890e+07</td>\n",
       "      <td>1263.667439</td>\n",
       "    </tr>\n",
       "    <tr>\n",
       "      <th>(0.6, 0.7]</th>\n",
       "      <td>0.201904</td>\n",
       "      <td>7459</td>\n",
       "      <td>0.07</td>\n",
       "      <td>1.352898e+07</td>\n",
       "      <td>1813.779709</td>\n",
       "    </tr>\n",
       "    <tr>\n",
       "      <th>(0.7, 0.8]</th>\n",
       "      <td>0.300057</td>\n",
       "      <td>5249</td>\n",
       "      <td>0.05</td>\n",
       "      <td>1.316958e+07</td>\n",
       "      <td>2508.969951</td>\n",
       "    </tr>\n",
       "    <tr>\n",
       "      <th>(0.8, 0.9]</th>\n",
       "      <td>0.422979</td>\n",
       "      <td>2759</td>\n",
       "      <td>0.03</td>\n",
       "      <td>9.372975e+06</td>\n",
       "      <td>3397.236291</td>\n",
       "    </tr>\n",
       "    <tr>\n",
       "      <th>(0.9, 1.0]</th>\n",
       "      <td>0.560284</td>\n",
       "      <td>141</td>\n",
       "      <td>0.00</td>\n",
       "      <td>5.272077e+05</td>\n",
       "      <td>3739.061357</td>\n",
       "    </tr>\n",
       "  </tbody>\n",
       "</table>\n",
       "</div>"
      ],
      "text/plain": [
       "              ns_flag  volume  volume%           ltv      avg_ltv\n",
       "DecileRank                                                       \n",
       "(0.0, 0.1]   0.006299   10478     0.10  5.460778e+06   521.166107\n",
       "(0.1, 0.2]   0.019831   25516     0.25  1.480329e+07   580.157148\n",
       "(0.2, 0.3]   0.037960   17492     0.17  1.419564e+07   811.550301\n",
       "(0.3, 0.4]   0.064692   11547     0.11  9.908274e+06   858.082062\n",
       "(0.4, 0.45]  0.085667    5463     0.05  5.155258e+06   943.667940\n",
       "(0.45, 0.5]  0.103594    5425     0.05  6.296081e+06  1160.567977\n",
       "(0.5, 0.6]   0.137716    9614     0.10  1.214890e+07  1263.667439\n",
       "(0.6, 0.7]   0.201904    7459     0.07  1.352898e+07  1813.779709\n",
       "(0.7, 0.8]   0.300057    5249     0.05  1.316958e+07  2508.969951\n",
       "(0.8, 0.9]   0.422979    2759     0.03  9.372975e+06  3397.236291\n",
       "(0.9, 1.0]   0.560284     141     0.00  5.272077e+05  3739.061357"
      ]
     },
     "execution_count": 103,
     "metadata": {},
     "output_type": "execute_result"
    }
   ],
   "source": [
    "# Only Non-SP\n",
    "df_oot = df_oot2[df_oot2.business_type!='sole_proprietorship'].copy()\n",
    "\n",
    "custom_bins = [0,0.1,0.2,0.3,0.4,0.45,0.5,0.6,0.7,0.8,0.9,1]\n",
    "# custom_bins = [0,0.6,1]\n",
    "\n",
    "df_oot['proba'] = np.round(df_oot['proba'], 3)\n",
    "# df_oot['DecileRank']= pd.qcut(df_oot['proba'], q=5)\n",
    "df_oot['DecileRank']= pd.cut(df_oot['proba'], bins=custom_bins)\n",
    "df_stats = pd.DataFrame(df_oot.groupby(by='DecileRank')['ns_flag'].mean())\n",
    "df_stats['volume'] = df_oot.groupby(by='DecileRank')['ns_flag'].count()\n",
    "df_stats['volume%'] = np.round((df_stats['volume'] / df_stats['volume'].sum()), 2)\n",
    "df_stats['ltv'] = df_oot.groupby(by='DecileRank')['revenue_ltv'].sum()\n",
    "df_stats['avg_ltv'] = df_stats['ltv'] / df_stats['volume']\n",
    "\n",
    "df_stats"
   ]
  },
  {
   "cell_type": "code",
   "execution_count": 92,
   "metadata": {},
   "outputs": [],
   "source": [
    "# df_stats.to_csv(project_path+'rough.csv')"
   ]
  },
  {
   "cell_type": "code",
   "execution_count": null,
   "metadata": {},
   "outputs": [],
   "source": []
  },
  {
   "cell_type": "code",
   "execution_count": 104,
   "metadata": {
    "scrolled": true
   },
   "outputs": [
    {
     "name": "stdout",
     "output_type": "stream",
     "text": [
      "Data Size: 101186  True DS NS: 8665\n",
      "threshold: 0.1  predicted: 90791  pred NS Rate: 0.897  precision: 0.095  recall: 0.992  auc: 0.552\n",
      "threshold: 0.2  predicted: 65270  pred NS Rate: 0.645  precision: 0.124  recall: 0.934  auc: 0.658\n",
      "threshold: 0.3  predicted: 47720  pred NS Rate: 0.472  precision: 0.156  recall: 0.858  auc: 0.711\n",
      "threshold: 0.4  predicted: 36166  pred NS Rate: 0.357  precision: 0.185  recall: 0.772  auc: 0.727\n",
      "threshold: 0.45  predicted: 30703  pred NS Rate: 0.303  precision: 0.203  recall: 0.718  auc: 0.726\n",
      "threshold: 0.5  predicted: 25280  pred NS Rate: 0.25  precision: 0.224  recall: 0.653  auc: 0.721\n",
      "threshold: 0.6  predicted: 15641  pred NS Rate: 0.155  precision: 0.277  recall: 0.5  auc: 0.689\n",
      "threshold: 0.7  predicted: 8174  pred NS Rate: 0.081  precision: 0.346  recall: 0.326  auc: 0.634\n",
      "threshold: 0.8  predicted: 2921  pred NS Rate: 0.029  precision: 0.429  recall: 0.145  auc: 0.563\n",
      "threshold: 0.9  predicted: 147  pred NS Rate: 0.001  precision: 0.571  recall: 0.01  auc: 0.505\n"
     ]
    },
    {
     "data": {
      "image/png": "[encoded data removed]",
      "text/plain": [
       "<Figure size 360x360 with 1 Axes>"
      ]
     },
     "metadata": {
      "needs_background": "light"
     },
     "output_type": "display_data"
    }
   ],
   "source": [
    "yhat = df_oot.nsl_v2_prob.values\n",
    "y_true = df_oot.ns_flag.values\n",
    "thresholds = [0.1,0.2,0.3,0.4,0.45, 0.5,0.6,0.7,0.8,0.9]\n",
    "\n",
    "print('Data Size:',y_true.shape[0],' True DS NS:',sum(y_true))    \n",
    "precision_recall_threshold_plot(y_true=y_true, yhat=yhat, thresholds=thresholds)\n"
   ]
  },
  {
   "cell_type": "code",
   "execution_count": null,
   "metadata": {},
   "outputs": [],
   "source": []
  },
  {
   "cell_type": "code",
   "execution_count": 94,
   "metadata": {},
   "outputs": [
    {
     "data": {
      "text/html": [
       "<div>\n",
       "<style scoped>\n",
       "    .dataframe tbody tr th:only-of-type {\n",
       "        vertical-align: middle;\n",
       "    }\n",
       "\n",
       "    .dataframe tbody tr th {\n",
       "        vertical-align: top;\n",
       "    }\n",
       "\n",
       "    .dataframe thead th {\n",
       "        text-align: right;\n",
       "    }\n",
       "</style>\n",
       "<table border=\"1\" class=\"dataframe\">\n",
       "  <thead>\n",
       "    <tr style=\"text-align: right;\">\n",
       "      <th></th>\n",
       "      <th>ns_flag</th>\n",
       "      <th>volume</th>\n",
       "      <th>volume%</th>\n",
       "      <th>ltv</th>\n",
       "      <th>avg_ltv</th>\n",
       "    </tr>\n",
       "    <tr>\n",
       "      <th>DecileRank_v1</th>\n",
       "      <th></th>\n",
       "      <th></th>\n",
       "      <th></th>\n",
       "      <th></th>\n",
       "      <th></th>\n",
       "    </tr>\n",
       "  </thead>\n",
       "  <tbody>\n",
       "    <tr>\n",
       "      <th>(0.0, 0.1]</th>\n",
       "      <td>0.019352</td>\n",
       "      <td>24339</td>\n",
       "      <td>0.24</td>\n",
       "      <td>1.380083e+07</td>\n",
       "      <td>567.025237</td>\n",
       "    </tr>\n",
       "    <tr>\n",
       "      <th>(0.1, 0.2]</th>\n",
       "      <td>0.036549</td>\n",
       "      <td>29659</td>\n",
       "      <td>0.29</td>\n",
       "      <td>2.238707e+07</td>\n",
       "      <td>754.815380</td>\n",
       "    </tr>\n",
       "    <tr>\n",
       "      <th>(0.2, 0.3]</th>\n",
       "      <td>0.081338</td>\n",
       "      <td>12110</td>\n",
       "      <td>0.12</td>\n",
       "      <td>1.165844e+07</td>\n",
       "      <td>962.712160</td>\n",
       "    </tr>\n",
       "    <tr>\n",
       "      <th>(0.3, 0.4]</th>\n",
       "      <td>0.118660</td>\n",
       "      <td>9700</td>\n",
       "      <td>0.10</td>\n",
       "      <td>1.306139e+07</td>\n",
       "      <td>1346.535060</td>\n",
       "    </tr>\n",
       "    <tr>\n",
       "      <th>(0.4, 0.5]</th>\n",
       "      <td>0.143031</td>\n",
       "      <td>11529</td>\n",
       "      <td>0.11</td>\n",
       "      <td>1.642388e+07</td>\n",
       "      <td>1424.571001</td>\n",
       "    </tr>\n",
       "    <tr>\n",
       "      <th>(0.5, 0.6]</th>\n",
       "      <td>0.216826</td>\n",
       "      <td>9224</td>\n",
       "      <td>0.09</td>\n",
       "      <td>1.712324e+07</td>\n",
       "      <td>1856.378645</td>\n",
       "    </tr>\n",
       "    <tr>\n",
       "      <th>(0.6, 0.7]</th>\n",
       "      <td>0.257294</td>\n",
       "      <td>3016</td>\n",
       "      <td>0.03</td>\n",
       "      <td>5.863437e+06</td>\n",
       "      <td>1944.110456</td>\n",
       "    </tr>\n",
       "    <tr>\n",
       "      <th>(0.7, 0.8]</th>\n",
       "      <td>0.341206</td>\n",
       "      <td>1609</td>\n",
       "      <td>0.02</td>\n",
       "      <td>4.277215e+06</td>\n",
       "      <td>2658.306691</td>\n",
       "    </tr>\n",
       "    <tr>\n",
       "      <th>(0.8, 0.9]</th>\n",
       "      <td>NaN</td>\n",
       "      <td>0</td>\n",
       "      <td>0.00</td>\n",
       "      <td>0.000000e+00</td>\n",
       "      <td>NaN</td>\n",
       "    </tr>\n",
       "    <tr>\n",
       "      <th>(0.9, 1.0]</th>\n",
       "      <td>NaN</td>\n",
       "      <td>0</td>\n",
       "      <td>0.00</td>\n",
       "      <td>0.000000e+00</td>\n",
       "      <td>NaN</td>\n",
       "    </tr>\n",
       "  </tbody>\n",
       "</table>\n",
       "</div>"
      ],
      "text/plain": [
       "                ns_flag  volume  volume%           ltv      avg_ltv\n",
       "DecileRank_v1                                                      \n",
       "(0.0, 0.1]     0.019352   24339     0.24  1.380083e+07   567.025237\n",
       "(0.1, 0.2]     0.036549   29659     0.29  2.238707e+07   754.815380\n",
       "(0.2, 0.3]     0.081338   12110     0.12  1.165844e+07   962.712160\n",
       "(0.3, 0.4]     0.118660    9700     0.10  1.306139e+07  1346.535060\n",
       "(0.4, 0.5]     0.143031   11529     0.11  1.642388e+07  1424.571001\n",
       "(0.5, 0.6]     0.216826    9224     0.09  1.712324e+07  1856.378645\n",
       "(0.6, 0.7]     0.257294    3016     0.03  5.863437e+06  1944.110456\n",
       "(0.7, 0.8]     0.341206    1609     0.02  4.277215e+06  2658.306691\n",
       "(0.8, 0.9]          NaN       0     0.00  0.000000e+00          NaN\n",
       "(0.9, 1.0]          NaN       0     0.00  0.000000e+00          NaN"
      ]
     },
     "execution_count": 94,
     "metadata": {},
     "output_type": "execute_result"
    }
   ],
   "source": [
    "# V1\n",
    "\n",
    "custom_bins = [0,0.1,0.2,0.3,0.4,0.5,0.6,0.7,0.8,0.9,1]\n",
    "# custom_bins = [0,0.2,0.4,0.6,0.8,1]\n",
    "\n",
    "df_oot['pred_prob'] = np.round(df_oot['pred_prob'], 3)\n",
    "# df_oot['DecileRank']= pd.qcut(df_oot['proba'], q=5)\n",
    "df_oot['DecileRank_v1']= pd.cut(df_oot['pred_prob'], bins=custom_bins)\n",
    "df_stats = pd.DataFrame(df_oot.groupby(by='DecileRank_v1')['ns_flag'].mean())\n",
    "df_stats['volume'] = df_oot.groupby(by='DecileRank_v1')['ns_flag'].count()\n",
    "df_stats['volume%'] = np.round((df_stats['volume'] / df_stats['volume'].sum()), 2)\n",
    "df_stats['ltv'] = df_oot.groupby(by='DecileRank_v1')['revenue_ltv'].sum()\n",
    "df_stats['avg_ltv'] = df_stats['ltv'] / df_stats['volume']\n",
    "\n",
    "df_stats"
   ]
  },
  {
   "cell_type": "code",
   "execution_count": 95,
   "metadata": {},
   "outputs": [],
   "source": [
    "# df_stats.to_csv(project_path+'rough.csv')"
   ]
  },
  {
   "cell_type": "code",
   "execution_count": null,
   "metadata": {},
   "outputs": [],
   "source": []
  },
  {
   "cell_type": "code",
   "execution_count": 96,
   "metadata": {},
   "outputs": [
    {
     "name": "stdout",
     "output_type": "stream",
     "text": [
      "Data Size: 101186  True DS NS: 8665\n",
      "threshold: 0.1  predicted: 76847  pred NS Rate: 0.759  precision: 0.107  recall: 0.946  auc: 0.602\n",
      "threshold: 0.2  predicted: 47188  pred NS Rate: 0.466  precision: 0.151  recall: 0.821  auc: 0.694\n",
      "threshold: 0.3  predicted: 35078  pred NS Rate: 0.347  precision: 0.175  recall: 0.707  auc: 0.697\n",
      "threshold: 0.4  predicted: 25378  pred NS Rate: 0.251  precision: 0.196  recall: 0.574  auc: 0.677\n",
      "threshold: 0.5  predicted: 13849  pred NS Rate: 0.137  precision: 0.24  recall: 0.384  auc: 0.635\n",
      "threshold: 0.6  predicted: 4625  pred NS Rate: 0.046  precision: 0.286  recall: 0.153  auc: 0.559\n",
      "threshold: 0.7  predicted: 1609  pred NS Rate: 0.016  precision: 0.341  recall: 0.063  auc: 0.526\n",
      "threshold: 0.8  predicted: 0  pred NS Rate: 0.0  precision: 0.0  recall: 0.0  auc: 0.5\n",
      "threshold: 0.9  predicted: 0  pred NS Rate: 0.0  precision: 0.0  recall: 0.0  auc: 0.5\n"
     ]
    },
    {
     "data": {
      "image/png": "[encoded data removed]",
      "text/plain": [
       "<Figure size 360x360 with 1 Axes>"
      ]
     },
     "metadata": {
      "needs_background": "light"
     },
     "output_type": "display_data"
    }
   ],
   "source": [
    "yhat = df_oot.pred_prob.values\n",
    "y_true = df_oot.ns_flag.values\n",
    "thresholds = [0.1,0.2,0.3,0.4,0.5,0.6,0.7,0.8,0.9]\n",
    "\n",
    "print('Data Size:',y_true.shape[0],' True DS NS:',sum(y_true))    \n",
    "precision_recall_threshold_plot(y_true=y_true, yhat=yhat, thresholds=thresholds)\n"
   ]
  },
  {
   "cell_type": "code",
   "execution_count": null,
   "metadata": {},
   "outputs": [],
   "source": []
  },
  {
   "cell_type": "code",
   "execution_count": 97,
   "metadata": {},
   "outputs": [
    {
     "data": {
      "text/html": [
       "<div>\n",
       "<style scoped>\n",
       "    .dataframe tbody tr th:only-of-type {\n",
       "        vertical-align: middle;\n",
       "    }\n",
       "\n",
       "    .dataframe tbody tr th {\n",
       "        vertical-align: top;\n",
       "    }\n",
       "\n",
       "    .dataframe thead th {\n",
       "        text-align: right;\n",
       "    }\n",
       "</style>\n",
       "<table border=\"1\" class=\"dataframe\">\n",
       "  <thead>\n",
       "    <tr style=\"text-align: right;\">\n",
       "      <th></th>\n",
       "      <th>ns_flag</th>\n",
       "      <th>volume</th>\n",
       "      <th>volume%</th>\n",
       "      <th>ltv</th>\n",
       "      <th>avg_ltv</th>\n",
       "    </tr>\n",
       "    <tr>\n",
       "      <th>DecileRank</th>\n",
       "      <th></th>\n",
       "      <th></th>\n",
       "      <th></th>\n",
       "      <th></th>\n",
       "      <th></th>\n",
       "    </tr>\n",
       "  </thead>\n",
       "  <tbody>\n",
       "    <tr>\n",
       "      <th>(0.0, 0.1]</th>\n",
       "      <td>0.003865</td>\n",
       "      <td>12159</td>\n",
       "      <td>0.26</td>\n",
       "      <td>5.852491e+06</td>\n",
       "      <td>481.329942</td>\n",
       "    </tr>\n",
       "    <tr>\n",
       "      <th>(0.1, 0.2]</th>\n",
       "      <td>0.014250</td>\n",
       "      <td>17404</td>\n",
       "      <td>0.37</td>\n",
       "      <td>8.034314e+06</td>\n",
       "      <td>461.636044</td>\n",
       "    </tr>\n",
       "    <tr>\n",
       "      <th>(0.2, 0.3]</th>\n",
       "      <td>0.026298</td>\n",
       "      <td>8784</td>\n",
       "      <td>0.19</td>\n",
       "      <td>4.395885e+06</td>\n",
       "      <td>500.442304</td>\n",
       "    </tr>\n",
       "    <tr>\n",
       "      <th>(0.3, 0.4]</th>\n",
       "      <td>0.047907</td>\n",
       "      <td>4300</td>\n",
       "      <td>0.09</td>\n",
       "      <td>2.480356e+06</td>\n",
       "      <td>576.826973</td>\n",
       "    </tr>\n",
       "    <tr>\n",
       "      <th>(0.4, 0.5]</th>\n",
       "      <td>0.067698</td>\n",
       "      <td>2068</td>\n",
       "      <td>0.04</td>\n",
       "      <td>1.559843e+06</td>\n",
       "      <td>754.275970</td>\n",
       "    </tr>\n",
       "    <tr>\n",
       "      <th>(0.5, 0.6]</th>\n",
       "      <td>0.110455</td>\n",
       "      <td>1186</td>\n",
       "      <td>0.03</td>\n",
       "      <td>1.139583e+06</td>\n",
       "      <td>960.862383</td>\n",
       "    </tr>\n",
       "    <tr>\n",
       "      <th>(0.6, 0.7]</th>\n",
       "      <td>0.159501</td>\n",
       "      <td>721</td>\n",
       "      <td>0.02</td>\n",
       "      <td>7.893839e+05</td>\n",
       "      <td>1094.845867</td>\n",
       "    </tr>\n",
       "    <tr>\n",
       "      <th>(0.7, 0.8]</th>\n",
       "      <td>0.278351</td>\n",
       "      <td>388</td>\n",
       "      <td>0.01</td>\n",
       "      <td>7.344966e+05</td>\n",
       "      <td>1893.032572</td>\n",
       "    </tr>\n",
       "    <tr>\n",
       "      <th>(0.8, 0.9]</th>\n",
       "      <td>0.346667</td>\n",
       "      <td>75</td>\n",
       "      <td>0.00</td>\n",
       "      <td>1.562640e+05</td>\n",
       "      <td>2083.520636</td>\n",
       "    </tr>\n",
       "    <tr>\n",
       "      <th>(0.9, 1.0]</th>\n",
       "      <td>NaN</td>\n",
       "      <td>0</td>\n",
       "      <td>0.00</td>\n",
       "      <td>0.000000e+00</td>\n",
       "      <td>NaN</td>\n",
       "    </tr>\n",
       "  </tbody>\n",
       "</table>\n",
       "</div>"
      ],
      "text/plain": [
       "             ns_flag  volume  volume%           ltv      avg_ltv\n",
       "DecileRank                                                      \n",
       "(0.0, 0.1]  0.003865   12159     0.26  5.852491e+06   481.329942\n",
       "(0.1, 0.2]  0.014250   17404     0.37  8.034314e+06   461.636044\n",
       "(0.2, 0.3]  0.026298    8784     0.19  4.395885e+06   500.442304\n",
       "(0.3, 0.4]  0.047907    4300     0.09  2.480356e+06   576.826973\n",
       "(0.4, 0.5]  0.067698    2068     0.04  1.559843e+06   754.275970\n",
       "(0.5, 0.6]  0.110455    1186     0.03  1.139583e+06   960.862383\n",
       "(0.6, 0.7]  0.159501     721     0.02  7.893839e+05  1094.845867\n",
       "(0.7, 0.8]  0.278351     388     0.01  7.344966e+05  1893.032572\n",
       "(0.8, 0.9]  0.346667      75     0.00  1.562640e+05  2083.520636\n",
       "(0.9, 1.0]       NaN       0     0.00  0.000000e+00          NaN"
      ]
     },
     "execution_count": 97,
     "metadata": {},
     "output_type": "execute_result"
    }
   ],
   "source": [
    "# Only SP\n",
    "df_oot = df_oot2[df_oot2.business_type=='sole_proprietorship'].copy()\n",
    "\n",
    "custom_bins = [0,0.1,0.2,0.3,0.4,0.5,0.6,0.7,0.8,0.9,1]\n",
    "# custom_bins = [0,0.2,0.4,0.6,0.8,1]\n",
    "\n",
    "df_oot['proba'] = np.round(df_oot['proba'], 3)\n",
    "# df_oot['DecileRank']= pd.qcut(df_oot['proba'], q=5)\n",
    "df_oot['DecileRank']= pd.cut(df_oot['proba'], bins=custom_bins)\n",
    "df_stats = pd.DataFrame(df_oot.groupby(by='DecileRank')['ns_flag'].mean())\n",
    "df_stats['volume'] = df_oot.groupby(by='DecileRank')['ns_flag'].count()\n",
    "df_stats['volume%'] = np.round((df_stats['volume'] / df_stats['volume'].sum()), 2)\n",
    "df_stats['ltv'] = df_oot.groupby(by='DecileRank')['revenue_ltv'].sum()\n",
    "df_stats['avg_ltv'] = df_stats['ltv'] / df_stats['volume']\n",
    "\n",
    "df_stats"
   ]
  },
  {
   "cell_type": "code",
   "execution_count": 99,
   "metadata": {},
   "outputs": [],
   "source": [
    "# df_stats.to_csv(project_path+'rough.csv')"
   ]
  },
  {
   "cell_type": "code",
   "execution_count": 98,
   "metadata": {
    "scrolled": true
   },
   "outputs": [
    {
     "name": "stdout",
     "output_type": "stream",
     "text": [
      "Data Size: 47103  True DS NS: 1252\n",
      "threshold: 0.1  predicted: 35019  pred NS Rate: 0.743  precision: 0.034  recall: 0.962  auc: 0.612\n",
      "threshold: 0.2  predicted: 17593  pred NS Rate: 0.374  precision: 0.055  recall: 0.767  auc: 0.702\n",
      "threshold: 0.3  predicted: 8770  pred NS Rate: 0.186  precision: 0.083  recall: 0.584  auc: 0.704\n",
      "threshold: 0.4  predicted: 4453  pred NS Rate: 0.095  precision: 0.117  recall: 0.415  auc: 0.665\n",
      "threshold: 0.5  predicted: 2379  pred NS Rate: 0.051  precision: 0.16  recall: 0.304  auc: 0.63\n",
      "threshold: 0.6  predicted: 1190  pred NS Rate: 0.025  precision: 0.211  recall: 0.2  auc: 0.59\n",
      "threshold: 0.7  predicted: 466  pred NS Rate: 0.01  precision: 0.29  recall: 0.108  auc: 0.55\n",
      "threshold: 0.8  predicted: 78  pred NS Rate: 0.002  precision: 0.346  recall: 0.022  auc: 0.51\n",
      "threshold: 0.9  predicted: 0  pred NS Rate: 0.0  precision: 0.0  recall: 0.0  auc: 0.5\n"
     ]
    },
    {
     "data": {
      "image/png": "[encoded data removed]",
      "text/plain": [
       "<Figure size 360x360 with 1 Axes>"
      ]
     },
     "metadata": {
      "needs_background": "light"
     },
     "output_type": "display_data"
    }
   ],
   "source": [
    "yhat = df_oot.nsl_v2_prob.values\n",
    "y_true = df_oot.ns_flag.values\n",
    "thresholds = [0.1,0.2,0.3,0.4,0.5,0.6,0.7,0.8,0.9]\n",
    "\n",
    "print('Data Size:',y_true.shape[0],' True DS NS:',sum(y_true))    \n",
    "precision_recall_threshold_plot(y_true=y_true, yhat=yhat, thresholds=thresholds)\n"
   ]
  },
  {
   "cell_type": "code",
   "execution_count": 100,
   "metadata": {},
   "outputs": [
    {
     "data": {
      "text/html": [
       "<div>\n",
       "<style scoped>\n",
       "    .dataframe tbody tr th:only-of-type {\n",
       "        vertical-align: middle;\n",
       "    }\n",
       "\n",
       "    .dataframe tbody tr th {\n",
       "        vertical-align: top;\n",
       "    }\n",
       "\n",
       "    .dataframe thead th {\n",
       "        text-align: right;\n",
       "    }\n",
       "</style>\n",
       "<table border=\"1\" class=\"dataframe\">\n",
       "  <thead>\n",
       "    <tr style=\"text-align: right;\">\n",
       "      <th></th>\n",
       "      <th>ns_flag</th>\n",
       "      <th>volume</th>\n",
       "      <th>volume%</th>\n",
       "      <th>ltv</th>\n",
       "      <th>avg_ltv</th>\n",
       "    </tr>\n",
       "    <tr>\n",
       "      <th>DecileRank_v1</th>\n",
       "      <th></th>\n",
       "      <th></th>\n",
       "      <th></th>\n",
       "      <th></th>\n",
       "      <th></th>\n",
       "    </tr>\n",
       "  </thead>\n",
       "  <tbody>\n",
       "    <tr>\n",
       "      <th>(0.0, 0.1]</th>\n",
       "      <td>0.008626</td>\n",
       "      <td>20752</td>\n",
       "      <td>0.44</td>\n",
       "      <td>9.259790e+06</td>\n",
       "      <td>446.211955</td>\n",
       "    </tr>\n",
       "    <tr>\n",
       "      <th>(0.1, 0.2]</th>\n",
       "      <td>0.020149</td>\n",
       "      <td>9380</td>\n",
       "      <td>0.20</td>\n",
       "      <td>4.916969e+06</td>\n",
       "      <td>524.197095</td>\n",
       "    </tr>\n",
       "    <tr>\n",
       "      <th>(0.2, 0.3]</th>\n",
       "      <td>0.034087</td>\n",
       "      <td>6454</td>\n",
       "      <td>0.14</td>\n",
       "      <td>3.810204e+06</td>\n",
       "      <td>590.363114</td>\n",
       "    </tr>\n",
       "    <tr>\n",
       "      <th>(0.3, 0.4]</th>\n",
       "      <td>0.045884</td>\n",
       "      <td>6669</td>\n",
       "      <td>0.14</td>\n",
       "      <td>3.947639e+06</td>\n",
       "      <td>591.938721</td>\n",
       "    </tr>\n",
       "    <tr>\n",
       "      <th>(0.4, 0.5]</th>\n",
       "      <td>0.064000</td>\n",
       "      <td>2375</td>\n",
       "      <td>0.05</td>\n",
       "      <td>1.563331e+06</td>\n",
       "      <td>658.244829</td>\n",
       "    </tr>\n",
       "    <tr>\n",
       "      <th>(0.5, 0.6]</th>\n",
       "      <td>0.127435</td>\n",
       "      <td>1232</td>\n",
       "      <td>0.03</td>\n",
       "      <td>1.355331e+06</td>\n",
       "      <td>1100.106673</td>\n",
       "    </tr>\n",
       "    <tr>\n",
       "      <th>(0.6, 0.7]</th>\n",
       "      <td>0.137097</td>\n",
       "      <td>124</td>\n",
       "      <td>0.00</td>\n",
       "      <td>1.473845e+05</td>\n",
       "      <td>1188.584556</td>\n",
       "    </tr>\n",
       "    <tr>\n",
       "      <th>(0.7, 0.8]</th>\n",
       "      <td>0.273504</td>\n",
       "      <td>117</td>\n",
       "      <td>0.00</td>\n",
       "      <td>1.472192e+05</td>\n",
       "      <td>1258.283741</td>\n",
       "    </tr>\n",
       "    <tr>\n",
       "      <th>(0.8, 0.9]</th>\n",
       "      <td>NaN</td>\n",
       "      <td>0</td>\n",
       "      <td>0.00</td>\n",
       "      <td>0.000000e+00</td>\n",
       "      <td>NaN</td>\n",
       "    </tr>\n",
       "    <tr>\n",
       "      <th>(0.9, 1.0]</th>\n",
       "      <td>NaN</td>\n",
       "      <td>0</td>\n",
       "      <td>0.00</td>\n",
       "      <td>0.000000e+00</td>\n",
       "      <td>NaN</td>\n",
       "    </tr>\n",
       "  </tbody>\n",
       "</table>\n",
       "</div>"
      ],
      "text/plain": [
       "                ns_flag  volume  volume%           ltv      avg_ltv\n",
       "DecileRank_v1                                                      \n",
       "(0.0, 0.1]     0.008626   20752     0.44  9.259790e+06   446.211955\n",
       "(0.1, 0.2]     0.020149    9380     0.20  4.916969e+06   524.197095\n",
       "(0.2, 0.3]     0.034087    6454     0.14  3.810204e+06   590.363114\n",
       "(0.3, 0.4]     0.045884    6669     0.14  3.947639e+06   591.938721\n",
       "(0.4, 0.5]     0.064000    2375     0.05  1.563331e+06   658.244829\n",
       "(0.5, 0.6]     0.127435    1232     0.03  1.355331e+06  1100.106673\n",
       "(0.6, 0.7]     0.137097     124     0.00  1.473845e+05  1188.584556\n",
       "(0.7, 0.8]     0.273504     117     0.00  1.472192e+05  1258.283741\n",
       "(0.8, 0.9]          NaN       0     0.00  0.000000e+00          NaN\n",
       "(0.9, 1.0]          NaN       0     0.00  0.000000e+00          NaN"
      ]
     },
     "execution_count": 100,
     "metadata": {},
     "output_type": "execute_result"
    }
   ],
   "source": [
    "# V1\n",
    "\n",
    "custom_bins = [0,0.1,0.2,0.3,0.4,0.5,0.6,0.7,0.8,0.9,1]\n",
    "# custom_bins = [0,0.2,0.4,0.6,0.8,1]\n",
    "\n",
    "df_oot['pred_prob'] = np.round(df_oot['pred_prob'], 3)\n",
    "# df_oot['DecileRank']= pd.qcut(df_oot['proba'], q=5)\n",
    "df_oot['DecileRank_v1']= pd.cut(df_oot['pred_prob'], bins=custom_bins)\n",
    "df_stats = pd.DataFrame(df_oot.groupby(by='DecileRank_v1')['ns_flag'].mean())\n",
    "df_stats['volume'] = df_oot.groupby(by='DecileRank_v1')['ns_flag'].count()\n",
    "df_stats['volume%'] = np.round((df_stats['volume'] / df_stats['volume'].sum()), 2)\n",
    "df_stats['ltv'] = df_oot.groupby(by='DecileRank_v1')['revenue_ltv'].sum()\n",
    "df_stats['avg_ltv'] = df_stats['ltv'] / df_stats['volume']\n",
    "\n",
    "df_stats"
   ]
  },
  {
   "cell_type": "code",
   "execution_count": 101,
   "metadata": {},
   "outputs": [],
   "source": [
    "# df_stats.to_csv(project_path+'rough.csv')"
   ]
  },
  {
   "cell_type": "code",
   "execution_count": 102,
   "metadata": {},
   "outputs": [
    {
     "name": "stdout",
     "output_type": "stream",
     "text": [
      "Data Size: 47103  True DS NS: 1252\n",
      "threshold: 0.1  predicted: 26351  pred NS Rate: 0.559  precision: 0.041  recall: 0.857  auc: 0.653\n",
      "threshold: 0.2  predicted: 16971  pred NS Rate: 0.36  precision: 0.052  recall: 0.706  auc: 0.678\n",
      "threshold: 0.3  predicted: 10517  pred NS Rate: 0.223  precision: 0.063  recall: 0.53  auc: 0.658\n",
      "threshold: 0.4  predicted: 3848  pred NS Rate: 0.082  precision: 0.093  recall: 0.286  auc: 0.605\n",
      "threshold: 0.5  predicted: 1473  pred NS Rate: 0.031  precision: 0.14  recall: 0.165  auc: 0.568\n",
      "threshold: 0.6  predicted: 241  pred NS Rate: 0.005  precision: 0.203  recall: 0.039  auc: 0.517\n",
      "threshold: 0.7  predicted: 117  pred NS Rate: 0.002  precision: 0.274  recall: 0.026  auc: 0.512\n",
      "threshold: 0.8  predicted: 0  pred NS Rate: 0.0  precision: 0.0  recall: 0.0  auc: 0.5\n",
      "threshold: 0.9  predicted: 0  pred NS Rate: 0.0  precision: 0.0  recall: 0.0  auc: 0.5\n"
     ]
    },
    {
     "data": {
      "image/png": "[encoded data removed]",
      "text/plain": [
       "<Figure size 360x360 with 1 Axes>"
      ]
     },
     "metadata": {
      "needs_background": "light"
     },
     "output_type": "display_data"
    }
   ],
   "source": [
    "yhat = df_oot.pred_prob.values\n",
    "y_true = df_oot.ns_flag.values\n",
    "thresholds = [0.1,0.2,0.3,0.4,0.5,0.6,0.7,0.8,0.9]\n",
    "\n",
    "print('Data Size:',y_true.shape[0],' True DS NS:',sum(y_true))    \n",
    "precision_recall_threshold_plot(y_true=y_true, yhat=yhat, thresholds=thresholds)\n"
   ]
  },
  {
   "cell_type": "code",
   "execution_count": null,
   "metadata": {},
   "outputs": [],
   "source": []
  }
 ],
 "metadata": {
  "kernelspec": {
   "display_name": "Python 3 (ipykernel)",
   "language": "python",
   "name": "python3"
  },
  "language_info": {
   "codemirror_mode": {
    "name": "ipython",
    "version": 3
   },
   "file_extension": ".py",
   "mimetype": "text/x-python",
   "name": "python",
   "nbconvert_exporter": "python",
   "pygments_lexer": "ipython3",
   "version": "3.9.2"
  },
  "vscode": {
   "interpreter": {
    "hash": "5fa8e7a0e7c7188de72acea4ae1bc222d1770499c4c3d36ce32843ef46b20053"
   }
  }
 },
 "nbformat": 4,
 "nbformat_minor": 2
}
