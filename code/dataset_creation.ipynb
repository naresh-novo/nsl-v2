{
 "cells": [
  {
   "cell_type": "code",
   "execution_count": null,
   "metadata": {},
   "outputs": [],
   "source": [
    "# path variables\n",
    "import sys\n",
    "project_path = '/Users/naresh/Downloads/DS/growth/nsl_v2/nsl_v2_final/'\n",
    "sys.path.insert(0, project_path+'config')\n",
    "from config import SQLQuery\n",
    "\n",
    "# core libraries\n",
    "import datetime\n",
    "import pandas as pd\n",
    "import numpy as np\n",
    "import warnings\n",
    "warnings.filterwarnings(\"ignore\")"
   ]
  },
  {
   "cell_type": "code",
   "execution_count": null,
   "metadata": {},
   "outputs": [],
   "source": [
    "q = SQLQuery('snowflake')"
   ]
  },
  {
   "cell_type": "code",
   "execution_count": null,
   "metadata": {},
   "outputs": [],
   "source": [
    "# north star customers definition\n",
    "txn_days = 90\n",
    "txn_credit_amount = 15000"
   ]
  },
  {
   "cell_type": "markdown",
   "metadata": {},
   "source": [
    "#### Training Dataset"
   ]
  },
  {
   "cell_type": "code",
   "execution_count": null,
   "metadata": {},
   "outputs": [],
   "source": [
    "# query to fetch the required data\n",
    "df_raw = q(\"\"\"with \n",
    "\n",
    "TRANSACTIONS AS -- get all credit transactions\n",
    "(\n",
    "    select BUSINESS_ID,\n",
    "           TRANSACTION_DATE,\n",
    "           AMOUNT \n",
    "  from \"PROD_DB\".\"DATA\".\"TRANSACTIONS\" \n",
    "  where type='credit' and status='active'\n",
    "  group by 1,2,3\n",
    "),\n",
    "\n",
    "BUSINESSES as -- get all business accounts created between July 2021 and Sep 2022\n",
    "(\n",
    "  select *\n",
    "  from \"PROD_DB\".\"DATA\".\"BUSINESSES\"\n",
    "  where ACCOUNT_CREATE_DATE between '2021-07-01' and '2022-10-31'\n",
    "  and business_id not in (select distinct business_id\n",
    "                          from \"PROD_DB\".\"DATA\".\"BUSINESSES\"\n",
    "                          where DATEDIFF(day, ACCOUNT_CREATE_DATE, coalesce(ACCOUNT_CLOSE_DATE, current_date)) <= 180\n",
    "                          and closure_reason in ('Customer Closure Request', 'Customer Request'))\n",
    "),\n",
    "\n",
    "ALLOY_PERSONS as -- get all the alloy persons data (max of application_versions_id in case of duplicates)\n",
    "(\n",
    "  select * from (\n",
    "select * ,\n",
    "       row_number() over (partition by APPLICATION_ID order by APPLICATION_VERSION_ID desc) as rank\n",
    "from \"PROD_DB\".\"DATA\".\"ALLOY_EVALUATIONS_PERSONS\") \n",
    "where rank=1\n",
    "),\n",
    "\n",
    "APPLICATIONS as -- get all entries from applications table\n",
    "(\n",
    "  select *\n",
    "  from \"PROD_DB\".\"DATA\".\"APPLICATIONS\"\n",
    "),\n",
    "\n",
    "BASE AS -- create base table with business and transactions\n",
    "(\n",
    "    select b.BUSINESS_ID,b.APPLICATION_ID,sum(t.amount) as total_credit_amount\n",
    "    from BUSINESSES b \n",
    "    inner join TRANSACTIONS t\n",
    "    on b.BUSINESS_ID=t.BUSINESS_ID\n",
    "    where DATEDIFF(day, ACCOUNT_CREATE_DATE, TRANSACTION_DATE) between 0 AND \"\"\" + str(txn_days) + \"\"\"\n",
    "    group by 1,2\n",
    ")\n",
    "\n",
    "    select B.business_id, \n",
    "    coalesce(total_credit_amount,0) as total_deposit, \n",
    "    A.*, P.*\n",
    "    from BUSINESSES B\n",
    "    left join base\n",
    "    on B.business_id = base.business_id\n",
    "    left join APPLICATIONS A\n",
    "    on B.application_id = A.application_id\n",
    "    left join ALLOY_PERSONS P\n",
    "    on B.application_id = P.application_id\n",
    "    \"\"\")\n",
    "\n",
    "df_raw.shape"
   ]
  },
  {
   "cell_type": "code",
   "execution_count": null,
   "metadata": {
    "scrolled": true
   },
   "outputs": [],
   "source": [
    "df_raw = df_raw.set_index('business_id')"
   ]
  },
  {
   "cell_type": "code",
   "execution_count": null,
   "metadata": {
    "scrolled": true
   },
   "outputs": [],
   "source": [
    "# Plaid revenue adding to the Novo deposits\n",
    "df_plaid = pd.read_csv(project_path+'data/plaid_revenue_3m_july21_oct22.csv')\n",
    "df_plaid.rename(columns={'BUSINESS_ID':'business_id','REVENUE_3M_PLAID':'revenue_3m_plaid'},inplace=True)\n",
    "df_plaid = df_plaid.set_index('business_id')\n"
   ]
  },
  {
   "cell_type": "code",
   "execution_count": null,
   "metadata": {},
   "outputs": [],
   "source": [
    "# If in case of change in the data vintage, please use the below link to fetch the plaid data for the mentioned period:\n",
    "#     https://app.snowflake.com/us-east-1/hba10191/w1Vq4nP3CjUR#query"
   ]
  },
  {
   "cell_type": "code",
   "execution_count": null,
   "metadata": {
    "scrolled": true
   },
   "outputs": [],
   "source": [
    "df_raw = pd.merge(df_raw, df_plaid[['revenue_3m_plaid']], on='business_id', how='left')\n",
    "df_raw['revenue_3m_plaid'] = df_raw['revenue_3m_plaid'].fillna(0)\n",
    "df_raw['total_deposit'] = df_raw['total_deposit'] + df_raw['revenue_3m_plaid']"
   ]
  },
  {
   "cell_type": "code",
   "execution_count": null,
   "metadata": {},
   "outputs": [],
   "source": [
    "# drop null application ids\n",
    "df_raw = df_raw.dropna(subset='application_id')\n",
    "\n",
    "# tag north star customers\n",
    "df_raw['ns_flag'] = np.where(df_raw['total_deposit']>=txn_credit_amount, 1, 0)\n",
    "\n",
    "# get non-ns vs ns accounts split\n",
    "df_raw['ns_flag'].value_counts(dropna=False)"
   ]
  },
  {
   "cell_type": "code",
   "execution_count": null,
   "metadata": {},
   "outputs": [],
   "source": [
    "# drop duplicate columns\n",
    "df_raw = df_raw.loc[:,~df_raw.columns.duplicated()].copy()\n",
    "df_raw.shape"
   ]
  },
  {
   "cell_type": "code",
   "execution_count": null,
   "metadata": {},
   "outputs": [],
   "source": [
    "print('Applications with $0 deposit:', df_raw[df_raw['total_deposit'] == 0].shape[0])\n",
    "print('Applications with deposit less than 5K :', df_raw[(df_raw['total_deposit'] <= 5000)].shape[0])\n",
    "print('Applications with $15K deposit or more:', df_raw[df_raw['total_deposit'] >= txn_credit_amount].shape[0])\n",
    "print('Applications with deposit between $0 and $15K :', df_raw[(df_raw['total_deposit'] > 0) & (df_raw['total_deposit'] < txn_credit_amount)].shape[0])\n"
   ]
  },
  {
   "cell_type": "code",
   "execution_count": null,
   "metadata": {},
   "outputs": [],
   "source": [
    "# save the dataset\n",
    "file = 'nsl_raw_dataset_' + str(datetime.date.today()) + '.pkl'\n",
    "path = project_path + 'data/'\n",
    "df_raw.reset_index(inplace=True)\n",
    "df_raw.to_pickle(path+file)"
   ]
  },
  {
   "cell_type": "markdown",
   "metadata": {},
   "source": [
    "##### Segment Data"
   ]
  },
  {
   "cell_type": "code",
   "execution_count": null,
   "metadata": {},
   "outputs": [],
   "source": [
    "segment_raw_data = q(\n",
    "\"\"\"\n",
    "with \n",
    "BUSINESS_DETAIL as -- get all business accounts created between July 2021 and Oct 2022\n",
    "(\n",
    "  select a.*\n",
    "  from \"PROD_DB\".\"DATA\".\"BUSINESSES\" a\n",
    "  inner join\n",
    "  \"PROD_DB\".\"DATA\".\"APPLICATIONS\" b\n",
    "  on a.application_id=b.application_id\n",
    "  where 1=1 \n",
    "        and date(a.ACCOUNT_CREATE_DATE) between '2021-07-01' and '2022-10-31'\n",
    "        and business_id not in (\n",
    "        select distinct business_id\n",
    "              from \"PROD_DB\".\"DATA\".\"BUSINESSES\"\n",
    "              where DATEDIFF(day, ACCOUNT_CREATE_DATE, coalesce(ACCOUNT_CLOSE_DATE, current_date)) <= 180\n",
    "              and closure_reason in ('Customer Closure Request', 'Customer Request'))\n",
    "\n",
    ")\n",
    "\n",
    ",segment_all as (\n",
    "select b.application_id, a.USER_ID, a.anonymous_id, a.CONTEXT_IP, a.OWNER_ID, context_page_path, screen_width, screen_height, timezone, sent_at, received_at\n",
    "from BUSINESS_DETAIL b\n",
    "left join SEGMENT_DB.ONBOARDING_PROD.PAGES a\n",
    "on a.application_id=b.application_id\n",
    "order by a.application_id, received_at asc\n",
    ")\n",
    "\n",
    "-- Pull all the records which crossed the 13th question  \n",
    ",segment_till_incoming as (select a.application_id, a.context_page_path, a.received_at from \n",
    "(select a.application_id, a.context_page_path, a.received_at, rank() over(partition by a.application_id order by a.received_at asc) as rk\n",
    "from segment_all a\n",
    "where a.context_page_path='/app/business-questions/incoming'\n",
    ") a where rk=1 )\n",
    "\n",
    "-- Pull customer visited pages till the 13th question\n",
    ",final as (select\n",
    "a.application_id, a.USER_ID, a.anonymous_id, a.CONTEXT_IP, a.OWNER_ID, a.context_page_path, a.screen_width, a.screen_height, a.timezone, a.sent_at, a.received_at \n",
    "from segment_all a\n",
    "inner join segment_till_incoming b\n",
    "on a.application_id=b.application_id and a.received_at <= b.received_at\n",
    "order by a.application_id, a.received_at asc\n",
    ")\n",
    "\n",
    "select * from final order by application_id, received_at asc\n",
    "\n",
    "\"\"\"\n",
    ")"
   ]
  },
  {
   "cell_type": "code",
   "execution_count": null,
   "metadata": {},
   "outputs": [],
   "source": [
    "# save the oot dataset\n",
    "file = 'segment_raw_dataset_' + str(datetime.date.today()) + '.pkl'\n",
    "path = project_path + 'data/'\n",
    "segment_raw_data.reset_index(inplace=True)\n",
    "segment_raw_data.to_pickle(path+file)"
   ]
  },
  {
   "cell_type": "markdown",
   "metadata": {},
   "source": [
    "#### OOT Dataset"
   ]
  },
  {
   "cell_type": "code",
   "execution_count": null,
   "metadata": {},
   "outputs": [],
   "source": [
    "# query to fetch the required data\n",
    "df_oot = q(\"\"\"with \n",
    "\n",
    "TRANSACTIONS AS -- get all credit transactions\n",
    "(\n",
    "    select BUSINESS_ID,\n",
    "           TRANSACTION_DATE,\n",
    "           AMOUNT \n",
    "  from \"PROD_DB\".\"DATA\".\"TRANSACTIONS\" \n",
    "  where type='credit' and status='active'\n",
    "  group by 1,2,3\n",
    "),\n",
    "\n",
    "BUSINESSES as -- get all business accounts created between Nov 2022 and Feb 2023\n",
    "(\n",
    "  select *\n",
    "  from \"PROD_DB\".\"DATA\".\"BUSINESSES\"\n",
    "  where ACCOUNT_CREATE_DATE between '2022-11-01' and '2023-02-28'\n",
    "  and business_id not in (select distinct business_id\n",
    "                          from \"PROD_DB\".\"DATA\".\"BUSINESSES\"\n",
    "                          where DATEDIFF(day, ACCOUNT_CREATE_DATE, coalesce(ACCOUNT_CLOSE_DATE, current_date)) <= 180\n",
    "                          and closure_reason in ('Customer Closure Request', 'Customer Request'))\n",
    "),\n",
    "\n",
    "ALLOY_PERSONS as -- get all the alloy persons data (max of application_versions_id in case of duplicates)\n",
    "(\n",
    "  select * from (\n",
    "select * ,\n",
    "       row_number() over (partition by APPLICATION_ID order by APPLICATION_VERSION_ID desc) as rank\n",
    "from \"PROD_DB\".\"DATA\".\"ALLOY_EVALUATIONS_PERSONS\") \n",
    "where rank=1\n",
    "),\n",
    "\n",
    "APPLICATIONS as -- get all entries from applications table\n",
    "(\n",
    "  select *\n",
    "  from \"PROD_DB\".\"DATA\".\"APPLICATIONS\"\n",
    "),\n",
    "\n",
    "BASE AS -- create base table with business and transactions\n",
    "(\n",
    "    select b.BUSINESS_ID,b.APPLICATION_ID,sum(t.amount) as total_credit_amount\n",
    "    from BUSINESSES b \n",
    "    inner join TRANSACTIONS t\n",
    "    on b.BUSINESS_ID=t.BUSINESS_ID\n",
    "    where DATEDIFF(day, ACCOUNT_CREATE_DATE, TRANSACTION_DATE) between 0 AND \"\"\" + str(txn_days) + \"\"\"\n",
    "    group by 1,2\n",
    ")\n",
    "\n",
    "    select B.business_id, coalesce(total_credit_amount,0) as total_deposit, A.*, P.*\n",
    "    from BUSINESSES B\n",
    "    left join base\n",
    "    on B.business_id = base.business_id\n",
    "    left join APPLICATIONS A\n",
    "    on B.application_id = A.application_id\n",
    "    left join ALLOY_PERSONS P\n",
    "    on B.application_id = P.application_id\n",
    "    \"\"\")\n",
    "\n",
    "df_oot.shape"
   ]
  },
  {
   "cell_type": "code",
   "execution_count": null,
   "metadata": {},
   "outputs": [],
   "source": [
    "df_oot = df_oot.set_index('business_id')"
   ]
  },
  {
   "cell_type": "code",
   "execution_count": null,
   "metadata": {},
   "outputs": [],
   "source": [
    "df_oot[df_oot.total_deposit>=15000].shape"
   ]
  },
  {
   "cell_type": "code",
   "execution_count": null,
   "metadata": {
    "scrolled": true
   },
   "outputs": [],
   "source": [
    "# Plaid revenue adding to the Novo deposits\n",
    "df_plaid_oot = pd.read_csv(project_path+'data/plaid_revenue_3m_oot_nov22_feb23.csv')\n",
    "df_plaid_oot.rename(columns={'BUSINESS_ID':'business_id','REVENUE_3M_PLAID':'revenue_3m_plaid'},inplace=True)\n",
    "df_plaid_oot = df_plaid_oot.set_index('business_id')\n",
    "df_oot = pd.merge(df_oot, df_plaid_oot[['revenue_3m_plaid']], on='business_id', how='left')\n",
    "\n",
    "df_oot['revenue_3m_plaid'] = df_oot['revenue_3m_plaid'].fillna(0)\n",
    "df_oot['total_deposit'] = df_oot['total_deposit'] + df_oot['revenue_3m_plaid']"
   ]
  },
  {
   "cell_type": "code",
   "execution_count": null,
   "metadata": {},
   "outputs": [],
   "source": [
    "# If in case of change in the data vintage, please use the below link to fetch the plaid data for the mentioned period:\n",
    "#     https://app.snowflake.com/us-east-1/hba10191/wW00wchf7hv#query"
   ]
  },
  {
   "cell_type": "code",
   "execution_count": null,
   "metadata": {},
   "outputs": [],
   "source": [
    "# drop null application ids\n",
    "df_oot = df_oot.dropna(subset='application_id')\n",
    "\n",
    "# tag north star customers\n",
    "df_oot['ns_flag'] = np.where(df_oot['total_deposit']>=txn_credit_amount, 1, 0)\n",
    "\n",
    "# get non-ns vs ns accounts split\n",
    "df_oot['ns_flag'].value_counts(dropna=False)"
   ]
  },
  {
   "cell_type": "code",
   "execution_count": null,
   "metadata": {},
   "outputs": [],
   "source": [
    "# drop duplicate columns\n",
    "df_oot = df_oot.loc[:,~df_oot.columns.duplicated()].copy()\n",
    "df_oot.shape"
   ]
  },
  {
   "cell_type": "code",
   "execution_count": null,
   "metadata": {},
   "outputs": [],
   "source": [
    "print('Applications with $0 deposit:', df_oot[df_oot['total_deposit'] == 0].shape[0])\n",
    "print('Applications with deposit less than 5K :', df_oot[(df_oot['total_deposit'] <= 5000)].shape[0])\n",
    "print('Applications with $15K deposit or more:', df_oot[df_oot['total_deposit'] >= txn_credit_amount].shape[0])\n",
    "print('Applications with deposit between $0 and $15K :', df_oot[(df_oot['total_deposit'] > 0) & (df_oot['total_deposit'] < txn_credit_amount)].shape[0])\n"
   ]
  },
  {
   "cell_type": "code",
   "execution_count": null,
   "metadata": {},
   "outputs": [],
   "source": [
    "# save the oot dataset\n",
    "file = 'nsl_oot_dataset_' + str(datetime.date.today()) + '.pkl'\n",
    "path = project_path + 'data/'\n",
    "df_oot.reset_index(inplace=True)\n",
    "df_oot.to_pickle(path+file)"
   ]
  },
  {
   "cell_type": "markdown",
   "metadata": {},
   "source": [
    "##### Segment Data"
   ]
  },
  {
   "cell_type": "code",
   "execution_count": null,
   "metadata": {},
   "outputs": [],
   "source": [
    "segment_pages_oot = q(\n",
    "\"\"\"\n",
    "with \n",
    "BUSINESS_DETAIL as -- get all business accounts created between Nov 2022 and Feb 2023\n",
    "(\n",
    "  select a.*\n",
    "  from \"PROD_DB\".\"DATA\".\"BUSINESSES\" a\n",
    "  inner join\n",
    "  \"PROD_DB\".\"DATA\".\"APPLICATIONS\" b\n",
    "  on a.application_id=b.application_id\n",
    "  where 1=1 \n",
    "        and date(a.ACCOUNT_CREATE_DATE) between '2022-11-01' and '2023-02-28'\n",
    "        and business_id not in (\n",
    "        select distinct business_id\n",
    "              from \"PROD_DB\".\"DATA\".\"BUSINESSES\"\n",
    "              where DATEDIFF(day, ACCOUNT_CREATE_DATE, coalesce(ACCOUNT_CLOSE_DATE, current_date)) <= 180\n",
    "              and closure_reason in ('Customer Closure Request', 'Customer Request'))\n",
    "\n",
    ")\n",
    "\n",
    ",segment_all as (\n",
    "select b.application_id, a.USER_ID, a.anonymous_id, a.CONTEXT_IP, a.OWNER_ID, context_page_path, screen_width, screen_height, timezone, sent_at, received_at\n",
    "from BUSINESS_DETAIL b\n",
    "left join SEGMENT_DB.ONBOARDING_PROD.PAGES a\n",
    "on a.application_id=b.application_id\n",
    "order by a.application_id, received_at asc\n",
    ")\n",
    "\n",
    ",segment_till_incoming as (select a.application_id, a.context_page_path, a.received_at from \n",
    "(select a.application_id, a.context_page_path, a.received_at, rank() over(partition by a.application_id order by a.received_at asc) as rk\n",
    "from segment_all a\n",
    "where a.context_page_path='/app/business-questions/incoming'\n",
    ") a where rk=1 )\n",
    "\n",
    ",final as (select\n",
    "a.application_id, a.USER_ID, a.anonymous_id, a.CONTEXT_IP, a.OWNER_ID, a.context_page_path, a.screen_width, a.screen_height, a.timezone, a.sent_at, a.received_at \n",
    "from segment_all a\n",
    "inner join segment_till_incoming b\n",
    "on a.application_id=b.application_id and a.received_at <= b.received_at\n",
    "order by a.application_id, a.received_at asc\n",
    ")\n",
    "\n",
    "select * from final order by application_id, received_at asc\n",
    "\n",
    "\"\"\"\n",
    ")"
   ]
  },
  {
   "cell_type": "code",
   "execution_count": null,
   "metadata": {},
   "outputs": [],
   "source": [
    "# save the oot dataset\n",
    "file = 'segment_oot_dataset_' + str(datetime.date.today()) + '.pkl'\n",
    "path = project_path + 'data/'\n",
    "segment_pages_oot.reset_index(inplace=True)\n",
    "segment_pages_oot.to_pickle(path+file)"
   ]
  },
  {
   "cell_type": "code",
   "execution_count": null,
   "metadata": {},
   "outputs": [],
   "source": []
  }
 ],
 "metadata": {
  "kernelspec": {
   "display_name": "Python 3 (ipykernel)",
   "language": "python",
   "name": "python3"
  },
  "language_info": {
   "codemirror_mode": {
    "name": "ipython",
    "version": 3
   },
   "file_extension": ".py",
   "mimetype": "text/x-python",
   "name": "python",
   "nbconvert_exporter": "python",
   "pygments_lexer": "ipython3",
   "version": "3.9.2"
  },
  "vscode": {
   "interpreter": {
    "hash": "5fa8e7a0e7c7188de72acea4ae1bc222d1770499c4c3d36ce32843ef46b20053"
   }
  }
 },
 "nbformat": 4,
 "nbformat_minor": 2
}
