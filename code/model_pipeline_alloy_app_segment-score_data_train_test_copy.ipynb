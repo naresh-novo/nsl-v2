{
 "cells": [
  {
   "cell_type": "code",
   "execution_count": 1,
   "metadata": {},
   "outputs": [],
   "source": [
    "# path variables\n",
    "import sys\n",
    "project_path = '/Users/naresh/Downloads/DS/growth/nsl_v2/nsl_v2_final/'\n",
    "sys.path.insert(0, project_path+'config')\n",
    "from config import SQLQuery\n",
    "\n",
    "# core libraries\n",
    "import pickle\n",
    "import warnings\n",
    "warnings.filterwarnings(\"ignore\")\n",
    "import datetime\n",
    "import pandas as pd\n",
    "import numpy as np\n",
    "from datetime import date\n",
    "\n",
    "from sklearn.preprocessing import OrdinalEncoder\n",
    "from sklearn.decomposition import PCA\n",
    "from xgboost import XGBClassifier, plot_importance\n",
    "import matplotlib.pyplot as plt\n",
    "from model_evaluations import model_metrics, cross_validation\n",
    "from model_building import tune_hyperparameters\n",
    "\n",
    "from sklearn.metrics import roc_curve, precision_recall_curve, precision_score, recall_score, roc_auc_score\n",
    "from matplotlib import pyplot"
   ]
  },
  {
   "cell_type": "code",
   "execution_count": 2,
   "metadata": {},
   "outputs": [],
   "source": [
    "%load_ext autoreload\n",
    "%autoreload 2\n",
    "from stability_monitoring import *"
   ]
  },
  {
   "cell_type": "markdown",
   "metadata": {},
   "source": [
    "#### Load data"
   ]
  },
  {
   "cell_type": "code",
   "execution_count": 3,
   "metadata": {
    "scrolled": true
   },
   "outputs": [],
   "source": [
    "# north star customers definition\n",
    "txn_days = 90\n",
    "txn_credit_amount = 15000\n",
    "\n",
    "# from_date = date(2022,10,1)\n",
    "# to_date = date(2023,2,28)"
   ]
  },
  {
   "cell_type": "code",
   "execution_count": 4,
   "metadata": {},
   "outputs": [],
   "source": [
    "q = SQLQuery('snowflake')"
   ]
  },
  {
   "cell_type": "code",
   "execution_count": 5,
   "metadata": {},
   "outputs": [
    {
     "data": {
      "text/plain": [
       "(127513, 166)"
      ]
     },
     "execution_count": 5,
     "metadata": {},
     "output_type": "execute_result"
    }
   ],
   "source": [
    "# query to fetch the required data\n",
    "df_raw_app = q(\"\"\"with \n",
    "\n",
    "TRANSACTIONS AS -- get all credit transactions\n",
    "(\n",
    "    select BUSINESS_ID,\n",
    "           TRANSACTION_DATE,\n",
    "           AMOUNT \n",
    "  from \"PROD_DB\".\"DATA\".\"TRANSACTIONS\" \n",
    "  where type='credit' and status='active'\n",
    "  group by 1,2,3\n",
    "),\n",
    "\n",
    "BUSINESSES as -- get all business accounts created between Oct 2022 and Feb 2023\n",
    "(\n",
    "  select *\n",
    "  from \"PROD_DB\".\"DATA\".\"BUSINESSES\"\n",
    "  where ACCOUNT_CREATE_DATE between '2021-07-01' and '2022-10-31'\n",
    "),\n",
    "\n",
    "ALLOY_PERSONS as -- get all the alloy persons data (max of application_versions_id in case of duplicates)\n",
    "(\n",
    "  select * from (\n",
    "select * ,\n",
    "       row_number() over (partition by APPLICATION_ID order by APPLICATION_VERSION_ID desc) as rank\n",
    "from \"PROD_DB\".\"DATA\".\"ALLOY_EVALUATIONS_PERSONS\") \n",
    "where rank=1\n",
    "),\n",
    "\n",
    "APPLICATIONS as -- get all entries from applications table\n",
    "(\n",
    "  select *\n",
    "  from \"PROD_DB\".\"DATA\".\"APPLICATIONS\"\n",
    "),\n",
    "\n",
    "BASE AS -- create base table with business and transactions\n",
    "(\n",
    "    select b.BUSINESS_ID,b.APPLICATION_ID,sum(t.amount) as total_credit_amount\n",
    "    from BUSINESSES b \n",
    "    inner join TRANSACTIONS t\n",
    "    on b.BUSINESS_ID=t.BUSINESS_ID\n",
    "    where DATEDIFF(day, ACCOUNT_CREATE_DATE, TRANSACTION_DATE) between 0 AND \"\"\" + str(txn_days) + \"\"\"\n",
    "    group by 1,2\n",
    ")\n",
    "\n",
    "    select B.business_id, \n",
    "    coalesce(total_credit_amount,0) as total_deposit, \n",
    "    A.*, P.*\n",
    "    from BUSINESSES B\n",
    "    left join base\n",
    "    on B.business_id = base.business_id\n",
    "    left join APPLICATIONS A\n",
    "    on B.application_id = A.application_id\n",
    "    left join ALLOY_PERSONS P\n",
    "    on B.application_id = P.application_id\n",
    "    \"\"\")\n",
    "\n",
    "df_raw_app.shape"
   ]
  },
  {
   "cell_type": "code",
   "execution_count": 6,
   "metadata": {},
   "outputs": [
    {
     "data": {
      "text/plain": [
       "0    116795\n",
       "1      8588\n",
       "Name: ns_flag, dtype: int64"
      ]
     },
     "execution_count": 6,
     "metadata": {},
     "output_type": "execute_result"
    }
   ],
   "source": [
    "# drop null application ids\n",
    "df_raw_app = df_raw_app.dropna(subset='application_id')\n",
    "\n",
    "# tag north star customers\n",
    "df_raw_app['ns_flag'] = np.where(df_raw_app['total_deposit']>=txn_credit_amount, 1, 0)\n",
    "\n",
    "# get non-ns vs ns accounts split\n",
    "df_raw_app['ns_flag'].value_counts(dropna=False)"
   ]
  },
  {
   "cell_type": "code",
   "execution_count": 7,
   "metadata": {},
   "outputs": [
    {
     "data": {
      "text/plain": [
       "(125383, 166)"
      ]
     },
     "execution_count": 7,
     "metadata": {},
     "output_type": "execute_result"
    }
   ],
   "source": [
    "# drop duplicate columns\n",
    "df_raw_app = df_raw_app.loc[:,~df_raw_app.columns.duplicated()].copy()\n",
    "df_raw_app.shape"
   ]
  },
  {
   "cell_type": "code",
   "execution_count": 8,
   "metadata": {},
   "outputs": [
    {
     "name": "stdout",
     "output_type": "stream",
     "text": [
      "Applications with $0 deposit: 40458\n",
      "Applications with deposit less than 5K : 105687\n",
      "Applications with $15K deposit or more: 8588\n",
      "Applications with deposit between $0 and $15K : 76337\n"
     ]
    }
   ],
   "source": [
    "print('Applications with $0 deposit:', df_raw_app[df_raw_app['total_deposit'] == 0].shape[0])\n",
    "print('Applications with deposit less than 5K :', df_raw_app[(df_raw_app['total_deposit'] <= 5000)].shape[0])\n",
    "print('Applications with $15K deposit or more:', df_raw_app[df_raw_app['total_deposit'] >= txn_credit_amount].shape[0])\n",
    "print('Applications with deposit between $0 and $15K :', df_raw_app[(df_raw_app['total_deposit'] > 0) & (df_raw_app['total_deposit'] < txn_credit_amount)].shape[0])\n"
   ]
  },
  {
   "cell_type": "code",
   "execution_count": 5,
   "metadata": {},
   "outputs": [],
   "source": [
    "# raw data\n",
    "file = 'app_scoring_dataset_train_test.pkl'\n",
    "path = project_path + 'data/'\n",
    "# df_raw_app.reset_index(inplace=True)\n",
    "# df_raw_app.to_pickle(path+file)\n",
    "\n",
    "df_raw_app = pd.read_pickle(path+file)"
   ]
  },
  {
   "cell_type": "code",
   "execution_count": null,
   "metadata": {},
   "outputs": [],
   "source": []
  },
  {
   "cell_type": "code",
   "execution_count": 10,
   "metadata": {},
   "outputs": [],
   "source": [
    "segment_raw_data = q(\n",
    "\"\"\"\n",
    "with \n",
    "BUSINESS_DETAIL as -- get all business accounts created between Oct 2022 and Feb 2023\n",
    "(\n",
    "  select a.*\n",
    "  from \"PROD_DB\".\"DATA\".\"BUSINESSES\" a\n",
    "  inner join\n",
    "  \"PROD_DB\".\"DATA\".\"APPLICATIONS\" b\n",
    "  on a.application_id=b.application_id\n",
    "  where 1=1 \n",
    "        and date(a.ACCOUNT_CREATE_DATE) between '2021-07-01' and '2022-10-31'\n",
    "\n",
    ")\n",
    "\n",
    ",segment_all as (\n",
    "select b.application_id, a.USER_ID, a.anonymous_id, a.CONTEXT_IP, a.OWNER_ID, context_page_path, screen_width, screen_height, timezone, sent_at, received_at\n",
    "from BUSINESS_DETAIL b\n",
    "left join SEGMENT_DB.ONBOARDING_PROD.PAGES a\n",
    "on a.application_id=b.application_id\n",
    "order by a.application_id, received_at asc\n",
    ")\n",
    "\n",
    "-- Pull all the records which crossed the 13th question  \n",
    ",segment_till_incoming as (select a.application_id, a.context_page_path, a.received_at from \n",
    "(select a.application_id, a.context_page_path, a.received_at, rank() over(partition by a.application_id order by a.received_at asc) as rk\n",
    "from segment_all a\n",
    "where a.context_page_path='/app/business-questions/incoming'\n",
    ") a where rk=1 )\n",
    "\n",
    "-- Pull customer visited pages till the 13th question\n",
    ",final as (select\n",
    "a.application_id, a.USER_ID, a.anonymous_id, a.CONTEXT_IP, a.OWNER_ID, a.context_page_path, a.screen_width, a.screen_height, a.timezone, a.sent_at, a.received_at \n",
    "from segment_all a\n",
    "inner join segment_till_incoming b\n",
    "on a.application_id=b.application_id and a.received_at <= b.received_at\n",
    "order by a.application_id, a.received_at asc\n",
    ")\n",
    "\n",
    "select * from final order by application_id, received_at asc\n",
    "\n",
    "\"\"\"\n",
    ")\n"
   ]
  },
  {
   "cell_type": "code",
   "execution_count": null,
   "metadata": {},
   "outputs": [],
   "source": []
  },
  {
   "cell_type": "code",
   "execution_count": 11,
   "metadata": {},
   "outputs": [],
   "source": [
    "def segment_features_1(df:pd.DataFrame, cols_list:list, app_level_df:pd.DataFrame, training:bool=True):\n",
    "    \"\"\" \n",
    "        df : segment raw data\n",
    "        cols_list: columns list on which the operations are performed\n",
    "        app_level_df: application level data\n",
    "        \n",
    "    \"\"\"\n",
    "    \n",
    "    new_cols = []\n",
    "    for col in cols_list:\n",
    "        tmp = df[['application_id',col]].drop_duplicates(subset=['application_id',col], keep='first')\n",
    "        tmp2 = pd.DataFrame(tmp.application_id.value_counts()).reset_index()\n",
    "        col = col+'_count'\n",
    "        tmp2.rename(columns={'application_id':col, 'index':'application_id'}, inplace=True)\n",
    "    \n",
    "        # Merging with app level df\n",
    "        app_level_df = pd.merge(app_level_df, tmp2, on='application_id', how='left')\n",
    "        new_cols.append(col)\n",
    "        \n",
    "    if training:\n",
    "        df_impute_segment = app_level_df[new_cols].median()\n",
    "        df_impute_segment = pd.DataFrame(df_impute_segment, columns=['impute_value']).reset_index().rename(columns={'index':'feature'})\n",
    "        df_impute_segment.to_pickle(project_path+'models/df_impute_segment.pkl') # Save the impute values as df\n",
    "\n",
    "    else:\n",
    "        df_impute_segment = pd.read_pickle(project_path+'models/df_impute_segment.pkl') # Load the impute values as df\n",
    "\n",
    "    # screen height and width features\n",
    "    tmp2 = pd.DataFrame()\n",
    "    tmp2 = pd.concat([tmp2, df[['application_id','screen_height','screen_width']]])\n",
    "    tmp2.drop_duplicates(subset=['application_id','screen_height','screen_width'],keep='first', inplace=True)\n",
    "\n",
    "    new_cols2 = []\n",
    "    list_value_type = ['max','min','mean','median']\n",
    "    for value_type in list_value_type:\n",
    "        colw = 'screen_width'\n",
    "        tmp = pd.DataFrame(tmp2.groupby(['application_id'])[colw].agg([value_type]))\n",
    "        tmp[value_type] = tmp[value_type].astype('float')\n",
    "        tmp.rename(columns={value_type:colw+'_'+value_type}, inplace=True) \n",
    "        app_level_df = pd.merge(app_level_df, tmp, on='application_id', how='left')\n",
    "        \n",
    "        new_cols2.append(colw+'_'+value_type)\n",
    "\n",
    "        colh = 'screen_height'\n",
    "        tmp = pd.DataFrame(tmp2.groupby(['application_id'])[colh].agg([value_type]))\n",
    "        tmp[value_type] = tmp[value_type].astype('float')\n",
    "        tmp.rename(columns={value_type:colh+'_'+value_type}, inplace=True) \n",
    "        app_level_df = pd.merge(app_level_df, tmp, on='application_id', how='left')\n",
    "        \n",
    "        new_cols2.append(colh+'_'+value_type)\n",
    "        \n",
    "    if training:\n",
    "        df_impute_segment2 = app_level_df[new_cols2].median()\n",
    "        df_impute_segment2 = pd.DataFrame(df_impute_segment2, columns=['impute_value']).reset_index().rename(columns={'index':'feature'})\n",
    "        df_impute_segment2.to_pickle(project_path+'models/df_impute_segment2.pkl') # Save the impute values as df\n",
    "\n",
    "    else:\n",
    "        df_impute_segment2 = pd.read_pickle(project_path+'models/df_impute_segment2.pkl') # Load the impute values as df\n",
    "\n",
    "    return app_level_df\n"
   ]
  },
  {
   "cell_type": "code",
   "execution_count": 12,
   "metadata": {},
   "outputs": [],
   "source": [
    "def segment_features_2(df:pd.DataFrame, app_level_df:pd.DataFrame, training:bool=True):\n",
    "    \"\"\" \n",
    "        df : segment raw data\n",
    "        cols_list: columns list on which the operations are performed\n",
    "        app_level_df: application level data\n",
    "        \n",
    "    \"\"\"\n",
    "    # Cleaning the list of owner_ids\n",
    "    def clean_string(x):\n",
    "        if x != None:\n",
    "            x = str(x)\n",
    "            x = [val.strip(\"\"\"'|[| |\"|,|]\"\"\") for val in x.split('/') if not val.strip(\"\"\"'|[| |\"|,|]\"\"\") in ['',None] and len(val.strip(\"\"\"'|[| |\"|,|]\"\"\"))<36]\n",
    "        return '/'.join(x)\n",
    "\n",
    "    df['context_page_path_clean'] = df['context_page_path'].apply(clean_string)\n",
    "    # One-hot encoding the unique page paths\n",
    "    col = 'context_page_path_clean'\n",
    "    tmp = df[col].str.get_dummies()\n",
    "    tmp['application_id'] = df.application_id\n",
    "    # Common pages that every applicant must visit\n",
    "    common_pages = ['verify-email-otp','welcome','app/applicant/personal-info','app/applicant/phone'\n",
    "    ,'app/applicant/otp-verify','app/applicant/address','app/applicant/dob-ssn','app/business/business-type'\n",
    "    ,'app/business/address','app/business/other-info','app/business-questions/about-business'\n",
    "    ,'app/business-questions/incoming']\n",
    "\n",
    "    # no.of visits per page\n",
    "    tmp2 = tmp[common_pages+['application_id']].groupby(['application_id']).sum()\n",
    "    tmp2.reset_index(drop=False, inplace=True)\n",
    "    tmp2 = pd.merge(app_level_df, tmp2, on='application_id', how='left')\n",
    "    \n",
    "    # no.of unique pages per user\n",
    "    tmp3 = tmp.groupby(['application_id']).sum()\n",
    "    tmp3.reset_index(drop=False, inplace=True)\n",
    "    tmp3 = pd.merge(tmp3, app_level_df[['application_id']], on='application_id', how='left')\n",
    "    drop_cols = ['404','app/applicant','app/business','application-denied','forgot-password','signup','status','undefined']\n",
    "    drop_cols = [col for col in tmp3.columns.to_list() if col in drop_cols]\n",
    "    tmp3 = tmp3.drop(columns=drop_cols)\n",
    "    tmp3 = tmp3.dropna(subset=['application_id'])\n",
    "    \n",
    "    tmp4 = pd.DataFrame()\n",
    "    tmp4['application_id'] = tmp3.application_id\n",
    "    cols = tmp3.drop(columns=['application_id']).columns.to_list()\n",
    "    tmp4[cols] = pd.DataFrame(np.where(tmp3[cols]>=1, 1, 0))\n",
    "    tmp4 = tmp4.set_index('application_id')\n",
    "    tmp4 = pd.DataFrame(tmp4.sum(axis=1), columns=['page_count'])\n",
    "    tmp2 = pd.merge(tmp2,tmp4,on='application_id',how='left')\n",
    "\n",
    "    if training:\n",
    "        df_impute_segment3 = tmp2[common_pages+['page_count']].median()\n",
    "        df_impute_segment3 = pd.DataFrame(df_impute_segment3, columns=['impute_value']).reset_index().rename(columns={'index':'feature'})\n",
    "        df_impute_segment3.to_pickle(project_path+'models/df_impute_segment3.pkl') # Save the impute values as df\n",
    "\n",
    "    else:\n",
    "        df_impute_segment3 = pd.read_pickle(project_path+'models/df_impute_segment3.pkl') # Load the impute values as df\n",
    "\n",
    "    return tmp2\n"
   ]
  },
  {
   "cell_type": "code",
   "execution_count": 13,
   "metadata": {},
   "outputs": [],
   "source": [
    "def segment_features_3(app_level_df:pd.DataFrame):\n",
    "    \"\"\" \n",
    "        df : segment raw data\n",
    "        cols_list: columns list on which the operations are performed\n",
    "        app_level_df: application level data\n",
    "        \n",
    "    \"\"\"\n",
    "    impute1 = pd.read_pickle(project_path+'models/df_impute_segment.pkl')\n",
    "    impute2 = pd.read_pickle(project_path+'models/df_impute_segment2.pkl')\n",
    "    impute3 = pd.read_pickle(project_path+'models/df_impute_segment3.pkl')\n",
    "    \n",
    "    ############# PART-1 #############\n",
    "    # Function to fill nulls with median values\n",
    "    def fill_null_values(df_impute:pd.DataFrame, data_df:pd.DataFrame,):\n",
    "        df_dict = dict(df_impute.values)\n",
    "        impute_cols = df_impute['feature'].to_list()\n",
    "        for col in data_df.columns.to_list():\n",
    "            if col in impute_cols:\n",
    "                data_df[col] = data_df[col].fillna(df_dict[col])\n",
    "                impute_cols.remove(col)\n",
    "        return data_df\n",
    "\n",
    "    # Filling nulls with median\n",
    "    app_level_df = fill_null_values(impute1, app_level_df)\n",
    "    app_level_df['sh_sw_ratio_count'] = app_level_df['screen_height_count']/app_level_df['screen_width_count']\n",
    "    app_level_df['sh_sw_ratio_count'] = app_level_df['sh_sw_ratio_count'].astype('float')\n",
    "    \n",
    "    cols_list_1 = impute1.feature.to_list()\n",
    "    # Feature Engg\n",
    "    for col in cols_list_1:\n",
    "        app_level_df[col] = np.where(app_level_df[col]==1,1,0)\n",
    "        \n",
    "\n",
    "    ############# PART-2 #############\n",
    "    # Filling nulls with median\n",
    "    app_level_df = fill_null_values(impute2, app_level_df)\n",
    "\n",
    "    # Function to fill zero screen width and height with median values\n",
    "    def fill_zero_values(df_impute:pd.DataFrame, data_df:pd.DataFrame,):\n",
    "        df_dict = dict(df_impute.values)\n",
    "        impute_cols = df_impute['feature'].to_list()\n",
    "        for col in data_df.columns.to_list():\n",
    "            if col in impute_cols:\n",
    "                data_df[col] = np.where(data_df[col]==0, df_dict[col], data_df[col])\n",
    "                impute_cols.remove(col)\n",
    "        return data_df\n",
    "    \n",
    "    # Filling zeros with median\n",
    "    app_level_df = fill_zero_values(impute2, app_level_df)\n",
    "    # Creating Ratios\n",
    "    list_value_type = ['max','min','mean','median']\n",
    "    for value_type in list_value_type:\n",
    "        colh = 'screen_height'\n",
    "        colw = 'screen_width'\n",
    "        app_level_df['sh_sw_ratio_'+value_type] = app_level_df[colh+'_'+value_type]/app_level_df[colw+'_'+value_type]\n",
    "\n",
    "    \n",
    "    ############# PART-3 #############\n",
    "    cols_list_3 = impute3.feature.to_list()\n",
    "    app_level_df = fill_null_values(impute3, app_level_df)\n",
    "    \n",
    "    return app_level_df"
   ]
  },
  {
   "cell_type": "code",
   "execution_count": null,
   "metadata": {},
   "outputs": [],
   "source": []
  },
  {
   "cell_type": "code",
   "execution_count": null,
   "metadata": {},
   "outputs": [],
   "source": []
  },
  {
   "cell_type": "code",
   "execution_count": 14,
   "metadata": {},
   "outputs": [],
   "source": [
    "\n",
    "segment_pages_oot = segment_raw_data.copy()\n",
    "# Filter only the existing applications in segment data\n",
    "segment_pages_oot = segment_pages_oot[~segment_pages_oot.received_at.isnull()]\n",
    "segment_pages_oot.reset_index(drop=True, inplace=True)\n",
    "segment_pages_oot = segment_pages_oot.sort_values(by=['application_id','received_at'])\n",
    "\n",
    "# Change data type\n",
    "cols = ['application_id','user_id','owner_id','anonymous_id','context_page_path','timezone']\n",
    "segment_pages_oot[cols] = segment_pages_oot[cols].astype('string')\n",
    "segment_pages_oot[['screen_width','screen_height']] = segment_pages_oot[['screen_width','screen_height']].astype('int')\n",
    "\n",
    "for col in segment_pages_oot.columns:\n",
    "    if col != 'user_id':\n",
    "        idx = segment_pages_oot.index[segment_pages_oot[col].isnull()].tolist()\n",
    "        idx.extend(segment_pages_oot.index[segment_pages_oot[col].isna()].tolist())\n",
    "        idx.extend(segment_pages_oot.index[segment_pages_oot[col] == ''].tolist())\n",
    "        idx.extend(segment_pages_oot.index[segment_pages_oot[col] == '[]'].tolist())\n",
    "        idx = list(set(idx))\n",
    "        segment_pages_oot.loc[idx, col] = None    \n",
    "\n",
    "\n",
    "df_oot = df_raw_app.copy()\n",
    "\n",
    "df_oot_tmp = pd.merge(segment_pages_oot, df_oot[['application_id', 'ns_flag']], on='application_id', how='inner')\n",
    "x_oot = df_oot_tmp.reset_index(drop=True)\n",
    "\n",
    "cols_list = ['timezone','user_id','owner_id','anonymous_id','context_ip','screen_width','screen_height']\n",
    "# Creating df with all apps\n",
    "app_level_data = pd.DataFrame()\n",
    "app_level_data['application_id'] = x_oot.application_id.unique()\n",
    "\n",
    "app_level_data = segment_features_1(df=x_oot, cols_list=cols_list, app_level_df=app_level_data, training=False)\n",
    "app_level_data = segment_features_2(df=x_oot, app_level_df=app_level_data, training=False)\n",
    "\n",
    "df_oot = pd.merge(df_oot[['application_id', 'ns_flag']], app_level_data, on='application_id', how='left')\n",
    "x_oot = df_oot.reset_index(drop=True)\n",
    "y_oot = x_oot['ns_flag']\n",
    "app_level_data_oot = segment_features_3(app_level_df=x_oot)\n"
   ]
  },
  {
   "cell_type": "code",
   "execution_count": 6,
   "metadata": {},
   "outputs": [],
   "source": [
    "# save the oot dataset\n",
    "file = 'segment_scoring_dataset_train_test.pkl'\n",
    "path = project_path + 'data/'\n",
    "# app_level_data_oot.reset_index(inplace=True)\n",
    "# app_level_data_oot.to_pickle(path+file)\n",
    "\n",
    "app_level_data_oot = pd.read_pickle(path+file)"
   ]
  },
  {
   "cell_type": "code",
   "execution_count": null,
   "metadata": {},
   "outputs": [],
   "source": []
  },
  {
   "cell_type": "code",
   "execution_count": 7,
   "metadata": {},
   "outputs": [
    {
     "data": {
      "text/plain": [
       "(124703, 6)"
      ]
     },
     "execution_count": 7,
     "metadata": {},
     "output_type": "execute_result"
    }
   ],
   "source": [
    "# train test flag\n",
    "file = 'nsl_train_test_flag_2023-05-30.pkl'\n",
    "path = project_path + 'data/'\n",
    "df_train_test = pd.read_pickle(path + file)\n",
    "df_train_test.shape"
   ]
  },
  {
   "cell_type": "code",
   "execution_count": 8,
   "metadata": {},
   "outputs": [],
   "source": [
    "\n",
    "df = pd.merge(df_raw_app, df_train_test[['application_id', 'train_flag', 'test_flag']], on='application_id', how='inner')\n",
    "\n",
    "#### TRAIN DATA #####\n",
    "x_train = df[df['train_flag'] == 1].reset_index(drop=True)\n",
    "# x_train = x_train[~((x_train.total_deposit>10000) & (x_train.ns_flag==0))].reset_index(drop=True)\n",
    "x_train = pd.merge(x_train, app_level_data_oot.drop(columns=['ns_flag']), on='application_id', how='inner')\n",
    "y_train = x_train['ns_flag']\n",
    "\n",
    "#### TEST DATA #####\n",
    "x_test = df[df['test_flag'] == 1].reset_index(drop=True)\n",
    "# Adding segment test data\n",
    "# segment_test = pd.read_pickle(project_path+'data/segment_processed_data_test.pkl')\n",
    "x_test = pd.merge(x_test, app_level_data_oot.drop(columns=['ns_flag']), on='application_id', how='inner')\n",
    "y_test = x_test['ns_flag']\n"
   ]
  },
  {
   "cell_type": "markdown",
   "metadata": {},
   "source": [
    "#### Feature creation"
   ]
  },
  {
   "cell_type": "code",
   "execution_count": 9,
   "metadata": {},
   "outputs": [],
   "source": [
    "def convert_nulls_to_one_format(df:pd.DataFrame):\n",
    "    for col in df.columns:\n",
    "        idx = df.index[df[col].isnull()].tolist()\n",
    "        idx.extend(df.index[df[col].isna()].tolist())\n",
    "        idx.extend(df.index[df[col] == ''].tolist())\n",
    "        idx.extend(df.index[df[col] == '[]'].tolist())\n",
    "        idx = list(set(idx))\n",
    "        df.loc[idx, col] = None\n",
    "    return df\n",
    "\n",
    "\n",
    "def fill_null_values(df_impute:pd.DataFrame, data_df:pd.DataFrame,):\n",
    "    df_dict = dict(df_impute.values)\n",
    "    impute_cols = df_impute['feature'].to_list()\n",
    "    for col in data_df.columns.to_list():\n",
    "        if col in impute_cols:\n",
    "            data_df[col] = data_df[col].fillna(df_dict[col])\n",
    "            impute_cols.remove(col)\n",
    "    return data_df"
   ]
  },
  {
   "cell_type": "code",
   "execution_count": 10,
   "metadata": {},
   "outputs": [],
   "source": [
    "def feature_engineering_alloy(df:pd.DataFrame, training:bool=True):\n",
    "    \n",
    "    # feature 1\n",
    "    col = 'iovation_device_type'\n",
    "    df[col] = df[col].str.lower()\n",
    "    df[col] = np.where(df[col].isin(['windows','iphone','mac','android']),df[col],'other')\n",
    "        \n",
    "    # feature 2\n",
    "    df['line_type'] = df['line_type'].str.lower()\n",
    "    df['line_type'] = np.where(df['line_type']=='mobile', 'mobile', 'other')\n",
    "\n",
    "    # feature 3\n",
    "    df['iovation_device_timezone'] = np.where(df['iovation_device_timezone'].isin(['300','360','480']),\n",
    "                                                   df['iovation_device_timezone'], 'other')\n",
    "    # feature 4 \n",
    "    col = 'iovation_device_ip_isp'\n",
    "    df[col] = df[col].str.lower()\n",
    "    df[col] = np.where(df[col].str.contains('verizon'),'verizon',df[col])\n",
    "    df[col] = np.where(df[col].str.contains('at&t'),'att',df[col])\n",
    "    df[col] = np.where(df[col].str.match('att'),'att',df[col])\n",
    "    df[col] = np.where(df[col].str.match('charter [b|c]'),'charter',df[col])\n",
    "    df[col] = np.where(df[col].str.match('comcast'),'comcast',df[col])\n",
    "    df[col] = np.where(df[col].isin(['att','charter','verizon','comcast']),df[col],'other')\n",
    "    \n",
    "    # feature 5 \n",
    "    col = 'iovation_device_ip_org'\n",
    "    df[col] = df[col].str.lower()\n",
    "    df[col] = np.where(df[col].str.contains('verizon'),'verizon',df[col])\n",
    "    df[col] = np.where(df[col].str.contains('at&t'),'att',df[col])\n",
    "    df[col] = np.where(df[col].str.match('att'),'att',df[col])\n",
    "    df[col] = np.where(df[col].str.match('charter [b|c]'),'charter',df[col])\n",
    "    df[col] = np.where(df[col].str.match('comcast'),'comcast',df[col])\n",
    "    df[col] = np.where(df[col].isin(['att','charter','verizon','comcast']),df[col],'other')\n",
    "    \n",
    "    # feature 6 \n",
    "    col = 'carrier'\n",
    "    df[col] = df[col].str.lower()\n",
    "    df[col] = np.where(df[col].str.contains('verizon'),'verizon',df[col])\n",
    "    df[col] = np.where(df[col].str.contains('at&t'),'att',df[col])\n",
    "    df[col] = np.where(df[col].str.match('att'),'att',df[col])\n",
    "    df[col] = np.where(df[col].str.contains('t-mobile*'),'tmobile',df[col])\n",
    "    df[col] = np.where(df[col].isin(['att','tmobile','verizon']),df[col],'other')\n",
    "    \n",
    "#     # feature 7 \n",
    "#     col = 'iovation_device_ip_region'\n",
    "#     df[col] = df[col].str.lower()\n",
    "#     # Bucketing into low and high deposit categories\n",
    "#     high_ns_region = pd.read_pickle(project_path+'models/high_ns_region.pkl')[col].to_list()\n",
    "#     low_ns_region = pd.read_pickle(project_path+'models/low_ns_region.pkl')[col].to_list()\n",
    "#     df[col] = np.where(df[col].isin(high_ns_region),'high_ns',df[col])\n",
    "#     df[col] = np.where(df[col].isin(low_ns_region),'low_ns',df[col])\n",
    "#     df[col] = np.where(df[col].isin(['high_ns','low_ns']),df[col],'other')\n",
    "    \n",
    "#     # feature 8\n",
    "#     col = 'iovation_device_ip_city'\n",
    "#     df[col] = df[col].str.lower()\n",
    "#     # Bucketing into low and high deposit categories\n",
    "#     high_ns_city = pd.read_pickle(project_path+'models/high_ns_city.pkl')[col].to_list()\n",
    "#     low_ns_city = pd.read_pickle(project_path+'models/low_ns_city.pkl')[col].to_list()\n",
    "#     df[col] = np.where(df[col].isin(high_ns_city),'high_ns',df[col])\n",
    "#     df[col] = np.where(df[col].isin(low_ns_city),'low_ns',df[col])\n",
    "#     df[col] = np.where(df[col].isin(['high_ns','low_ns']),df[col],'other')\n",
    "\n",
    "    # IDA reason codes\n",
    "    ida_reason_codes_columns = pd.read_pickle(project_path+'models/ida_reason_codes_columns.pkl')\n",
    "    df_tmp2 = pd.DataFrame(index=range(df.shape[0]),columns=ida_reason_codes_columns['feature'].to_list())\n",
    "    df_tmp2 = df_tmp2.fillna(0)\n",
    "\n",
    "    col = 'ida_score_reason_1'\n",
    "    df_tmp = pd.get_dummies(df[col].astype('int'), prefix=col)\n",
    "    col = 'ida_score_reason_2'\n",
    "    df_tmp = pd.concat([df_tmp, pd.get_dummies(df[col].astype('int'), prefix=col)], axis=1)\n",
    "    col = 'ida_score_reason_3'\n",
    "    df_tmp = pd.concat([df_tmp, pd.get_dummies(df[col].astype('int'), prefix=col)], axis=1)    \n",
    "    \n",
    "    df_tmp2.update(df_tmp)\n",
    "    df_tmp2 = df_tmp2.astype('int')\n",
    "    df = pd.concat([df,df_tmp2], axis=1)\n",
    "\n",
    "    # Socure reason codes\n",
    "    # Cleaning the list of reason codes\n",
    "    def clean_string(x):\n",
    "        if x != None:\n",
    "            x = [val.strip(\"\"\"'|[| |\"|,|]\"\"\") for val in x.split('\\n') if not val.strip(\"\"\"'|[| |\"|,|]\"\"\") in ['',None]]\n",
    "        return x\n",
    "\n",
    "    socure_cols = ['socure_phonerisk_reason_code','socure_addressrisk_reason_code','socure_emailrisk_reason_code'\n",
    "                  ,'socure_reason_code']\n",
    "    df_socure = df[socure_cols]\n",
    "\n",
    "    # Collecting the cleaned reason codes\n",
    "    for col in socure_cols:\n",
    "        df_socure[col] = df_socure[col].astype('str')\n",
    "        df_socure[col] = df_socure[col].str.lower()\n",
    "        df_socure[col] = df_socure[col].apply(clean_string)\n",
    "        \n",
    "    socure_cols = ['socure_phonerisk_reason_code','socure_addressrisk_reason_code','socure_emailrisk_reason_code'\n",
    "                  ,'socure_reason_code']\n",
    "    dict_cols = {}\n",
    "    for col in socure_cols:\n",
    "        df_socure = df_socure.drop(col, 1).join(df_socure[col].str.join('|').str.get_dummies())\n",
    "        socure_cols = df_socure.columns[df_socure.columns.str.startswith('socure')].to_list()\n",
    "        true_cols = list(set(df_socure.columns.to_list()) - set(socure_cols))\n",
    "        new_cols = []\n",
    "        for col2 in true_cols:\n",
    "            new_cols.append(col+'_'+col2)\n",
    "        dict_cols = dict(zip(true_cols, new_cols)) | dict_cols\n",
    "        df_socure.rename(columns=dict_cols, inplace=True)\n",
    "\n",
    "    df_socure = df_socure.T\n",
    "    df_socure = df_socure[~df_socure.index.duplicated(keep='first')].T\n",
    "    df_socure = df_socure.astype('int')\n",
    "        \n",
    "    socure_reason_codes_columns = pd.read_pickle(project_path+'models/socure_reason_codes_columns.pkl')\n",
    "    df_tmp = pd.DataFrame(index=range(df.shape[0]),columns=socure_reason_codes_columns['feature'].to_list())\n",
    "    df_tmp = df_tmp.fillna(0)\n",
    "    \n",
    "    df_tmp.update(df_socure)\n",
    "    df_tmp = df_tmp.astype('int')\n",
    "    df = pd.concat([df,df_tmp], axis=1)\n",
    "    \n",
    "    return df\n"
   ]
  },
  {
   "cell_type": "code",
   "execution_count": 11,
   "metadata": {},
   "outputs": [],
   "source": [
    "def feature_engineering_app(df:pd.DataFrame):\n",
    "    # business type\n",
    "    df['business_group'] = np.where(df['business_type'] == 'sole_proprietorship', 0, 1)\n",
    "\n",
    "    # email domain\n",
    "    email_domain_group = pd.read_pickle(project_path+'models/email_domain_group.pkl')['email_domain'].to_list()\n",
    "    df['email_domain_bucket'] = np.where(df['email_domain'].isin(email_domain_group), 0, 1)\n",
    "\n",
    "    # estimated business numbers\n",
    "    estimated_cols = ['estimated_monthly_revenue',\n",
    "                      'incoming_ach_payments',\n",
    "                      'check_deposit_amount',\n",
    "                      'incoming_wire_transfer',\n",
    "                      'outgoing_ach_and_checks',\n",
    "                      'outgoing_wire_transfers']\n",
    "\n",
    "    # grouping all responses into 5K+ and 5K-\n",
    "    for col in estimated_cols:\n",
    "        df[col] = df[col].str.lower()\n",
    "        df[col] = np.where(df[col].isin(['$5k +', '$50k +']), 1, 0)\n",
    "\n",
    "    # number of employees\n",
    "    df[\"number_of_employees\"] = pd.to_numeric(df[\"number_of_employees\"])\n",
    "    df['number_of_employees_bin'] = df[\"number_of_employees\"]\n",
    "    df['number_of_employees_bin'] = np.where((df['number_of_employees']>=2) & (df['number_of_employees']<=5), 2, \n",
    "                                    np.where((df['number_of_employees']>5), 3, 1))\n",
    "    df['number_of_employees_bin'].value_counts()\n",
    "\n",
    "    # purpose of account - options selected\n",
    "    df['purpose_of_account_options_selected'] = df['purpose_of_account'].str.count(',')+1\n",
    "    df['purpose_of_account_options_selected'] = np.where(df['purpose_of_account_options_selected']<=3, 0, 1)\n",
    "\n",
    "#     # industry type\n",
    "#     hdi_group = pd.read_pickle(project_path+'models/hdi_group.pkl')['value'].to_list()\n",
    "\n",
    "#     df['industry_group'] = np.where(df['industry_category_name'].isin(hdi_group), 1, 0)\n",
    "#     df['industry_group'].value_counts()\n",
    "\n",
    "    # business age\n",
    "    df['date_of_establishment_dt'] = pd.to_datetime(df['date_of_establishment'], format='%Y-%m', errors='coerce').dropna()\n",
    "    df['business_age'] = round((df['application_start_datetime'] - df['date_of_establishment_dt']) / np.timedelta64(1, 'Y'),2)\n",
    "    df['business_age'] = df['business_age'].fillna(0)\n",
    "    df['business_age_bucket'] = np.where(df['business_age'] <= 1, 1, \n",
    "                                        np.where((df['business_age']>1) & (df['business_age']<=3), 2, 3))\n",
    "    df['business_age_bucket'].value_counts().sort_values()\n",
    "\n",
    "    # website flag\n",
    "    df['website_flag'] = np.where(df['website'].isna(), 0, 1)\n",
    "\n",
    "#     # state\n",
    "#     hds = pd.read_pickle(project_path+'models/high_ns_busi_state.pkl')['business_address_state'].to_list()\n",
    "#     lds = pd.read_pickle(project_path+'models/low_ns_busi_state.pkl')['business_address_state'].to_list()        \n",
    "#     df['business_address_state'] = np.where(df['business_address_state'].isin(hds), 'high_ns', \n",
    "#                                            np.where(df['business_address_state'].isin(lds), 'low_ns', 'other'))\n",
    "\n",
    "#     # city\n",
    "#     hdc = pd.read_pickle(project_path+'models/high_ns_busi_city.pkl')['business_address_city'].to_list()\n",
    "#     ldc = pd.read_pickle(project_path+'models/low_ns_busi_city.pkl')['business_address_city'].to_list()\n",
    "#     df['business_address_city'] = np.where(df['business_address_city'].isin(hdc), 'high_ns', \n",
    "#                                        np.where(df['business_address_city'].isin(ldc), 'low_ns', 'other'))    \n",
    "    \n",
    "#     # current bank\n",
    "#     hdb_group = ['bluevine', 'other-national-bank', 'td-ank', 'chase', 'usaa']\n",
    "#     df['current_bank_group'] = np.where(df['current_bank'].isin(hdb_group), 1, 0)\n",
    "\n",
    "    # website similar to email domain\n",
    "    df['website_processed'] = df['website'].fillna('')\n",
    "    df['website_email_domain_match'] = df.apply(lambda x: x.email_domain in x.website_processed, axis=1)\n",
    "    df['website_email_domain_match'] = np.where(df['website_email_domain_match']==True, 1, 0)\n",
    "\n",
    "    # ein_ssn\n",
    "    df['ein_ssn'] = np.where(df['ein_ssn']=='1', 1, 0)\n",
    "\n",
    "#     # business pitch\n",
    "#     bag_of_words = pd.read_pickle(project_path+'models/business_pitch_bow.pkl')['bow'].to_list()\n",
    "#     df['bow_flag'] = np.where(df['business_pitch_lema_spacy'].str.contains('|'.join(bag_of_words)), 1, 0)\n",
    "    \n",
    "    return df\n",
    "    "
   ]
  },
  {
   "cell_type": "markdown",
   "metadata": {},
   "source": [
    "#### Filter for raw features"
   ]
  },
  {
   "cell_type": "code",
   "execution_count": 12,
   "metadata": {
    "scrolled": true
   },
   "outputs": [],
   "source": [
    "raw_features_app = [\n",
    " 'application_start_datetime',\n",
    " 'email_domain',\n",
    " 'estimated_monthly_revenue',\n",
    " 'incoming_ach_payments',\n",
    " 'check_deposit_amount',\n",
    " 'incoming_wire_transfer',\n",
    " 'outgoing_ach_and_checks',\n",
    " 'outgoing_wire_transfers',\n",
    " 'number_of_employees',\n",
    " 'purpose_of_account',\n",
    "#  'current_bank',\n",
    " 'industry_category_name',\n",
    " 'date_of_establishment',\n",
    " 'business_type',\n",
    " 'website',\n",
    " 'business_address_city',\n",
    " 'business_address_state',\n",
    " 'ein_ssn'\n",
    "#  'business_pitch_lema_spacy'\n",
    "]\n",
    "\n",
    "# Alloy Features\n",
    "# Numerical\n",
    "num_cols = ['socure_emailrisk', 'socure_phonerisk', 'socure_addressrisk','socure_sigma','sentilink_abuse_score'\n",
    "            ,'sentilink_first_party_synthetic_score','sentilink_third_party_synthetic_score'\n",
    "#             ,'person_score'\n",
    "            ,'ida_score']\n",
    "# Categorical\n",
    "cat_columns = ['iovation_device_type','iovation_device_timezone','iovation_device_ip_isp'\n",
    "               ,'iovation_device_ip_city','iovation_device_ip_region'\n",
    "               ,'iovation_device_ip_org'\n",
    "               ,'carrier','line_type']\n",
    "# Reason codes - IDA\n",
    "ida_reason_cols = ['ida_score_reason_1','ida_score_reason_2','ida_score_reason_3']\n",
    "# Reason codes - Socure\n",
    "socure_reason_cols = ['socure_reason_code','socure_emailrisk_reason_code','socure_phonerisk_reason_code'\n",
    "                      ,'socure_addressrisk_reason_code']\n",
    "\n",
    "raw_features_segment = app_level_data_oot.drop(columns=['application_id','ns_flag','index']\n",
    "                                         ).columns.to_list()"
   ]
  },
  {
   "cell_type": "code",
   "execution_count": 13,
   "metadata": {
    "scrolled": true
   },
   "outputs": [],
   "source": [
    "raw_features_alloy = num_cols + cat_columns + ida_reason_cols + socure_reason_cols\n",
    "raw_features = raw_features_app + raw_features_alloy + raw_features_segment"
   ]
  },
  {
   "cell_type": "markdown",
   "metadata": {},
   "source": [
    "#### Independent variables"
   ]
  },
  {
   "cell_type": "code",
   "execution_count": 14,
   "metadata": {},
   "outputs": [],
   "source": [
    "independent_features_app = ['estimated_monthly_revenue', \n",
    "                        'incoming_ach_payments', \n",
    "                        'check_deposit_amount', \n",
    "                        'incoming_wire_transfer',\n",
    "                        'outgoing_ach_and_checks', \n",
    "                        'outgoing_wire_transfers',\n",
    "                        'ein_ssn',\n",
    "                        'business_group', \n",
    "                        'email_domain_bucket', \n",
    "                        'number_of_employees_bin',\n",
    "                        'purpose_of_account_options_selected', \n",
    "                        'industry_category_name',\n",
    "                        'business_age_bucket',\n",
    "                        'website_flag', \n",
    "                        'business_address_state', \n",
    "                        'business_address_city', \n",
    "#                         'current_bank_group',\n",
    "                        'website_email_domain_match'\n",
    "                           ]\n",
    "\n",
    "# Alloy Features\n",
    "ida_reason_codes_columns = pd.read_pickle(project_path+'models/ida_reason_codes_columns.pkl')['feature'].to_list()\n",
    "socure_reason_codes_columns = pd.read_pickle(project_path+'models/socure_reason_codes_columns.pkl'\n",
    "                                            )['feature'].to_list()\n",
    "\n",
    "reason_codes_cols = ida_reason_codes_columns + socure_reason_codes_columns\n",
    "# Final alloy columns\n",
    "independent_features_alloy_tmp = num_cols + cat_columns + reason_codes_cols\n",
    "independent_features_alloy_tmp = [val for val in independent_features_alloy_tmp if val not in \n",
    "                                  ['iovation_device_ip_region','iovation_device_ip_city']]\n"
   ]
  },
  {
   "cell_type": "markdown",
   "metadata": {},
   "source": [
    "#### Fit model"
   ]
  },
  {
   "cell_type": "code",
   "execution_count": 15,
   "metadata": {
    "scrolled": true
   },
   "outputs": [],
   "source": [
    "###################################\n",
    "depth = 4\n",
    "weight = 6\n",
    "file_name = 'nsql_model_depth_'+str(depth)+'_weight_'+str(weight)+'.pkl'\n",
    "path = project_path + 'models/'\n",
    "xgb_model = pickle.load(open(project_path+file_name, \"rb\"))\n",
    "\n",
    "top_features = [\n",
    " 'estimated_monthly_revenue',\n",
    " 'incoming_ach_payments',\n",
    " 'sh_sw_ratio_mean',\n",
    " 'screen_width_mean',\n",
    " 'industry_category_name_professional, scientific, and technical services',\n",
    " 'business_group',\n",
    " 'outgoing_ach_and_checks',\n",
    " 'socure_sigma',\n",
    " 'iovation_device_type_mac',\n",
    " 'industry_category_name_real estate rental and leasing',\n",
    " 'socure_emailrisk',\n",
    " 'socure_emailrisk_reason_code_i566',\n",
    " 'socure_phonerisk',\n",
    " 'industry_category_name_retail trade',\n",
    " 'socure_emailrisk_reason_code_i553',\n",
    " 'iovation_device_type_android',\n",
    " 'outgoing_wire_transfers',\n",
    " 'socure_emailrisk_reason_code_r561',\n",
    " 'check_deposit_amount',\n",
    " 'socure_phonerisk_reason_code_i630',\n",
    " 'socure_reason_code_r207',\n",
    " 'socure_phonerisk_reason_code_i614',\n",
    " 'iovation_device_timezone_480',\n",
    " 'industry_category_name_administrative and support and waste management and remediation services',\n",
    " 'socure_phonerisk_reason_code_r616',\n",
    " 'email_domain_bucket',\n",
    " 'incoming_wire_transfer',\n",
    " 'industry_category_name_health care and social assistance',\n",
    " 'socure_phonerisk_reason_code_r639',\n",
    " 'carrier_tmobile'\n",
    "]\n"
   ]
  },
  {
   "cell_type": "markdown",
   "metadata": {},
   "source": [
    "### Train Data"
   ]
  },
  {
   "cell_type": "code",
   "execution_count": 16,
   "metadata": {
    "scrolled": true
   },
   "outputs": [],
   "source": [
    "oot_df = x_train.copy()\n",
    "y_oot = y_train.copy()\n",
    "\n",
    "# Adding segment test data\n",
    "segment_oot = app_level_data_oot.copy()\n",
    "# oot_df = pd.merge(oot_df, segment_oot, on='application_id', how='inner')\n",
    "x_oot = oot_df[raw_features]\n",
    "\n",
    "# convert all string features to lowercase\n",
    "string_features = ['email_domain',\n",
    " 'purpose_of_account',\n",
    "#  'current_bank',\n",
    " 'industry_category_name',\n",
    " 'business_type',\n",
    " 'business_address_city',\n",
    " 'business_address_state',\n",
    " 'website']+cat_columns+socure_reason_cols\n",
    "\n",
    "for col in string_features:\n",
    "    x_oot[col] = x_oot[col].str.lower()"
   ]
  },
  {
   "cell_type": "code",
   "execution_count": 17,
   "metadata": {},
   "outputs": [
    {
     "data": {
      "text/plain": [
       "((87292, 73), (87292,))"
      ]
     },
     "execution_count": 17,
     "metadata": {},
     "output_type": "execute_result"
    }
   ],
   "source": [
    "x_oot.shape, y_oot.shape"
   ]
  },
  {
   "cell_type": "code",
   "execution_count": 18,
   "metadata": {},
   "outputs": [
    {
     "data": {
      "text/plain": [
       "(87292, 398)"
      ]
     },
     "execution_count": 18,
     "metadata": {},
     "output_type": "execute_result"
    }
   ],
   "source": [
    "x_oot = convert_nulls_to_one_format(df=x_oot)\n",
    "df_impute_apps = pd.read_pickle(project_path+'models/df_impute_apps.pkl')\n",
    "df_impute = pd.read_pickle(project_path+'models/df_impute.pkl')\n",
    "x_oot = fill_null_values(df_impute_apps, x_oot)\n",
    "x_oot = fill_null_values(df_impute, x_oot)\n",
    "\n",
    "x_oot = feature_engineering_app(df=x_oot)\n",
    "x_oot = feature_engineering_alloy(df=x_oot, training=False)\n",
    "\n",
    "# Removing reason code features as these are already encoded\n",
    "x_oot.drop(columns=ida_reason_cols+socure_reason_cols, inplace=True)\n",
    "\n",
    "# Encoding the categories\n",
    "x_object_cols = x_oot[independent_features_alloy_tmp].select_dtypes(include=['object']).columns.to_list()\n",
    "x_object_cols = x_object_cols+['industry_category_name']\n",
    "\n",
    "x_object_onehot = pd.get_dummies(x_oot[x_object_cols]) # create dummies\n",
    "x_object_onehot = x_object_onehot.astype('int')\n",
    "x_oot = pd.concat([x_oot.drop(columns=x_object_cols), x_object_onehot], axis=1)\n",
    "x_oot.columns= x_oot.columns.str.lower() # convert column names to lower case\n",
    "\n",
    "\n",
    "# Filter the final independent features\n",
    "train_cols = pd.read_pickle(project_path+'models/train_data_columns.pkl')['feature'].to_list()\n",
    "df_tmp = pd.DataFrame(index=range(x_oot.shape[0]),columns=train_cols)\n",
    "df_tmp = df_tmp.fillna(0)\n",
    "df_tmp.update(x_oot)\n",
    "x_oot = df_tmp.copy()\n",
    "x_oot.shape"
   ]
  },
  {
   "cell_type": "code",
   "execution_count": 19,
   "metadata": {},
   "outputs": [
    {
     "data": {
      "text/plain": [
       "(5922, (87292,), 0.06784126838656464, 13.740290442418102)"
      ]
     },
     "execution_count": 19,
     "metadata": {},
     "output_type": "execute_result"
    }
   ],
   "source": [
    "sum(y_oot), y_oot.shape, y_oot.mean(), y_oot[y_oot==0].shape[0]/y_oot.sum()"
   ]
  },
  {
   "cell_type": "code",
   "execution_count": 21,
   "metadata": {
    "scrolled": true
   },
   "outputs": [
    {
     "name": "stdout",
     "output_type": "stream",
     "text": [
      "Accuracy Score: 0.83 \n",
      "\n",
      "Confusion Matrix:\n",
      "        pred:0  pred:1\n",
      "true:0   68656   12714\n",
      "true:1    2193    3729 \n",
      "\n",
      "False Positive Rate: 0.16\n",
      "True Positive Rate: 0.63\n",
      "AUC: 0.74 \n",
      "\n",
      "Sensitivity: 0.63\n",
      "Specificity: 0.84 \n",
      "\n",
      "F1 Score: 0.33 \n",
      "\n",
      "KS Score:\n",
      "KstestResult(statistic=0.12052650872932225, pvalue=0.0) \n",
      "\n",
      "Classification Report:\n",
      "              precision    recall  f1-score   support\n",
      "\n",
      "           0       0.97      0.84      0.90     81370\n",
      "           1       0.23      0.63      0.33      5922\n",
      "\n",
      "    accuracy                           0.83     87292\n",
      "   macro avg       0.60      0.74      0.62     87292\n",
      "weighted avg       0.92      0.83      0.86     87292\n",
      "\n",
      "Gain Chart\n"
     ]
    },
    {
     "data": {
      "image/png": "[encoded data removed]",
      "text/plain": [
       "<Figure size 720x432 with 1 Axes>"
      ]
     },
     "metadata": {
      "needs_background": "light"
     },
     "output_type": "display_data"
    },
    {
     "name": "stdout",
     "output_type": "stream",
     "text": [
      "Lift Chart\n"
     ]
    },
    {
     "data": {
      "image/png": "[encoded data removed]",
      "text/plain": [
       "<Figure size 720x432 with 1 Axes>"
      ]
     },
     "metadata": {
      "needs_background": "light"
     },
     "output_type": "display_data"
    }
   ],
   "source": [
    "y_pred = xgb_model.predict(x_oot[top_features])\n",
    "predicted_probas = xgb_model.predict_proba(x_oot[top_features])\n",
    "model_metrics(y_pred, y_oot, predicted_probas)"
   ]
  },
  {
   "cell_type": "code",
   "execution_count": 22,
   "metadata": {
    "scrolled": true
   },
   "outputs": [
    {
     "data": {
      "text/html": [
       "<div>\n",
       "<style scoped>\n",
       "    .dataframe tbody tr th:only-of-type {\n",
       "        vertical-align: middle;\n",
       "    }\n",
       "\n",
       "    .dataframe tbody tr th {\n",
       "        vertical-align: top;\n",
       "    }\n",
       "\n",
       "    .dataframe thead th {\n",
       "        text-align: right;\n",
       "    }\n",
       "</style>\n",
       "<table border=\"1\" class=\"dataframe\">\n",
       "  <thead>\n",
       "    <tr style=\"text-align: right;\">\n",
       "      <th></th>\n",
       "      <th>ns_flag</th>\n",
       "      <th>volume</th>\n",
       "      <th>volume%</th>\n",
       "    </tr>\n",
       "    <tr>\n",
       "      <th>DecileRank</th>\n",
       "      <th></th>\n",
       "      <th></th>\n",
       "      <th></th>\n",
       "    </tr>\n",
       "  </thead>\n",
       "  <tbody>\n",
       "    <tr>\n",
       "      <th>(0.0, 0.2]</th>\n",
       "      <td>0.011407</td>\n",
       "      <td>37784</td>\n",
       "      <td>0.43</td>\n",
       "    </tr>\n",
       "    <tr>\n",
       "      <th>(0.2, 0.4]</th>\n",
       "      <td>0.042332</td>\n",
       "      <td>25300</td>\n",
       "      <td>0.29</td>\n",
       "    </tr>\n",
       "    <tr>\n",
       "      <th>(0.4, 0.6]</th>\n",
       "      <td>0.110166</td>\n",
       "      <td>14115</td>\n",
       "      <td>0.16</td>\n",
       "    </tr>\n",
       "    <tr>\n",
       "      <th>(0.6, 0.8]</th>\n",
       "      <td>0.246870</td>\n",
       "      <td>8227</td>\n",
       "      <td>0.09</td>\n",
       "    </tr>\n",
       "    <tr>\n",
       "      <th>(0.8, 1.0]</th>\n",
       "      <td>0.446945</td>\n",
       "      <td>1866</td>\n",
       "      <td>0.02</td>\n",
       "    </tr>\n",
       "  </tbody>\n",
       "</table>\n",
       "</div>"
      ],
      "text/plain": [
       "             ns_flag  volume  volume%\n",
       "DecileRank                           \n",
       "(0.0, 0.2]  0.011407   37784     0.43\n",
       "(0.2, 0.4]  0.042332   25300     0.29\n",
       "(0.4, 0.6]  0.110166   14115     0.16\n",
       "(0.6, 0.8]  0.246870    8227     0.09\n",
       "(0.8, 1.0]  0.446945    1866     0.02"
      ]
     },
     "execution_count": 22,
     "metadata": {},
     "output_type": "execute_result"
    }
   ],
   "source": [
    "x_oot.reset_index(drop=True,inplace=True)\n",
    "y_oot.reset_index(drop=True,inplace=True)\n",
    "\n",
    "df_oot = x_oot.copy()\n",
    "df_oot['ns_flag'] = y_oot\n",
    "df_oot['proba'] = xgb_model.predict_proba(x_oot[top_features])[:,1:].flatten()\n",
    "\n",
    "# custom_bins = [0,0.1,0.2,0.3,0.4,0.5,0.6,0.7,0.8,0.9,1]\n",
    "custom_bins = [0,0.2,0.4,0.6,0.8,1]\n",
    "\n",
    "df_oot['proba'] = np.round(df_oot['proba'], 3)\n",
    "df_oot['DecileRank']= pd.cut(df_oot['proba'], bins=custom_bins)\n",
    "df_stats = pd.DataFrame(df_oot.groupby(by='DecileRank')['ns_flag'].mean())\n",
    "df_stats['volume'] = df_oot.groupby(by='DecileRank')['ns_flag'].count()\n",
    "df_stats['volume%'] = np.round((df_stats['volume'] / df_stats['volume'].sum()), 2)\n",
    "df_stats"
   ]
  },
  {
   "cell_type": "code",
   "execution_count": 23,
   "metadata": {},
   "outputs": [
    {
     "data": {
      "text/plain": [
       "(87292, 398)"
      ]
     },
     "execution_count": 23,
     "metadata": {},
     "output_type": "execute_result"
    }
   ],
   "source": [
    "x_oot.shape"
   ]
  },
  {
   "cell_type": "code",
   "execution_count": 24,
   "metadata": {},
   "outputs": [],
   "source": [
    "# df_stats.to_csv(project_path+'rough.csv')"
   ]
  },
  {
   "cell_type": "code",
   "execution_count": 32,
   "metadata": {},
   "outputs": [],
   "source": [
    "x_train_final = pd.concat([x_train[['application_id']], pd.DataFrame(predicted_probas[:,1], columns=['nsl_v2_prob'])]\n",
    "                         ,axis=1)"
   ]
  },
  {
   "cell_type": "code",
   "execution_count": 34,
   "metadata": {},
   "outputs": [
    {
     "data": {
      "text/plain": [
       "(87292, 87292, (87292, 2))"
      ]
     },
     "execution_count": 34,
     "metadata": {},
     "output_type": "execute_result"
    }
   ],
   "source": [
    "x_train.shape[0], x_train_final.shape[0], predicted_probas.shape"
   ]
  },
  {
   "cell_type": "code",
   "execution_count": 35,
   "metadata": {},
   "outputs": [],
   "source": [
    "# x_train_final.to_csv(project_path+'results/train_model_output.csv')"
   ]
  },
  {
   "cell_type": "code",
   "execution_count": null,
   "metadata": {},
   "outputs": [],
   "source": []
  },
  {
   "cell_type": "markdown",
   "metadata": {},
   "source": [
    "### Test Data"
   ]
  },
  {
   "cell_type": "code",
   "execution_count": 36,
   "metadata": {},
   "outputs": [],
   "source": [
    "oot_df = x_test.copy()\n",
    "y_oot = y_test.copy()\n",
    "\n",
    "# Adding segment test data\n",
    "segment_oot = app_level_data_oot.copy()\n",
    "# oot_df = pd.merge(oot_df, segment_oot, on='application_id', how='inner')\n",
    "x_oot = oot_df[raw_features]\n",
    "\n",
    "# convert all string features to lowercase\n",
    "string_features = ['email_domain',\n",
    " 'purpose_of_account',\n",
    "#  'current_bank',\n",
    " 'industry_category_name',\n",
    " 'business_type',\n",
    " 'business_address_city',\n",
    " 'business_address_state',\n",
    " 'website']+cat_columns+socure_reason_cols\n",
    "\n",
    "for col in string_features:\n",
    "    x_oot[col] = x_oot[col].str.lower()"
   ]
  },
  {
   "cell_type": "code",
   "execution_count": 37,
   "metadata": {},
   "outputs": [
    {
     "data": {
      "text/plain": [
       "(37411, 398)"
      ]
     },
     "execution_count": 37,
     "metadata": {},
     "output_type": "execute_result"
    }
   ],
   "source": [
    "x_oot = convert_nulls_to_one_format(df=x_oot)\n",
    "df_impute_apps = pd.read_pickle(project_path+'models/df_impute_apps.pkl')\n",
    "df_impute = pd.read_pickle(project_path+'models/df_impute.pkl')\n",
    "x_oot = fill_null_values(df_impute_apps, x_oot)\n",
    "x_oot = fill_null_values(df_impute, x_oot)\n",
    "\n",
    "x_oot = feature_engineering_app(df=x_oot)\n",
    "x_oot = feature_engineering_alloy(df=x_oot, training=False)\n",
    "\n",
    "# Removing reason code features as these are already encoded\n",
    "x_oot.drop(columns=ida_reason_cols+socure_reason_cols, inplace=True)\n",
    "\n",
    "# Encoding the categories\n",
    "x_object_cols = x_oot[independent_features_alloy_tmp].select_dtypes(include=['object']).columns.to_list()\n",
    "x_object_cols = x_object_cols+['industry_category_name']\n",
    "\n",
    "x_object_onehot = pd.get_dummies(x_oot[x_object_cols]) # create dummies\n",
    "x_object_onehot = x_object_onehot.astype('int')\n",
    "x_oot = pd.concat([x_oot.drop(columns=x_object_cols), x_object_onehot], axis=1)\n",
    "x_oot.columns= x_oot.columns.str.lower() # convert column names to lower case\n",
    "\n",
    "\n",
    "# Filter the final independent features\n",
    "train_cols = pd.read_pickle(project_path+'models/train_data_columns.pkl')['feature'].to_list()\n",
    "df_tmp = pd.DataFrame(index=range(x_oot.shape[0]),columns=train_cols)\n",
    "df_tmp = df_tmp.fillna(0)\n",
    "df_tmp.update(x_oot)\n",
    "x_oot = df_tmp.copy()\n",
    "x_oot.shape"
   ]
  },
  {
   "cell_type": "code",
   "execution_count": 38,
   "metadata": {},
   "outputs": [
    {
     "data": {
      "text/plain": [
       "(2582, (37411,), 0.06901713399802198, 13.489155693261038)"
      ]
     },
     "execution_count": 38,
     "metadata": {},
     "output_type": "execute_result"
    }
   ],
   "source": [
    "sum(y_oot), y_oot.shape, y_oot.mean(), y_oot[y_oot==0].shape[0]/y_oot.sum()"
   ]
  },
  {
   "cell_type": "code",
   "execution_count": 39,
   "metadata": {
    "scrolled": true
   },
   "outputs": [
    {
     "name": "stdout",
     "output_type": "stream",
     "text": [
      "Accuracy Score: 0.82 \n",
      "\n",
      "Confusion Matrix:\n",
      "        pred:0  pred:1\n",
      "true:0   29340    5489\n",
      "true:1    1095    1487 \n",
      "\n",
      "False Positive Rate: 0.16\n",
      "True Positive Rate: 0.58\n",
      "AUC: 0.71 \n",
      "\n",
      "Sensitivity: 0.58\n",
      "Specificity: 0.84 \n",
      "\n",
      "F1 Score: 0.31 \n",
      "\n",
      "KS Score:\n",
      "KstestResult(statistic=0.11745208628478254, pvalue=2.7461103618214243e-225) \n",
      "\n",
      "Classification Report:\n",
      "              precision    recall  f1-score   support\n",
      "\n",
      "           0       0.96      0.84      0.90     34829\n",
      "           1       0.21      0.58      0.31      2582\n",
      "\n",
      "    accuracy                           0.82     37411\n",
      "   macro avg       0.59      0.71      0.61     37411\n",
      "weighted avg       0.91      0.82      0.86     37411\n",
      "\n",
      "Gain Chart\n"
     ]
    },
    {
     "data": {
      "image/png": "[encoded data removed]",
      "text/plain": [
       "<Figure size 720x432 with 1 Axes>"
      ]
     },
     "metadata": {
      "needs_background": "light"
     },
     "output_type": "display_data"
    },
    {
     "name": "stdout",
     "output_type": "stream",
     "text": [
      "Lift Chart\n"
     ]
    },
    {
     "data": {
      "image/png": "[encoded data removed]",
      "text/plain": [
       "<Figure size 720x432 with 1 Axes>"
      ]
     },
     "metadata": {
      "needs_background": "light"
     },
     "output_type": "display_data"
    }
   ],
   "source": [
    "y_pred = xgb_model.predict(x_oot[top_features])\n",
    "predicted_probas = xgb_model.predict_proba(x_oot[top_features])\n",
    "model_metrics(y_pred, y_oot, predicted_probas)"
   ]
  },
  {
   "cell_type": "code",
   "execution_count": 40,
   "metadata": {},
   "outputs": [
    {
     "data": {
      "text/html": [
       "<div>\n",
       "<style scoped>\n",
       "    .dataframe tbody tr th:only-of-type {\n",
       "        vertical-align: middle;\n",
       "    }\n",
       "\n",
       "    .dataframe tbody tr th {\n",
       "        vertical-align: top;\n",
       "    }\n",
       "\n",
       "    .dataframe thead th {\n",
       "        text-align: right;\n",
       "    }\n",
       "</style>\n",
       "<table border=\"1\" class=\"dataframe\">\n",
       "  <thead>\n",
       "    <tr style=\"text-align: right;\">\n",
       "      <th></th>\n",
       "      <th>ns_flag</th>\n",
       "      <th>volume</th>\n",
       "      <th>volume%</th>\n",
       "    </tr>\n",
       "    <tr>\n",
       "      <th>DecileRank</th>\n",
       "      <th></th>\n",
       "      <th></th>\n",
       "      <th></th>\n",
       "    </tr>\n",
       "  </thead>\n",
       "  <tbody>\n",
       "    <tr>\n",
       "      <th>(0.0, 0.2]</th>\n",
       "      <td>0.017369</td>\n",
       "      <td>16351</td>\n",
       "      <td>0.44</td>\n",
       "    </tr>\n",
       "    <tr>\n",
       "      <th>(0.2, 0.4]</th>\n",
       "      <td>0.046438</td>\n",
       "      <td>10810</td>\n",
       "      <td>0.29</td>\n",
       "    </tr>\n",
       "    <tr>\n",
       "      <th>(0.4, 0.6]</th>\n",
       "      <td>0.110708</td>\n",
       "      <td>6061</td>\n",
       "      <td>0.16</td>\n",
       "    </tr>\n",
       "    <tr>\n",
       "      <th>(0.6, 0.8]</th>\n",
       "      <td>0.237420</td>\n",
       "      <td>3458</td>\n",
       "      <td>0.09</td>\n",
       "    </tr>\n",
       "    <tr>\n",
       "      <th>(0.8, 1.0]</th>\n",
       "      <td>0.415869</td>\n",
       "      <td>731</td>\n",
       "      <td>0.02</td>\n",
       "    </tr>\n",
       "  </tbody>\n",
       "</table>\n",
       "</div>"
      ],
      "text/plain": [
       "             ns_flag  volume  volume%\n",
       "DecileRank                           \n",
       "(0.0, 0.2]  0.017369   16351     0.44\n",
       "(0.2, 0.4]  0.046438   10810     0.29\n",
       "(0.4, 0.6]  0.110708    6061     0.16\n",
       "(0.6, 0.8]  0.237420    3458     0.09\n",
       "(0.8, 1.0]  0.415869     731     0.02"
      ]
     },
     "execution_count": 40,
     "metadata": {},
     "output_type": "execute_result"
    }
   ],
   "source": [
    "x_oot.reset_index(drop=True,inplace=True)\n",
    "y_oot.reset_index(drop=True,inplace=True)\n",
    "\n",
    "df_oot = x_oot.copy()\n",
    "df_oot['ns_flag'] = y_oot\n",
    "df_oot['proba'] = xgb_model.predict_proba(x_oot[top_features])[:,1:].flatten()\n",
    "\n",
    "# custom_bins = [0,0.1,0.2,0.3,0.4,0.5,0.6,0.7,0.8,0.9,1]\n",
    "custom_bins = [0,0.2,0.4,0.6,0.8,1]\n",
    "df_oot['proba'] = np.round(df_oot['proba'], 3)\n",
    "df_oot['DecileRank']= pd.cut(df_oot['proba'], bins=custom_bins)\n",
    "df_stats = pd.DataFrame(df_oot.groupby(by='DecileRank')['ns_flag'].mean())\n",
    "df_stats['volume'] = df_oot.groupby(by='DecileRank')['ns_flag'].count()\n",
    "df_stats['volume%'] = np.round((df_stats['volume'] / df_stats['volume'].sum()), 2)\n",
    "df_stats"
   ]
  },
  {
   "cell_type": "code",
   "execution_count": 41,
   "metadata": {},
   "outputs": [],
   "source": [
    "# df_stats.to_csv(project_path+'rough.csv')"
   ]
  },
  {
   "cell_type": "code",
   "execution_count": null,
   "metadata": {},
   "outputs": [],
   "source": []
  },
  {
   "cell_type": "code",
   "execution_count": 42,
   "metadata": {},
   "outputs": [],
   "source": [
    "x_test_final = pd.concat([x_test[['application_id']], pd.DataFrame(predicted_probas[:,1], columns=['nsl_v2_prob'])]\n",
    "                         ,axis=1)"
   ]
  },
  {
   "cell_type": "code",
   "execution_count": 43,
   "metadata": {},
   "outputs": [
    {
     "data": {
      "text/plain": [
       "(37411, 37411, (37411, 2))"
      ]
     },
     "execution_count": 43,
     "metadata": {},
     "output_type": "execute_result"
    }
   ],
   "source": [
    "x_test.shape[0], x_test_final.shape[0], predicted_probas.shape"
   ]
  },
  {
   "cell_type": "code",
   "execution_count": 44,
   "metadata": {},
   "outputs": [],
   "source": [
    "# x_test_final.to_csv(project_path+'results/test_model_output.csv')"
   ]
  },
  {
   "cell_type": "code",
   "execution_count": null,
   "metadata": {},
   "outputs": [],
   "source": []
  },
  {
   "cell_type": "code",
   "execution_count": null,
   "metadata": {},
   "outputs": [],
   "source": []
  },
  {
   "cell_type": "code",
   "execution_count": null,
   "metadata": {},
   "outputs": [],
   "source": []
  },
  {
   "cell_type": "code",
   "execution_count": 116,
   "metadata": {},
   "outputs": [
    {
     "data": {
      "text/html": [
       "<div>\n",
       "<style scoped>\n",
       "    .dataframe tbody tr th:only-of-type {\n",
       "        vertical-align: middle;\n",
       "    }\n",
       "\n",
       "    .dataframe tbody tr th {\n",
       "        vertical-align: top;\n",
       "    }\n",
       "\n",
       "    .dataframe thead th {\n",
       "        text-align: right;\n",
       "    }\n",
       "</style>\n",
       "<table border=\"1\" class=\"dataframe\">\n",
       "  <thead>\n",
       "    <tr style=\"text-align: right;\">\n",
       "      <th></th>\n",
       "      <th>feature</th>\n",
       "      <th>importance</th>\n",
       "    </tr>\n",
       "  </thead>\n",
       "  <tbody>\n",
       "    <tr>\n",
       "      <th>0</th>\n",
       "      <td>estimated_monthly_revenue</td>\n",
       "      <td>0.313510</td>\n",
       "    </tr>\n",
       "    <tr>\n",
       "      <th>1</th>\n",
       "      <td>incoming_ach_payments</td>\n",
       "      <td>0.064501</td>\n",
       "    </tr>\n",
       "    <tr>\n",
       "      <th>2</th>\n",
       "      <td>iovation_device_type_mac</td>\n",
       "      <td>0.046009</td>\n",
       "    </tr>\n",
       "    <tr>\n",
       "      <th>3</th>\n",
       "      <td>industry_category_name_professional, scientifi...</td>\n",
       "      <td>0.044626</td>\n",
       "    </tr>\n",
       "    <tr>\n",
       "      <th>4</th>\n",
       "      <td>outgoing_ach_and_checks</td>\n",
       "      <td>0.043296</td>\n",
       "    </tr>\n",
       "    <tr>\n",
       "      <th>5</th>\n",
       "      <td>business_group</td>\n",
       "      <td>0.034980</td>\n",
       "    </tr>\n",
       "    <tr>\n",
       "      <th>6</th>\n",
       "      <td>screen_width_mean</td>\n",
       "      <td>0.034836</td>\n",
       "    </tr>\n",
       "    <tr>\n",
       "      <th>7</th>\n",
       "      <td>socure_emailrisk_reason_code_i566</td>\n",
       "      <td>0.034162</td>\n",
       "    </tr>\n",
       "    <tr>\n",
       "      <th>8</th>\n",
       "      <td>industry_category_name_retail trade</td>\n",
       "      <td>0.027717</td>\n",
       "    </tr>\n",
       "    <tr>\n",
       "      <th>9</th>\n",
       "      <td>sh_sw_ratio_mean</td>\n",
       "      <td>0.026858</td>\n",
       "    </tr>\n",
       "    <tr>\n",
       "      <th>10</th>\n",
       "      <td>socure_emailrisk_reason_code_i553</td>\n",
       "      <td>0.025355</td>\n",
       "    </tr>\n",
       "    <tr>\n",
       "      <th>11</th>\n",
       "      <td>socure_emailrisk</td>\n",
       "      <td>0.024838</td>\n",
       "    </tr>\n",
       "    <tr>\n",
       "      <th>12</th>\n",
       "      <td>socure_sigma</td>\n",
       "      <td>0.023571</td>\n",
       "    </tr>\n",
       "    <tr>\n",
       "      <th>13</th>\n",
       "      <td>outgoing_wire_transfers</td>\n",
       "      <td>0.023399</td>\n",
       "    </tr>\n",
       "    <tr>\n",
       "      <th>14</th>\n",
       "      <td>socure_emailrisk_reason_code_r561</td>\n",
       "      <td>0.022503</td>\n",
       "    </tr>\n",
       "    <tr>\n",
       "      <th>15</th>\n",
       "      <td>iovation_device_type_android</td>\n",
       "      <td>0.021412</td>\n",
       "    </tr>\n",
       "    <tr>\n",
       "      <th>16</th>\n",
       "      <td>industry_category_name_real estate rental and ...</td>\n",
       "      <td>0.021350</td>\n",
       "    </tr>\n",
       "    <tr>\n",
       "      <th>17</th>\n",
       "      <td>check_deposit_amount</td>\n",
       "      <td>0.019578</td>\n",
       "    </tr>\n",
       "    <tr>\n",
       "      <th>18</th>\n",
       "      <td>socure_phonerisk_reason_code_i630</td>\n",
       "      <td>0.018651</td>\n",
       "    </tr>\n",
       "    <tr>\n",
       "      <th>19</th>\n",
       "      <td>socure_phonerisk</td>\n",
       "      <td>0.016727</td>\n",
       "    </tr>\n",
       "    <tr>\n",
       "      <th>20</th>\n",
       "      <td>socure_reason_code_r207</td>\n",
       "      <td>0.016271</td>\n",
       "    </tr>\n",
       "    <tr>\n",
       "      <th>21</th>\n",
       "      <td>email_domain_bucket</td>\n",
       "      <td>0.012033</td>\n",
       "    </tr>\n",
       "    <tr>\n",
       "      <th>22</th>\n",
       "      <td>socure_phonerisk_reason_code_i614</td>\n",
       "      <td>0.011785</td>\n",
       "    </tr>\n",
       "    <tr>\n",
       "      <th>23</th>\n",
       "      <td>iovation_device_timezone_480</td>\n",
       "      <td>0.011739</td>\n",
       "    </tr>\n",
       "    <tr>\n",
       "      <th>24</th>\n",
       "      <td>incoming_wire_transfer</td>\n",
       "      <td>0.011656</td>\n",
       "    </tr>\n",
       "    <tr>\n",
       "      <th>25</th>\n",
       "      <td>socure_phonerisk_reason_code_r616</td>\n",
       "      <td>0.011306</td>\n",
       "    </tr>\n",
       "    <tr>\n",
       "      <th>26</th>\n",
       "      <td>industry_category_name_administrative and supp...</td>\n",
       "      <td>0.010872</td>\n",
       "    </tr>\n",
       "    <tr>\n",
       "      <th>27</th>\n",
       "      <td>carrier_tmobile</td>\n",
       "      <td>0.010543</td>\n",
       "    </tr>\n",
       "    <tr>\n",
       "      <th>28</th>\n",
       "      <td>socure_phonerisk_reason_code_r639</td>\n",
       "      <td>0.008368</td>\n",
       "    </tr>\n",
       "    <tr>\n",
       "      <th>29</th>\n",
       "      <td>industry_category_name_health care and social ...</td>\n",
       "      <td>0.007549</td>\n",
       "    </tr>\n",
       "  </tbody>\n",
       "</table>\n",
       "</div>"
      ],
      "text/plain": [
       "                                              feature  importance\n",
       "0                           estimated_monthly_revenue    0.313510\n",
       "1                               incoming_ach_payments    0.064501\n",
       "2                            iovation_device_type_mac    0.046009\n",
       "3   industry_category_name_professional, scientifi...    0.044626\n",
       "4                             outgoing_ach_and_checks    0.043296\n",
       "5                                      business_group    0.034980\n",
       "6                                   screen_width_mean    0.034836\n",
       "7                   socure_emailrisk_reason_code_i566    0.034162\n",
       "8                 industry_category_name_retail trade    0.027717\n",
       "9                                    sh_sw_ratio_mean    0.026858\n",
       "10                  socure_emailrisk_reason_code_i553    0.025355\n",
       "11                                   socure_emailrisk    0.024838\n",
       "12                                       socure_sigma    0.023571\n",
       "13                            outgoing_wire_transfers    0.023399\n",
       "14                  socure_emailrisk_reason_code_r561    0.022503\n",
       "15                       iovation_device_type_android    0.021412\n",
       "16  industry_category_name_real estate rental and ...    0.021350\n",
       "17                               check_deposit_amount    0.019578\n",
       "18                  socure_phonerisk_reason_code_i630    0.018651\n",
       "19                                   socure_phonerisk    0.016727\n",
       "20                            socure_reason_code_r207    0.016271\n",
       "21                                email_domain_bucket    0.012033\n",
       "22                  socure_phonerisk_reason_code_i614    0.011785\n",
       "23                       iovation_device_timezone_480    0.011739\n",
       "24                             incoming_wire_transfer    0.011656\n",
       "25                  socure_phonerisk_reason_code_r616    0.011306\n",
       "26  industry_category_name_administrative and supp...    0.010872\n",
       "27                                    carrier_tmobile    0.010543\n",
       "28                  socure_phonerisk_reason_code_r639    0.008368\n",
       "29  industry_category_name_health care and social ...    0.007549"
      ]
     },
     "execution_count": 116,
     "metadata": {},
     "output_type": "execute_result"
    }
   ],
   "source": [
    "feature_imp_df = pd.DataFrame(zip(top_features, xgb_model.feature_importances_), columns=['feature','importance'])\n",
    "feature_imp_df = feature_imp_df.sort_values(by=['importance'], ascending=False).reset_index(drop=True)\n",
    "# feature_imp_df[feature_imp_df.importance>=0.005]\n",
    "feature_imp_df\n"
   ]
  },
  {
   "cell_type": "code",
   "execution_count": 117,
   "metadata": {},
   "outputs": [],
   "source": [
    "# feature_imp_df.to_csv(project_path+'rough.csv')"
   ]
  },
  {
   "cell_type": "code",
   "execution_count": null,
   "metadata": {},
   "outputs": [],
   "source": []
  },
  {
   "cell_type": "code",
   "execution_count": null,
   "metadata": {},
   "outputs": [],
   "source": []
  },
  {
   "cell_type": "code",
   "execution_count": null,
   "metadata": {},
   "outputs": [],
   "source": []
  },
  {
   "cell_type": "code",
   "execution_count": null,
   "metadata": {},
   "outputs": [],
   "source": []
  },
  {
   "cell_type": "code",
   "execution_count": null,
   "metadata": {},
   "outputs": [],
   "source": []
  },
  {
   "cell_type": "code",
   "execution_count": null,
   "metadata": {},
   "outputs": [],
   "source": []
  },
  {
   "cell_type": "code",
   "execution_count": null,
   "metadata": {},
   "outputs": [],
   "source": []
  },
  {
   "cell_type": "code",
   "execution_count": null,
   "metadata": {},
   "outputs": [],
   "source": []
  },
  {
   "cell_type": "code",
   "execution_count": null,
   "metadata": {},
   "outputs": [],
   "source": []
  },
  {
   "cell_type": "code",
   "execution_count": 166,
   "metadata": {},
   "outputs": [
    {
     "data": {
      "text/plain": [
       "(20028, 12413, 8654)"
      ]
     },
     "execution_count": 166,
     "metadata": {},
     "output_type": "execute_result"
    }
   ],
   "source": [
    "df_raw_app[df_raw_app.total_deposit>=5000].shape[0], df_raw_app[df_raw_app.total_deposit>=10000].shape[0], df_raw_app[df_raw_app.total_deposit>=15000].shape[0]\n"
   ]
  },
  {
   "cell_type": "code",
   "execution_count": 169,
   "metadata": {},
   "outputs": [
    {
     "data": {
      "text/plain": [
       "(0.15707003372284525, 0.09734922751156772, 0.06786918673045252)"
      ]
     },
     "execution_count": 169,
     "metadata": {},
     "output_type": "execute_result"
    }
   ],
   "source": [
    "df_raw_app[df_raw_app.total_deposit>=5000].shape[0]/df_raw_app.shape[0], df_raw_app[df_raw_app.total_deposit>=10000].shape[0]/df_raw_app.shape[0], df_raw_app[df_raw_app.total_deposit>=15000].shape[0]/df_raw_app.shape[0]\n"
   ]
  },
  {
   "cell_type": "code",
   "execution_count": 170,
   "metadata": {},
   "outputs": [
    {
     "data": {
      "text/plain": [
       "(127510, 163)"
      ]
     },
     "execution_count": 170,
     "metadata": {},
     "output_type": "execute_result"
    }
   ],
   "source": [
    "df_raw_app.shape"
   ]
  },
  {
   "cell_type": "code",
   "execution_count": null,
   "metadata": {},
   "outputs": [],
   "source": []
  },
  {
   "cell_type": "code",
   "execution_count": null,
   "metadata": {},
   "outputs": [],
   "source": []
  },
  {
   "cell_type": "code",
   "execution_count": null,
   "metadata": {},
   "outputs": [],
   "source": []
  },
  {
   "cell_type": "code",
   "execution_count": null,
   "metadata": {},
   "outputs": [],
   "source": []
  },
  {
   "cell_type": "code",
   "execution_count": null,
   "metadata": {},
   "outputs": [],
   "source": []
  },
  {
   "cell_type": "code",
   "execution_count": null,
   "metadata": {},
   "outputs": [],
   "source": []
  },
  {
   "cell_type": "code",
   "execution_count": null,
   "metadata": {},
   "outputs": [],
   "source": []
  },
  {
   "cell_type": "markdown",
   "metadata": {},
   "source": [
    "#### Plot Precision vs Recall"
   ]
  },
  {
   "cell_type": "code",
   "execution_count": null,
   "metadata": {},
   "outputs": [],
   "source": [
    "def precision_recall_threshold_plot(y_true:np.array, yhat:np.array, thresholds:list):\n",
    "    # keep probabilities for the positive outcome only\n",
    "    precision_vals = []\n",
    "    recall_vals = []\n",
    "    for threshold in thresholds:\n",
    "        yhat2 = []\n",
    "        for val in yhat:\n",
    "            if val>=threshold:\n",
    "                yhat2.append(1)\n",
    "            else:\n",
    "                yhat2.append(0)\n",
    "        yhat2 = np.array(yhat2)    \n",
    "        pr = precision_score(y_true, yhat2, average='binary')\n",
    "        rec = recall_score(y_true, yhat2, average='binary')\n",
    "        roc_auc = roc_auc_score(y_true, yhat2, average=None)\n",
    "        \n",
    "        print('threshold:', threshold, ' predicted:', sum(yhat2), ' pred NS Rate:', np.round(yhat2.mean(),3),\n",
    "             ' precision:', np.round(pr,3), ' recall:',np.round(rec,3), ' auc:',np.round(roc_auc,3))\n",
    "        precision_vals.append(pr)\n",
    "        recall_vals.append(rec)\n",
    "\n",
    "    plt.figure(figsize=(5,5))\n",
    "    # plot the roc curve for the model\n",
    "    pyplot.plot(precision_vals, recall_vals, marker='.')\n",
    "    # axis labels\n",
    "    pyplot.xlabel('Precision')\n",
    "    pyplot.ylabel('Recall')\n",
    "    pyplot.grid(True)\n",
    "    pyplot.show()\n"
   ]
  },
  {
   "cell_type": "code",
   "execution_count": null,
   "metadata": {
    "scrolled": true
   },
   "outputs": [],
   "source": [
    "# predict probabilities\n",
    "# non-sp = 1\n",
    "x_data = x_train.copy()\n",
    "y_data = y_train.copy()\n",
    "yhat = tuned_model.predict_proba(x_data[x_data.business_group==1])[:,1:].flatten()\n",
    "y_true = y_data[y_data.index.isin(x_data[x_data.business_group==1].index.to_list())]\n",
    "thresholds = [0.1,0.2,0.3,0.4,0.5,0.6,0.7,0.8,0.9]\n",
    "\n",
    "print('Data Size:',y_true.shape[0],' True DS NS:',sum(y_true))    \n",
    "precision_recall_threshold_plot(y_true=y_true, yhat=yhat, thresholds=thresholds)\n"
   ]
  },
  {
   "cell_type": "code",
   "execution_count": null,
   "metadata": {
    "scrolled": true
   },
   "outputs": [],
   "source": [
    "# predict probabilities\n",
    "# non-sp = 1\n",
    "x_data = x_test.copy()\n",
    "y_data = y_test.copy()\n",
    "yhat = tuned_model.predict_proba(x_data[x_data.business_group==1])[:,1:].flatten()\n",
    "y_true = y_data[y_data.index.isin(x_data[x_data.business_group==1].index.to_list())]\n",
    "thresholds = [0.1,0.2,0.3,0.4,0.5,0.6,0.7,0.8,0.9]\n",
    "precision_recall_threshold_plot(y_true=y_true, yhat=yhat, thresholds=thresholds)"
   ]
  },
  {
   "cell_type": "code",
   "execution_count": null,
   "metadata": {
    "scrolled": true
   },
   "outputs": [],
   "source": [
    "# predict probabilities\n",
    "# non-sp = 1\n",
    "x_data = x_oot.copy()\n",
    "y_data = y_oot.copy()\n",
    "yhat = tuned_model.predict_proba(x_data[x_data.business_group==1])[:,1:].flatten()\n",
    "y_true = y_data[y_data.index.isin(x_data[x_data.business_group==1].index.to_list())]\n",
    "thresholds = [0.1,0.2,0.3,0.4,0.5,0.6,0.7,0.8,0.9]\n",
    "precision_recall_threshold_plot(y_true=y_true, yhat=yhat, thresholds=thresholds)"
   ]
  },
  {
   "cell_type": "code",
   "execution_count": null,
   "metadata": {},
   "outputs": [],
   "source": []
  },
  {
   "cell_type": "code",
   "execution_count": null,
   "metadata": {},
   "outputs": [],
   "source": []
  },
  {
   "cell_type": "code",
   "execution_count": null,
   "metadata": {
    "scrolled": true
   },
   "outputs": [],
   "source": [
    "# predict probabilities\n",
    "# sp = 0\n",
    "x_data = x_train.copy()\n",
    "y_data = y_train.copy()\n",
    "yhat = tuned_model.predict_proba(x_data[x_data.business_group==0])[:,1:].flatten()\n",
    "y_true = y_data[y_data.index.isin(x_data[x_data.business_group==0].index.to_list())]\n",
    "thresholds = [0.1,0.2,0.3,0.4,0.5,0.6,0.7,0.8,0.9]\n",
    "precision_recall_threshold_plot(y_true=y_true, yhat=yhat, thresholds=thresholds)"
   ]
  },
  {
   "cell_type": "code",
   "execution_count": null,
   "metadata": {
    "scrolled": true
   },
   "outputs": [],
   "source": [
    "# predict probabilities\n",
    "# sp = 0\n",
    "x_data = x_test.copy()\n",
    "y_data = y_test.copy()\n",
    "yhat = tuned_model.predict_proba(x_data[x_data.business_group==0])[:,1:].flatten()\n",
    "y_true = y_data[y_data.index.isin(x_data[x_data.business_group==0].index.to_list())]\n",
    "thresholds = [0.1,0.2,0.3,0.4,0.5,0.6,0.7,0.8,0.9]\n",
    "precision_recall_threshold_plot(y_true=y_true, yhat=yhat, thresholds=thresholds)"
   ]
  },
  {
   "cell_type": "code",
   "execution_count": null,
   "metadata": {
    "scrolled": true
   },
   "outputs": [],
   "source": [
    "# predict probabilities\n",
    "# sp = 0\n",
    "x_data = x_oot.copy()\n",
    "y_data = y_oot.copy()\n",
    "yhat = tuned_model.predict_proba(x_data[x_data.business_group==0])[:,1:].flatten()\n",
    "y_true = y_data[y_data.index.isin(x_data[x_data.business_group==0].index.to_list())]\n",
    "thresholds = [0.1,0.2,0.3,0.4,0.5,0.6,0.7,0.8,0.9]\n",
    "precision_recall_threshold_plot(y_true=y_true, yhat=yhat, thresholds=thresholds)"
   ]
  },
  {
   "cell_type": "code",
   "execution_count": null,
   "metadata": {},
   "outputs": [],
   "source": []
  },
  {
   "cell_type": "markdown",
   "metadata": {},
   "source": [
    "#### Feature Importance"
   ]
  },
  {
   "cell_type": "code",
   "execution_count": null,
   "metadata": {
    "scrolled": true
   },
   "outputs": [],
   "source": [
    "feature_imp_df = pd.DataFrame(zip(x_train.columns.to_list(), tuned_model.feature_importances_), columns=['feature','importance'])\n",
    "feature_imp_df = feature_imp_df.sort_values(by=['importance'], ascending=False).reset_index(drop=True)\n",
    "feature_imp_df[feature_imp_df.importance>=0.005]\n"
   ]
  },
  {
   "cell_type": "code",
   "execution_count": null,
   "metadata": {},
   "outputs": [],
   "source": [
    "feature_imp_df[feature_imp_df.importance>0].shape"
   ]
  },
  {
   "cell_type": "code",
   "execution_count": null,
   "metadata": {},
   "outputs": [],
   "source": [
    "# pd.DataFrame(x_train[raw_features_segment].corr()).to_csv(project_path+'segment_features_correlation.csv')"
   ]
  },
  {
   "cell_type": "code",
   "execution_count": null,
   "metadata": {
    "scrolled": true
   },
   "outputs": [],
   "source": [
    "plt.rcParams[\"figure.figsize\"] = (20,40)\n",
    "plot_importance(tuned_model, importance_type='total_gain')\n",
    "plt.show()"
   ]
  },
  {
   "cell_type": "markdown",
   "metadata": {},
   "source": [
    "#### Train rank ordering"
   ]
  },
  {
   "cell_type": "code",
   "execution_count": null,
   "metadata": {
    "scrolled": true
   },
   "outputs": [],
   "source": [
    "# train\n",
    "x_train.reset_index(drop=True,inplace=True)\n",
    "y_train.reset_index(drop=True,inplace=True)\n",
    "\n",
    "df_train = x_train.copy()\n",
    "df_train['ns_flag'] = y_train\n",
    "df_train['proba'] = tuned_model.predict_proba(x_train)[:,1:].flatten()\n",
    "\n",
    "# custom_bins = [0.0, 0.1, 0.2, 0.3, 0.4, 0.5, 0.6, 0.7, 0.8, 0.9, 1.0]\n",
    "custom_bins = [0.0, 0.2, 0.4, 0.6, 1.0]\n",
    "df_train['proba'] = np.round(df_train['proba'], 3)\n",
    "df_train['DecileRank']= pd.cut(df_train['proba'], bins=custom_bins)\n",
    "df_stats = pd.DataFrame(df_train.groupby(by='DecileRank')['ns_flag'].mean())\n",
    "df_stats['volume'] = df_train.groupby(by='DecileRank')['ns_flag'].count()\n",
    "df_stats['volume%'] = np.round((df_stats['volume'] / df_stats['volume'].sum())*100, 2)\n",
    "df_stats"
   ]
  },
  {
   "cell_type": "markdown",
   "metadata": {},
   "source": [
    "#### Test rank ordering"
   ]
  },
  {
   "cell_type": "code",
   "execution_count": null,
   "metadata": {},
   "outputs": [],
   "source": [
    "# test\n",
    "x_test.reset_index(drop=True,inplace=True)\n",
    "y_test.reset_index(drop=True,inplace=True)\n",
    "\n",
    "df_test = x_test.copy()\n",
    "df_test['ns_flag'] = y_test\n",
    "df_test['proba'] = tuned_model.predict_proba(x_test)[:,1:].flatten()\n",
    "\n",
    "df_test['proba'] = np.round(df_test['proba'], 3)\n",
    "df_test['DecileRank']= pd.cut(df_test['proba'], bins=custom_bins)\n",
    "df_stats = pd.DataFrame(df_test.groupby(by='DecileRank')['ns_flag'].mean())\n",
    "df_stats['volume'] = df_test.groupby(by='DecileRank')['ns_flag'].count()\n",
    "df_stats['volume%'] = np.round((df_stats['volume'] / df_stats['volume'].sum())*100, 2)\n",
    "df_stats"
   ]
  },
  {
   "cell_type": "markdown",
   "metadata": {},
   "source": [
    "#### OOT rank ordering"
   ]
  },
  {
   "cell_type": "code",
   "execution_count": null,
   "metadata": {},
   "outputs": [],
   "source": [
    "x_oot.reset_index(drop=True,inplace=True)\n",
    "y_oot.reset_index(drop=True,inplace=True)\n",
    "\n",
    "df_oot = x_oot.copy()\n",
    "df_oot['ns_flag'] = y_oot\n",
    "df_oot['proba'] = tuned_model.predict_proba(x_oot)[:,1:].flatten()\n",
    "\n",
    "df_oot['proba'] = np.round(df_oot['proba'], 3)\n",
    "df_oot['DecileRank']= pd.cut(df_oot['proba'], bins=custom_bins)\n",
    "df_stats = pd.DataFrame(df_oot.groupby(by='DecileRank')['ns_flag'].mean())\n",
    "df_stats['volume'] = df_oot.groupby(by='DecileRank')['ns_flag'].count()\n",
    "df_stats['volume%'] = np.round((df_stats['volume'] / df_stats['volume'].sum())*100, 2)\n",
    "df_stats"
   ]
  },
  {
   "cell_type": "markdown",
   "metadata": {},
   "source": [
    "#### Cross Validation"
   ]
  },
  {
   "cell_type": "code",
   "execution_count": null,
   "metadata": {},
   "outputs": [],
   "source": [
    "# cross_validation(tuned_model, x_train, y_train, scoring='roc_auc')"
   ]
  },
  {
   "cell_type": "code",
   "execution_count": null,
   "metadata": {
    "scrolled": true
   },
   "outputs": [],
   "source": [
    "# cross_validation(tuned_model, x_test, y_test, scoring='roc_auc')"
   ]
  },
  {
   "cell_type": "code",
   "execution_count": null,
   "metadata": {
    "scrolled": true
   },
   "outputs": [],
   "source": [
    "# tuned model - increasing class weight to 5 from 7\n",
    "top_features = feature_imp_df[:25]['feature'].to_list()\n",
    "x_tr = x_train[top_features]\n",
    "x_te = x_test[top_features]\n",
    "x_oo = x_oot[top_features]\n",
    "\n",
    "\n",
    "tuned_model6 = XGBClassifier(max_depth=3, colsample_bytree=1 ,subsample=1 ,scale_pos_weight=7 ,learning_rate=0.1 \n",
    "                            ,random_state=3)\n",
    "tuned_model6.fit(x_tr, y_train)\n",
    "\n",
    "print(\"TRAIN RESULTS:\\n\")\n",
    "y_pred = tuned_model6.predict(x_tr)\n",
    "predicted_probas = tuned_model6.predict_proba(x_tr)\n",
    "model_metrics(y_pred, y_train, predicted_probas)\n",
    "\n",
    "print(\"\\n\\nTEST RESULTS:\\n\")\n",
    "y_pred = tuned_model6.predict(x_te)\n",
    "predicted_probas = tuned_model6.predict_proba(x_te)\n",
    "model_metrics(y_pred, y_test, predicted_probas)\n",
    "\n",
    "print(\"\\n\\nOOT RESULTS:\\n\")\n",
    "y_pred = tuned_model6.predict(x_oo)\n",
    "predicted_probas = tuned_model6.predict_proba(x_oo)\n",
    "model_metrics(y_pred, y_oot, predicted_probas)"
   ]
  },
  {
   "cell_type": "code",
   "execution_count": null,
   "metadata": {},
   "outputs": [],
   "source": [
    "# tuned model - increasing class weight to 5 from 7\n",
    "top_features = feature_imp_df[:25]['feature'].to_list()\n",
    "x_tr = x_train[top_features]\n",
    "x_te = x_test[top_features]\n",
    "x_oo = x_oot[top_features]\n",
    "\n",
    "\n",
    "tuned_model6 = XGBClassifier(max_depth=3, colsample_bytree=1 ,subsample=1 ,scale_pos_weight=6 ,learning_rate=0.1 \n",
    "                            ,random_state=3)\n",
    "tuned_model6.fit(x_tr, y_train)\n",
    "\n",
    "print(\"TRAIN RESULTS:\\n\")\n",
    "y_pred = tuned_model6.predict(x_tr)\n",
    "predicted_probas = tuned_model6.predict_proba(x_tr)\n",
    "model_metrics(y_pred, y_train, predicted_probas)\n",
    "\n",
    "print(\"\\n\\nTEST RESULTS:\\n\")\n",
    "y_pred = tuned_model6.predict(x_te)\n",
    "predicted_probas = tuned_model6.predict_proba(x_te)\n",
    "model_metrics(y_pred, y_test, predicted_probas)\n",
    "\n",
    "print(\"\\n\\nOOT RESULTS:\\n\")\n",
    "y_pred = tuned_model6.predict(x_oo)\n",
    "predicted_probas = tuned_model6.predict_proba(x_oo)\n",
    "model_metrics(y_pred, y_oot, predicted_probas)"
   ]
  },
  {
   "cell_type": "code",
   "execution_count": null,
   "metadata": {},
   "outputs": [],
   "source": [
    "# tuned model - increasing class weight to 5 from 7\n",
    "top_features = feature_imp_df[:25]['feature'].to_list()\n",
    "x_tr = x_train[top_features]\n",
    "x_te = x_test[top_features]\n",
    "x_oo = x_oot[top_features]\n",
    "\n",
    "\n",
    "tuned_model6 = XGBClassifier(max_depth=3, colsample_bytree=1 ,subsample=1 ,scale_pos_weight=5 ,learning_rate=0.1 \n",
    "                            ,random_state=3)\n",
    "tuned_model6.fit(x_tr, y_train)\n",
    "\n",
    "print(\"TRAIN RESULTS:\\n\")\n",
    "y_pred = tuned_model6.predict(x_tr)\n",
    "predicted_probas = tuned_model6.predict_proba(x_tr)\n",
    "model_metrics(y_pred, y_train, predicted_probas)\n",
    "\n",
    "print(\"\\n\\nTEST RESULTS:\\n\")\n",
    "y_pred = tuned_model6.predict(x_te)\n",
    "predicted_probas = tuned_model6.predict_proba(x_te)\n",
    "model_metrics(y_pred, y_test, predicted_probas)\n",
    "\n",
    "print(\"\\n\\nOOT RESULTS:\\n\")\n",
    "y_pred = tuned_model6.predict(x_oo)\n",
    "predicted_probas = tuned_model6.predict_proba(x_oo)\n",
    "model_metrics(y_pred, y_oot, predicted_probas)"
   ]
  },
  {
   "cell_type": "code",
   "execution_count": null,
   "metadata": {},
   "outputs": [],
   "source": [
    "# tuned model - increasing class weight to 5 from 7\n",
    "top_features = feature_imp_df[:25]['feature'].to_list()\n",
    "x_tr = x_train[top_features]\n",
    "x_te = x_test[top_features]\n",
    "x_oo = x_oot[top_features]\n",
    "\n",
    "\n",
    "tuned_model6 = XGBClassifier(max_depth=3, colsample_bytree=1 ,subsample=1 ,scale_pos_weight=7 ,learning_rate=0.1 \n",
    "                            ,random_state=3, n_estimators=1000)\n",
    "tuned_model6.fit(x_tr, y_train)\n",
    "\n",
    "print(\"TRAIN RESULTS:\\n\")\n",
    "y_pred = tuned_model6.predict(x_tr)\n",
    "predicted_probas = tuned_model6.predict_proba(x_tr)\n",
    "model_metrics(y_pred, y_train, predicted_probas)\n",
    "\n",
    "print(\"\\n\\nTEST RESULTS:\\n\")\n",
    "y_pred = tuned_model6.predict(x_te)\n",
    "predicted_probas = tuned_model6.predict_proba(x_te)\n",
    "model_metrics(y_pred, y_test, predicted_probas)\n",
    "\n",
    "print(\"\\n\\nOOT RESULTS:\\n\")\n",
    "y_pred = tuned_model6.predict(x_oo)\n",
    "predicted_probas = tuned_model6.predict_proba(x_oo)\n",
    "model_metrics(y_pred, y_oot, predicted_probas)"
   ]
  },
  {
   "cell_type": "code",
   "execution_count": null,
   "metadata": {},
   "outputs": [],
   "source": []
  },
  {
   "cell_type": "code",
   "execution_count": null,
   "metadata": {},
   "outputs": [],
   "source": []
  },
  {
   "cell_type": "code",
   "execution_count": null,
   "metadata": {},
   "outputs": [],
   "source": []
  },
  {
   "cell_type": "markdown",
   "metadata": {},
   "source": [
    "##### PSI"
   ]
  },
  {
   "cell_type": "code",
   "execution_count": null,
   "metadata": {},
   "outputs": [],
   "source": [
    "q = SQLQuery('snowflake')"
   ]
  },
  {
   "cell_type": "code",
   "execution_count": null,
   "metadata": {},
   "outputs": [],
   "source": [
    "df_score_v1 = q(\"\"\"\n",
    "                select application_id,\n",
    "                 pred_prob\n",
    "          from \"PROD_DB\".\"DATA\".\"APPLICATIONS\"\n",
    "          where date(application_complete_datetime) between '2022-01-01' and '2023-01-31'\n",
    "\"\"\")"
   ]
  },
  {
   "cell_type": "code",
   "execution_count": null,
   "metadata": {},
   "outputs": [],
   "source": [
    "prob_tr = tuned_model6.predict_proba(x_tr)[:,1:].flatten()\n",
    "prob_te = tuned_model6.predict_proba(x_te)[:,1:].flatten()\n",
    "prob_oo = tuned_model6.predict_proba(x_oo)[:,1:].flatten()\n",
    "prob_v2 = np.concatenate([prob_oo,prob_te,prob_tr])"
   ]
  },
  {
   "cell_type": "code",
   "execution_count": null,
   "metadata": {},
   "outputs": [],
   "source": [
    "psi_score, psi_df = novo_ml_metrics.psi_equal_frequency(actual=df_score_v1.pred_prob.values, expected=prob_v2, \n",
    "                                                        plot=True)\n",
    "print(psi_score)\n"
   ]
  },
  {
   "cell_type": "code",
   "execution_count": null,
   "metadata": {},
   "outputs": [],
   "source": [
    "psi_score, psi_df = novo_ml_metrics.psi_equal_width(actual=df_score_v1.pred_prob.values, expected=prob_v2, \n",
    "                                                        plot=True)\n",
    "print(psi_score)\n"
   ]
  },
  {
   "cell_type": "code",
   "execution_count": null,
   "metadata": {},
   "outputs": [],
   "source": []
  },
  {
   "cell_type": "code",
   "execution_count": null,
   "metadata": {},
   "outputs": [],
   "source": []
  },
  {
   "cell_type": "markdown",
   "metadata": {},
   "source": [
    "#### Feature elimination"
   ]
  },
  {
   "cell_type": "code",
   "execution_count": null,
   "metadata": {},
   "outputs": [],
   "source": [
    "# tuned model\n",
    "tuned_model_final = XGBClassifier(max_depth=3, colsample_bytree=1 ,subsample=1 ,scale_pos_weight=7 ,learning_rate=0.1 \n",
    "                            ,random_state=3)"
   ]
  },
  {
   "cell_type": "code",
   "execution_count": null,
   "metadata": {
    "scrolled": true
   },
   "outputs": [],
   "source": [
    "max_features = 398\n",
    "num_features_to_remove = len(independent_features) - max_features\n",
    "\n",
    "for i in range(0, num_features_to_remove):\n",
    "    # train the model\n",
    "    x_train = x_train[independent_features]\n",
    "    tuned_model_final.fit(x_train, y_train)\n",
    "    if (len(independent_features)) == max_features:\n",
    "        break\n",
    "    # get feature importance\n",
    "    imp_df = pd.DataFrame(tuned_model_final.get_booster().get_score(importance_type='total_gain').items(), columns=['feature', 'importance'])\n",
    "    # remove the least important feature\n",
    "    feature_to_remove = imp_df.sort_values(by='importance', ascending=False).iloc[-1]['feature']\n",
    "    print('feature removed:', feature_to_remove)\n",
    "    independent_features.remove(feature_to_remove)\n",
    "print('final features:', independent_features)"
   ]
  },
  {
   "cell_type": "code",
   "execution_count": null,
   "metadata": {},
   "outputs": [],
   "source": []
  },
  {
   "cell_type": "code",
   "execution_count": null,
   "metadata": {},
   "outputs": [],
   "source": [
    "print(\"TRAIN RESULTS:\\n\")\n",
    "y_pred = tuned_model_final.predict(x_train)\n",
    "predicted_probas = tuned_model_final.predict_proba(x_train)\n",
    "model_metrics(y_pred, y_train, predicted_probas)\n",
    "\n",
    "print(\"\\n\\nTEST RESULTS:\\n\")\n",
    "y_pred = tuned_model_final.predict(x_test)\n",
    "predicted_probas = tuned_model_final.predict_proba(x_test)\n",
    "model_metrics(y_pred, y_test, predicted_probas)\n",
    "\n",
    "print(\"\\n\\nOOT RESULTS:\\n\")\n",
    "y_pred = tuned_model_final.predict(x_oot)\n",
    "predicted_probas = tuned_model_final.predict_proba(x_oot)\n",
    "model_metrics(y_pred, y_oot, predicted_probas)"
   ]
  },
  {
   "cell_type": "code",
   "execution_count": null,
   "metadata": {},
   "outputs": [],
   "source": []
  },
  {
   "cell_type": "code",
   "execution_count": null,
   "metadata": {},
   "outputs": [],
   "source": []
  },
  {
   "cell_type": "markdown",
   "metadata": {},
   "source": [
    "#### Hyperparameter tuning"
   ]
  },
  {
   "cell_type": "code",
   "execution_count": null,
   "metadata": {},
   "outputs": [],
   "source": [
    "y_train.shape, y_test.shape"
   ]
  },
  {
   "cell_type": "code",
   "execution_count": null,
   "metadata": {},
   "outputs": [],
   "source": [
    "t.shape, sum(t), t[84554+36639]"
   ]
  },
  {
   "cell_type": "code",
   "execution_count": null,
   "metadata": {
    "scrolled": true
   },
   "outputs": [],
   "source": [
    "# y_test[y_test==1]"
   ]
  },
  {
   "cell_type": "code",
   "execution_count": null,
   "metadata": {},
   "outputs": [],
   "source": [
    "estimator = XGBClassifier(random_state=3)\n",
    "\n",
    "parameters = {\n",
    "    'max_depth': range (2, 5, 1),\n",
    "    'learning_rate': [0.05, 0.1, 0.15],\n",
    "#     'subsample': [0.8, 1],\n",
    "#     'colsample_bytree' : [0.8, 1],\n",
    "    'scale_pos_weight' : range(4, 8, 1)\n",
    "}\n",
    "\n",
    "x_train_test = pd.concat([x_train, x_test], axis=0).reset_index(drop=True)\n",
    "y_train_test = np.concatenate([y_train, y_test], axis=0)\n",
    "\n",
    "best_model = tune_hyperparameters(x_train_test, y_train_test, estimator, parameters, metric='roc_auc', cv_folds=3)\n",
    "\n",
    "# best_model.save_model(\"best_model.json\")"
   ]
  },
  {
   "cell_type": "code",
   "execution_count": null,
   "metadata": {},
   "outputs": [],
   "source": [
    "# # best_model parameters\n",
    "\n",
    "# XGBClassifier(base_score=0.5, booster='gbtree', colsample_bylevel=1,\n",
    "#               colsample_bynode=1, colsample_bytree=1, enable_categorical=False,\n",
    "#               gamma=0, gpu_id=-1, importance_type=None,\n",
    "#               interaction_constraints='', learning_rate=0.1, max_delta_step=0,\n",
    "#               max_depth=4, min_child_weight=1, missing=nan,\n",
    "#               monotone_constraints='()', n_estimators=100, n_jobs=8,\n",
    "#               num_parallel_tree=1, predictor='auto', random_state=3,\n",
    "#               reg_alpha=0, reg_lambda=1, scale_pos_weight=6, subsample=1,\n",
    "#               tree_method='exact', validate_parameters=1, verbosity=None)\n",
    "\n",
    "best_model"
   ]
  },
  {
   "cell_type": "code",
   "execution_count": null,
   "metadata": {},
   "outputs": [],
   "source": [
    "print(\"TRAIN RESULTS:\\n\")\n",
    "y_pred = best_model.predict(x_train)\n",
    "predicted_probas = best_model.predict_proba(x_train)\n",
    "model_metrics(y_pred, y_train, predicted_probas)\n",
    "\n",
    "print(\"\\n\\nTEST RESULTS:\\n\")\n",
    "y_pred = best_model.predict(x_test)\n",
    "predicted_probas = best_model.predict_proba(x_test)\n",
    "model_metrics(y_pred, y_test, predicted_probas)\n",
    "\n",
    "print(\"\\n\\nOOT RESULTS:\\n\")\n",
    "y_pred = best_model.predict(x_oot)\n",
    "predicted_probas = best_model.predict_proba(x_oot)\n",
    "model_metrics(y_pred, y_oot, predicted_probas)"
   ]
  },
  {
   "cell_type": "code",
   "execution_count": null,
   "metadata": {
    "scrolled": true
   },
   "outputs": [],
   "source": [
    "best_model2 = XGBClassifier(random_state=3, max_depth=4, scale_pos_weight=6, learning_rate=0.1)\n",
    "best_model2.fit(x_train, y_train)\n",
    "\n",
    "print(\"TRAIN RESULTS:\\n\")\n",
    "y_pred = best_model2.predict(x_train)\n",
    "predicted_probas = best_model2.predict_proba(x_train)\n",
    "model_metrics(y_pred, y_train, predicted_probas)\n",
    "\n",
    "print(\"\\n\\nTEST RESULTS:\\n\")\n",
    "y_pred = best_model2.predict(x_test)\n",
    "predicted_probas = best_model2.predict_proba(x_test)\n",
    "model_metrics(y_pred, y_test, predicted_probas)\n",
    "\n",
    "print(\"\\n\\nOOT RESULTS:\\n\")\n",
    "y_pred = best_model2.predict(x_oot)\n",
    "predicted_probas = best_model2.predict_proba(x_oot)\n",
    "model_metrics(y_pred, y_oot, predicted_probas)"
   ]
  },
  {
   "cell_type": "code",
   "execution_count": null,
   "metadata": {},
   "outputs": [],
   "source": []
  },
  {
   "cell_type": "code",
   "execution_count": null,
   "metadata": {
    "scrolled": true
   },
   "outputs": [],
   "source": [
    "feature_imp_df = pd.DataFrame(zip(x_train.columns.to_list(), best_model2.feature_importances_), columns=['feature','importance'])\n",
    "feature_imp_df = feature_imp_df.sort_values(by=['importance'], ascending=False).reset_index(drop=True)\n",
    "feature_imp_df[feature_imp_df.importance>=0.005]\n"
   ]
  },
  {
   "cell_type": "code",
   "execution_count": null,
   "metadata": {},
   "outputs": [],
   "source": []
  },
  {
   "cell_type": "code",
   "execution_count": null,
   "metadata": {},
   "outputs": [],
   "source": [
    "# tuned model - increasing class weight to 5 from 7\n",
    "top_features = feature_imp_df[:25]['feature'].to_list()\n",
    "x_tr = x_train[top_features]\n",
    "x_te = x_test[top_features]\n",
    "x_oo = x_oot[top_features]\n",
    "\n",
    "\n",
    "tuned_model6 = XGBClassifier(random_state=3, max_depth=4, scale_pos_weight=6, learning_rate=0.1)\n",
    "tuned_model6.fit(x_tr, y_train)\n",
    "\n",
    "print(\"TRAIN RESULTS:\\n\")\n",
    "y_pred = tuned_model6.predict(x_tr)\n",
    "predicted_probas = tuned_model6.predict_proba(x_tr)\n",
    "model_metrics(y_pred, y_train, predicted_probas)\n",
    "\n",
    "print(\"\\n\\nTEST RESULTS:\\n\")\n",
    "y_pred = tuned_model6.predict(x_te)\n",
    "predicted_probas = tuned_model6.predict_proba(x_te)\n",
    "model_metrics(y_pred, y_test, predicted_probas)\n",
    "\n",
    "print(\"\\n\\nOOT RESULTS:\\n\")\n",
    "y_pred = tuned_model6.predict(x_oo)\n",
    "predicted_probas = tuned_model6.predict_proba(x_oo)\n",
    "model_metrics(y_pred, y_oot, predicted_probas)"
   ]
  },
  {
   "cell_type": "code",
   "execution_count": null,
   "metadata": {},
   "outputs": [],
   "source": []
  },
  {
   "cell_type": "code",
   "execution_count": null,
   "metadata": {},
   "outputs": [],
   "source": []
  },
  {
   "cell_type": "code",
   "execution_count": null,
   "metadata": {},
   "outputs": [],
   "source": []
  },
  {
   "cell_type": "code",
   "execution_count": null,
   "metadata": {},
   "outputs": [],
   "source": []
  },
  {
   "cell_type": "markdown",
   "metadata": {},
   "source": [
    "##### Increasing class weight increasing increases recall and decreases precision and otherwise"
   ]
  },
  {
   "cell_type": "markdown",
   "metadata": {},
   "source": [
    "#### Save model object"
   ]
  },
  {
   "cell_type": "code",
   "execution_count": null,
   "metadata": {},
   "outputs": [],
   "source": [
    "# file_name = \"nsql_model_v1.pkl\"\n",
    "# path = project_path + 'models/'\n",
    "# pickle.dump(tuned_model, open(path + file_name, \"wb\"))"
   ]
  },
  {
   "cell_type": "code",
   "execution_count": null,
   "metadata": {},
   "outputs": [],
   "source": []
  },
  {
   "cell_type": "markdown",
   "metadata": {},
   "source": [
    "ADHOC"
   ]
  },
  {
   "cell_type": "code",
   "execution_count": 86,
   "metadata": {},
   "outputs": [],
   "source": [
    "# test = pd.read_excel('../../../../../slack_downloads/Account Closures Jun 1.xlsx')\n",
    "\n",
    "# from sqlalchemy.types import NVARCHAR\n",
    "# # write the new applications to db\n",
    "# test.to_sql(name='testing_fraud_scores',\n",
    "#                  con=q.engine, \n",
    "#                  schema='prod_db.adhoc',\n",
    "#                  if_exists='append', \n",
    "#                  index=False, \n",
    "#                  chunksize=16000, \n",
    "#                  method='multi',\n",
    "#                  dtype={col_name: NVARCHAR for col_name in test})"
   ]
  },
  {
   "cell_type": "code",
   "execution_count": 87,
   "metadata": {},
   "outputs": [
    {
     "data": {
      "text/plain": [
       "(115, 4)"
      ]
     },
     "execution_count": 87,
     "metadata": {},
     "output_type": "execute_result"
    }
   ],
   "source": [
    "# test.shape"
   ]
  },
  {
   "cell_type": "code",
   "execution_count": null,
   "metadata": {},
   "outputs": [],
   "source": []
  }
 ],
 "metadata": {
  "kernelspec": {
   "display_name": "Python 3 (ipykernel)",
   "language": "python",
   "name": "python3"
  },
  "language_info": {
   "codemirror_mode": {
    "name": "ipython",
    "version": 3
   },
   "file_extension": ".py",
   "mimetype": "text/x-python",
   "name": "python",
   "nbconvert_exporter": "python",
   "pygments_lexer": "ipython3",
   "version": "3.9.2"
  },
  "vscode": {
   "interpreter": {
    "hash": "5fa8e7a0e7c7188de72acea4ae1bc222d1770499c4c3d36ce32843ef46b20053"
   }
  }
 },
 "nbformat": 4,
 "nbformat_minor": 2
}
